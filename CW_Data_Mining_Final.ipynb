{
 "cells": [
  {
   "cell_type": "code",
   "execution_count": 3,
   "id": "b0934bea",
   "metadata": {},
   "outputs": [
    {
     "name": "stdout",
     "output_type": "stream",
     "text": [
      "Requirement already satisfied: imbalanced-learn in c:\\users\\pasit\\anaconda3\\lib\\site-packages (0.9.1)\n",
      "Requirement already satisfied: scipy>=1.3.2 in c:\\users\\pasit\\anaconda3\\lib\\site-packages (from imbalanced-learn) (1.6.2)\n",
      "Requirement already satisfied: joblib>=1.0.0 in c:\\users\\pasit\\anaconda3\\lib\\site-packages (from imbalanced-learn) (1.0.1)\n",
      "Requirement already satisfied: numpy>=1.17.3 in c:\\users\\pasit\\anaconda3\\lib\\site-packages (from imbalanced-learn) (1.20.1)\n",
      "Requirement already satisfied: scikit-learn>=1.1.0 in c:\\users\\pasit\\anaconda3\\lib\\site-packages (from imbalanced-learn) (1.1.0)\n",
      "Requirement already satisfied: threadpoolctl>=2.0.0 in c:\\users\\pasit\\anaconda3\\lib\\site-packages (from imbalanced-learn) (2.1.0)\n",
      "Note: you may need to restart the kernel to use updated packages.\n"
     ]
    }
   ],
   "source": [
    "pip install imbalanced-learn"
   ]
  },
  {
   "cell_type": "code",
   "execution_count": 4,
   "id": "bdb3592b",
   "metadata": {},
   "outputs": [
    {
     "name": "stdout",
     "output_type": "stream",
     "text": [
      "Requirement already satisfied: keras in c:\\users\\pasit\\anaconda3\\lib\\site-packages (2.9.0)\n",
      "Note: you may need to restart the kernel to use updated packages.\n"
     ]
    }
   ],
   "source": [
    "pip install keras"
   ]
  },
  {
   "cell_type": "code",
   "execution_count": 5,
   "id": "618290c5",
   "metadata": {},
   "outputs": [
    {
     "name": "stdout",
     "output_type": "stream",
     "text": [
      "Requirement already satisfied: tensorflow in c:\\users\\pasit\\anaconda3\\lib\\site-packages (2.9.0)\n",
      "Requirement already satisfied: google-pasta>=0.1.1 in c:\\users\\pasit\\anaconda3\\lib\\site-packages (from tensorflow) (0.2.0)\n",
      "Requirement already satisfied: wrapt>=1.11.0 in c:\\users\\pasit\\anaconda3\\lib\\site-packages (from tensorflow) (1.12.1)\n",
      "Requirement already satisfied: keras<2.10.0,>=2.9.0rc0 in c:\\users\\pasit\\anaconda3\\lib\\site-packages (from tensorflow) (2.9.0)\n",
      "Requirement already satisfied: astunparse>=1.6.0 in c:\\users\\pasit\\anaconda3\\lib\\site-packages (from tensorflow) (1.6.3)\n",
      "Requirement already satisfied: protobuf>=3.9.2 in c:\\users\\pasit\\anaconda3\\lib\\site-packages (from tensorflow) (3.20.1)\n",
      "Requirement already satisfied: numpy>=1.20 in c:\\users\\pasit\\anaconda3\\lib\\site-packages (from tensorflow) (1.20.1)\n",
      "Requirement already satisfied: absl-py>=1.0.0 in c:\\users\\pasit\\anaconda3\\lib\\site-packages (from tensorflow) (1.0.0)\n",
      "Requirement already satisfied: flatbuffers<2,>=1.12 in c:\\users\\pasit\\anaconda3\\lib\\site-packages (from tensorflow) (1.12)\n",
      "Requirement already satisfied: keras-preprocessing>=1.1.1 in c:\\users\\pasit\\anaconda3\\lib\\site-packages (from tensorflow) (1.1.2)\n",
      "Requirement already satisfied: six>=1.12.0 in c:\\users\\pasit\\anaconda3\\lib\\site-packages (from tensorflow) (1.15.0)\n",
      "Requirement already satisfied: h5py>=2.9.0 in c:\\users\\pasit\\anaconda3\\lib\\site-packages (from tensorflow) (2.10.0)\n",
      "Requirement already satisfied: tensorflow-io-gcs-filesystem>=0.23.1 in c:\\users\\pasit\\anaconda3\\lib\\site-packages (from tensorflow) (0.26.0)\n",
      "Requirement already satisfied: opt-einsum>=2.3.2 in c:\\users\\pasit\\anaconda3\\lib\\site-packages (from tensorflow) (3.3.0)\n",
      "Requirement already satisfied: setuptools in c:\\users\\pasit\\anaconda3\\lib\\site-packages (from tensorflow) (52.0.0.post20210125)\n",
      "Requirement already satisfied: grpcio<2.0,>=1.24.3 in c:\\users\\pasit\\anaconda3\\lib\\site-packages (from tensorflow) (1.44.0)\n",
      "Requirement already satisfied: typing-extensions>=3.6.6 in c:\\users\\pasit\\anaconda3\\lib\\site-packages (from tensorflow) (4.2.0)\n",
      "Requirement already satisfied: gast<=0.4.0,>=0.2.1 in c:\\users\\pasit\\anaconda3\\lib\\site-packages (from tensorflow) (0.4.0)\n",
      "Requirement already satisfied: libclang>=13.0.0 in c:\\users\\pasit\\anaconda3\\lib\\site-packages (from tensorflow) (14.0.1)\n",
      "Requirement already satisfied: packaging in c:\\users\\pasit\\anaconda3\\lib\\site-packages (from tensorflow) (20.9)\n",
      "Requirement already satisfied: termcolor>=1.1.0 in c:\\users\\pasit\\anaconda3\\lib\\site-packages (from tensorflow) (1.1.0)\n",
      "Requirement already satisfied: tensorboard<2.10,>=2.9 in c:\\users\\pasit\\anaconda3\\lib\\site-packages (from tensorflow) (2.9.0)\n",
      "Requirement already satisfied: tensorflow-estimator<2.10.0,>=2.9.0rc0 in c:\\users\\pasit\\anaconda3\\lib\\site-packages (from tensorflow) (2.9.0)\n",
      "Requirement already satisfied: wheel<1.0,>=0.23.0 in c:\\users\\pasit\\anaconda3\\lib\\site-packages (from astunparse>=1.6.0->tensorflow) (0.36.2)\n",
      "Requirement already satisfied: google-auth<3,>=1.6.3 in c:\\users\\pasit\\anaconda3\\lib\\site-packages (from tensorboard<2.10,>=2.9->tensorflow) (2.6.6)\n",
      "Requirement already satisfied: tensorboard-plugin-wit>=1.6.0 in c:\\users\\pasit\\anaconda3\\lib\\site-packages (from tensorboard<2.10,>=2.9->tensorflow) (1.8.1)\n",
      "Requirement already satisfied: werkzeug>=1.0.1 in c:\\users\\pasit\\anaconda3\\lib\\site-packages (from tensorboard<2.10,>=2.9->tensorflow) (1.0.1)\n",
      "Requirement already satisfied: tensorboard-data-server<0.7.0,>=0.6.0 in c:\\users\\pasit\\anaconda3\\lib\\site-packages (from tensorboard<2.10,>=2.9->tensorflow) (0.6.1)\n",
      "Requirement already satisfied: google-auth-oauthlib<0.5,>=0.4.1 in c:\\users\\pasit\\anaconda3\\lib\\site-packages (from tensorboard<2.10,>=2.9->tensorflow) (0.4.6)\n",
      "Requirement already satisfied: markdown>=2.6.8 in c:\\users\\pasit\\anaconda3\\lib\\site-packages (from tensorboard<2.10,>=2.9->tensorflow) (3.3.6)\n",
      "Requirement already satisfied: requests<3,>=2.21.0 in c:\\users\\pasit\\anaconda3\\lib\\site-packages (from tensorboard<2.10,>=2.9->tensorflow) (2.25.1)\n",
      "Requirement already satisfied: pyasn1-modules>=0.2.1 in c:\\users\\pasit\\anaconda3\\lib\\site-packages (from google-auth<3,>=1.6.3->tensorboard<2.10,>=2.9->tensorflow) (0.2.8)\n",
      "Requirement already satisfied: cachetools<6.0,>=2.0.0 in c:\\users\\pasit\\anaconda3\\lib\\site-packages (from google-auth<3,>=1.6.3->tensorboard<2.10,>=2.9->tensorflow) (5.0.0)\n",
      "Requirement already satisfied: rsa<5,>=3.1.4 in c:\\users\\pasit\\anaconda3\\lib\\site-packages (from google-auth<3,>=1.6.3->tensorboard<2.10,>=2.9->tensorflow) (4.8)\n",
      "Requirement already satisfied: requests-oauthlib>=0.7.0 in c:\\users\\pasit\\anaconda3\\lib\\site-packages (from google-auth-oauthlib<0.5,>=0.4.1->tensorboard<2.10,>=2.9->tensorflow) (1.3.1)\n",
      "Requirement already satisfied: importlib-metadata>=4.4 in c:\\users\\pasit\\anaconda3\\lib\\site-packages (from markdown>=2.6.8->tensorboard<2.10,>=2.9->tensorflow) (4.11.3)\n",
      "Requirement already satisfied: zipp>=0.5 in c:\\users\\pasit\\anaconda3\\lib\\site-packages (from importlib-metadata>=4.4->markdown>=2.6.8->tensorboard<2.10,>=2.9->tensorflow) (3.4.1)\n",
      "Requirement already satisfied: pyasn1<0.5.0,>=0.4.6 in c:\\users\\pasit\\anaconda3\\lib\\site-packages (from pyasn1-modules>=0.2.1->google-auth<3,>=1.6.3->tensorboard<2.10,>=2.9->tensorflow) (0.4.8)\n",
      "Requirement already satisfied: urllib3<1.27,>=1.21.1 in c:\\users\\pasit\\anaconda3\\lib\\site-packages (from requests<3,>=2.21.0->tensorboard<2.10,>=2.9->tensorflow) (1.26.4)\n",
      "Requirement already satisfied: certifi>=2017.4.17 in c:\\users\\pasit\\anaconda3\\lib\\site-packages (from requests<3,>=2.21.0->tensorboard<2.10,>=2.9->tensorflow) (2020.12.5)\n",
      "Requirement already satisfied: chardet<5,>=3.0.2 in c:\\users\\pasit\\anaconda3\\lib\\site-packages (from requests<3,>=2.21.0->tensorboard<2.10,>=2.9->tensorflow) (4.0.0)\n",
      "Requirement already satisfied: idna<3,>=2.5 in c:\\users\\pasit\\anaconda3\\lib\\site-packages (from requests<3,>=2.21.0->tensorboard<2.10,>=2.9->tensorflow) (2.10)\n",
      "Requirement already satisfied: oauthlib>=3.0.0 in c:\\users\\pasit\\anaconda3\\lib\\site-packages (from requests-oauthlib>=0.7.0->google-auth-oauthlib<0.5,>=0.4.1->tensorboard<2.10,>=2.9->tensorflow) (3.2.0)\n",
      "Requirement already satisfied: pyparsing>=2.0.2 in c:\\users\\pasit\\anaconda3\\lib\\site-packages (from packaging->tensorflow) (2.4.7)\n",
      "Note: you may need to restart the kernel to use updated packages.\n"
     ]
    }
   ],
   "source": [
    "pip install tensorflow"
   ]
  },
  {
   "cell_type": "code",
   "execution_count": 146,
   "id": "7c687ccd",
   "metadata": {},
   "outputs": [],
   "source": [
    "import numpy as np\n",
    "import matplotlib.pyplot as plt\n",
    "import pandas as pd\n",
    "import scipy.io as scp\n",
    "import math\n",
    "import statistics\n",
    "import seaborn as sns\n",
    "import sklearn\n",
    "import tensorflow\n",
    "import keras\n",
    "\n",
    "from matplotlib.patches import Polygon\n",
    "from scipy.stats import anderson\n",
    "from scipy.stats import shapiro\n",
    "from scipy import stats\n",
    "from statistics import stdev\n",
    "from numpy.random import randn\n",
    "from numpy.random import seed\n",
    "from scipy.stats import spearmanr\n",
    "from scipy.stats import pearsonr\n",
    "\n",
    "from sklearn import linear_model\n",
    "from sklearn.metrics import mean_squared_error, r2_score\n",
    "from sklearn.metrics import mean_absolute_error\n",
    "\n",
    "import numpy as np\n",
    "from sklearn.decomposition import PCA\n",
    "from sklearn.preprocessing import StandardScaler\n",
    "from imblearn.over_sampling import SMOTE"
   ]
  },
  {
   "cell_type": "code",
   "execution_count": 7,
   "id": "a6c608b4",
   "metadata": {},
   "outputs": [
    {
     "name": "stdout",
     "output_type": "stream",
     "text": [
      "1.1.0\n"
     ]
    }
   ],
   "source": [
    "print(sklearn.__version__)"
   ]
  },
  {
   "cell_type": "code",
   "execution_count": 8,
   "id": "12566d02",
   "metadata": {},
   "outputs": [],
   "source": [
    "datainput = pd.read_excel(\"dengue_features_train.xlsx\")"
   ]
  },
  {
   "cell_type": "code",
   "execution_count": 9,
   "id": "ed2d1bde",
   "metadata": {},
   "outputs": [
    {
     "data": {
      "text/html": [
       "<div>\n",
       "<style scoped>\n",
       "    .dataframe tbody tr th:only-of-type {\n",
       "        vertical-align: middle;\n",
       "    }\n",
       "\n",
       "    .dataframe tbody tr th {\n",
       "        vertical-align: top;\n",
       "    }\n",
       "\n",
       "    .dataframe thead th {\n",
       "        text-align: right;\n",
       "    }\n",
       "</style>\n",
       "<table border=\"1\" class=\"dataframe\">\n",
       "  <thead>\n",
       "    <tr style=\"text-align: right;\">\n",
       "      <th></th>\n",
       "      <th>city</th>\n",
       "      <th>year</th>\n",
       "      <th>weekofyear</th>\n",
       "      <th>week_start_date</th>\n",
       "      <th>ndvi_ne</th>\n",
       "      <th>ndvi_nw</th>\n",
       "      <th>ndvi_se</th>\n",
       "      <th>ndvi_sw</th>\n",
       "      <th>precipitation_amt_mm</th>\n",
       "      <th>reanalysis_air_temp_k</th>\n",
       "      <th>...</th>\n",
       "      <th>reanalysis_precip_amt_kg_per_m2</th>\n",
       "      <th>reanalysis_relative_humidity_percent</th>\n",
       "      <th>reanalysis_sat_precip_amt_mm</th>\n",
       "      <th>reanalysis_specific_humidity_g_per_kg</th>\n",
       "      <th>reanalysis_tdtr_k</th>\n",
       "      <th>station_avg_temp_c</th>\n",
       "      <th>station_diur_temp_rng_c</th>\n",
       "      <th>station_max_temp_c</th>\n",
       "      <th>station_min_temp_c</th>\n",
       "      <th>station_precip_mm</th>\n",
       "    </tr>\n",
       "  </thead>\n",
       "  <tbody>\n",
       "    <tr>\n",
       "      <th>0</th>\n",
       "      <td>sj</td>\n",
       "      <td>1990</td>\n",
       "      <td>18</td>\n",
       "      <td>1990-04-30</td>\n",
       "      <td>0.122600</td>\n",
       "      <td>0.103725</td>\n",
       "      <td>0.198483</td>\n",
       "      <td>0.177617</td>\n",
       "      <td>12.42</td>\n",
       "      <td>297.572857</td>\n",
       "      <td>...</td>\n",
       "      <td>32.00</td>\n",
       "      <td>73.365714</td>\n",
       "      <td>12.42</td>\n",
       "      <td>14.012857</td>\n",
       "      <td>2.628571</td>\n",
       "      <td>25.442857</td>\n",
       "      <td>6.900000</td>\n",
       "      <td>29.4</td>\n",
       "      <td>20.0</td>\n",
       "      <td>16.0</td>\n",
       "    </tr>\n",
       "    <tr>\n",
       "      <th>1</th>\n",
       "      <td>sj</td>\n",
       "      <td>1990</td>\n",
       "      <td>19</td>\n",
       "      <td>1990-05-07</td>\n",
       "      <td>0.169900</td>\n",
       "      <td>0.142175</td>\n",
       "      <td>0.162357</td>\n",
       "      <td>0.155486</td>\n",
       "      <td>22.82</td>\n",
       "      <td>298.211429</td>\n",
       "      <td>...</td>\n",
       "      <td>17.94</td>\n",
       "      <td>77.368571</td>\n",
       "      <td>22.82</td>\n",
       "      <td>15.372857</td>\n",
       "      <td>2.371429</td>\n",
       "      <td>26.714286</td>\n",
       "      <td>6.371429</td>\n",
       "      <td>31.7</td>\n",
       "      <td>22.2</td>\n",
       "      <td>8.6</td>\n",
       "    </tr>\n",
       "    <tr>\n",
       "      <th>2</th>\n",
       "      <td>sj</td>\n",
       "      <td>1990</td>\n",
       "      <td>20</td>\n",
       "      <td>1990-05-14</td>\n",
       "      <td>0.032250</td>\n",
       "      <td>0.172967</td>\n",
       "      <td>0.157200</td>\n",
       "      <td>0.170843</td>\n",
       "      <td>34.54</td>\n",
       "      <td>298.781429</td>\n",
       "      <td>...</td>\n",
       "      <td>26.10</td>\n",
       "      <td>82.052857</td>\n",
       "      <td>34.54</td>\n",
       "      <td>16.848571</td>\n",
       "      <td>2.300000</td>\n",
       "      <td>26.714286</td>\n",
       "      <td>6.485714</td>\n",
       "      <td>32.2</td>\n",
       "      <td>22.8</td>\n",
       "      <td>41.4</td>\n",
       "    </tr>\n",
       "    <tr>\n",
       "      <th>3</th>\n",
       "      <td>sj</td>\n",
       "      <td>1990</td>\n",
       "      <td>21</td>\n",
       "      <td>1990-05-21</td>\n",
       "      <td>0.128633</td>\n",
       "      <td>0.245067</td>\n",
       "      <td>0.227557</td>\n",
       "      <td>0.235886</td>\n",
       "      <td>15.36</td>\n",
       "      <td>298.987143</td>\n",
       "      <td>...</td>\n",
       "      <td>13.90</td>\n",
       "      <td>80.337143</td>\n",
       "      <td>15.36</td>\n",
       "      <td>16.672857</td>\n",
       "      <td>2.428571</td>\n",
       "      <td>27.471429</td>\n",
       "      <td>6.771429</td>\n",
       "      <td>33.3</td>\n",
       "      <td>23.3</td>\n",
       "      <td>4.0</td>\n",
       "    </tr>\n",
       "    <tr>\n",
       "      <th>4</th>\n",
       "      <td>sj</td>\n",
       "      <td>1990</td>\n",
       "      <td>22</td>\n",
       "      <td>1990-05-28</td>\n",
       "      <td>0.196200</td>\n",
       "      <td>0.262200</td>\n",
       "      <td>0.251200</td>\n",
       "      <td>0.247340</td>\n",
       "      <td>7.52</td>\n",
       "      <td>299.518571</td>\n",
       "      <td>...</td>\n",
       "      <td>12.20</td>\n",
       "      <td>80.460000</td>\n",
       "      <td>7.52</td>\n",
       "      <td>17.210000</td>\n",
       "      <td>3.014286</td>\n",
       "      <td>28.942857</td>\n",
       "      <td>9.371429</td>\n",
       "      <td>35.0</td>\n",
       "      <td>23.9</td>\n",
       "      <td>5.8</td>\n",
       "    </tr>\n",
       "    <tr>\n",
       "      <th>...</th>\n",
       "      <td>...</td>\n",
       "      <td>...</td>\n",
       "      <td>...</td>\n",
       "      <td>...</td>\n",
       "      <td>...</td>\n",
       "      <td>...</td>\n",
       "      <td>...</td>\n",
       "      <td>...</td>\n",
       "      <td>...</td>\n",
       "      <td>...</td>\n",
       "      <td>...</td>\n",
       "      <td>...</td>\n",
       "      <td>...</td>\n",
       "      <td>...</td>\n",
       "      <td>...</td>\n",
       "      <td>...</td>\n",
       "      <td>...</td>\n",
       "      <td>...</td>\n",
       "      <td>...</td>\n",
       "      <td>...</td>\n",
       "      <td>...</td>\n",
       "    </tr>\n",
       "    <tr>\n",
       "      <th>1451</th>\n",
       "      <td>iq</td>\n",
       "      <td>2010</td>\n",
       "      <td>21</td>\n",
       "      <td>2010-05-28</td>\n",
       "      <td>0.342750</td>\n",
       "      <td>0.318900</td>\n",
       "      <td>0.256343</td>\n",
       "      <td>0.292514</td>\n",
       "      <td>55.30</td>\n",
       "      <td>299.334286</td>\n",
       "      <td>...</td>\n",
       "      <td>45.00</td>\n",
       "      <td>88.765714</td>\n",
       "      <td>55.30</td>\n",
       "      <td>18.485714</td>\n",
       "      <td>9.800000</td>\n",
       "      <td>28.633333</td>\n",
       "      <td>11.933333</td>\n",
       "      <td>35.4</td>\n",
       "      <td>22.4</td>\n",
       "      <td>27.0</td>\n",
       "    </tr>\n",
       "    <tr>\n",
       "      <th>1452</th>\n",
       "      <td>iq</td>\n",
       "      <td>2010</td>\n",
       "      <td>22</td>\n",
       "      <td>2010-06-04</td>\n",
       "      <td>0.160157</td>\n",
       "      <td>0.160371</td>\n",
       "      <td>0.136043</td>\n",
       "      <td>0.225657</td>\n",
       "      <td>86.47</td>\n",
       "      <td>298.330000</td>\n",
       "      <td>...</td>\n",
       "      <td>207.10</td>\n",
       "      <td>91.600000</td>\n",
       "      <td>86.47</td>\n",
       "      <td>18.070000</td>\n",
       "      <td>7.471429</td>\n",
       "      <td>27.433333</td>\n",
       "      <td>10.500000</td>\n",
       "      <td>34.7</td>\n",
       "      <td>21.7</td>\n",
       "      <td>36.6</td>\n",
       "    </tr>\n",
       "    <tr>\n",
       "      <th>1453</th>\n",
       "      <td>iq</td>\n",
       "      <td>2010</td>\n",
       "      <td>23</td>\n",
       "      <td>2010-06-11</td>\n",
       "      <td>0.247057</td>\n",
       "      <td>0.146057</td>\n",
       "      <td>0.250357</td>\n",
       "      <td>0.233714</td>\n",
       "      <td>58.94</td>\n",
       "      <td>296.598571</td>\n",
       "      <td>...</td>\n",
       "      <td>50.60</td>\n",
       "      <td>94.280000</td>\n",
       "      <td>58.94</td>\n",
       "      <td>17.008571</td>\n",
       "      <td>7.500000</td>\n",
       "      <td>24.400000</td>\n",
       "      <td>6.900000</td>\n",
       "      <td>32.2</td>\n",
       "      <td>19.2</td>\n",
       "      <td>7.4</td>\n",
       "    </tr>\n",
       "    <tr>\n",
       "      <th>1454</th>\n",
       "      <td>iq</td>\n",
       "      <td>2010</td>\n",
       "      <td>24</td>\n",
       "      <td>2010-06-18</td>\n",
       "      <td>0.333914</td>\n",
       "      <td>0.245771</td>\n",
       "      <td>0.278886</td>\n",
       "      <td>0.325486</td>\n",
       "      <td>59.67</td>\n",
       "      <td>296.345714</td>\n",
       "      <td>...</td>\n",
       "      <td>62.33</td>\n",
       "      <td>94.660000</td>\n",
       "      <td>59.67</td>\n",
       "      <td>16.815714</td>\n",
       "      <td>7.871429</td>\n",
       "      <td>25.433333</td>\n",
       "      <td>8.733333</td>\n",
       "      <td>31.2</td>\n",
       "      <td>21.0</td>\n",
       "      <td>16.0</td>\n",
       "    </tr>\n",
       "    <tr>\n",
       "      <th>1455</th>\n",
       "      <td>iq</td>\n",
       "      <td>2010</td>\n",
       "      <td>25</td>\n",
       "      <td>2010-06-25</td>\n",
       "      <td>0.298186</td>\n",
       "      <td>0.232971</td>\n",
       "      <td>0.274214</td>\n",
       "      <td>0.315757</td>\n",
       "      <td>63.22</td>\n",
       "      <td>298.097143</td>\n",
       "      <td>...</td>\n",
       "      <td>36.90</td>\n",
       "      <td>89.082857</td>\n",
       "      <td>63.22</td>\n",
       "      <td>17.355714</td>\n",
       "      <td>11.014286</td>\n",
       "      <td>27.475000</td>\n",
       "      <td>9.900000</td>\n",
       "      <td>33.7</td>\n",
       "      <td>22.2</td>\n",
       "      <td>20.4</td>\n",
       "    </tr>\n",
       "  </tbody>\n",
       "</table>\n",
       "<p>1456 rows × 24 columns</p>\n",
       "</div>"
      ],
      "text/plain": [
       "     city  year  weekofyear week_start_date   ndvi_ne   ndvi_nw   ndvi_se  \\\n",
       "0      sj  1990          18      1990-04-30  0.122600  0.103725  0.198483   \n",
       "1      sj  1990          19      1990-05-07  0.169900  0.142175  0.162357   \n",
       "2      sj  1990          20      1990-05-14  0.032250  0.172967  0.157200   \n",
       "3      sj  1990          21      1990-05-21  0.128633  0.245067  0.227557   \n",
       "4      sj  1990          22      1990-05-28  0.196200  0.262200  0.251200   \n",
       "...   ...   ...         ...             ...       ...       ...       ...   \n",
       "1451   iq  2010          21      2010-05-28  0.342750  0.318900  0.256343   \n",
       "1452   iq  2010          22      2010-06-04  0.160157  0.160371  0.136043   \n",
       "1453   iq  2010          23      2010-06-11  0.247057  0.146057  0.250357   \n",
       "1454   iq  2010          24      2010-06-18  0.333914  0.245771  0.278886   \n",
       "1455   iq  2010          25      2010-06-25  0.298186  0.232971  0.274214   \n",
       "\n",
       "       ndvi_sw  precipitation_amt_mm  reanalysis_air_temp_k  ...  \\\n",
       "0     0.177617                 12.42             297.572857  ...   \n",
       "1     0.155486                 22.82             298.211429  ...   \n",
       "2     0.170843                 34.54             298.781429  ...   \n",
       "3     0.235886                 15.36             298.987143  ...   \n",
       "4     0.247340                  7.52             299.518571  ...   \n",
       "...        ...                   ...                    ...  ...   \n",
       "1451  0.292514                 55.30             299.334286  ...   \n",
       "1452  0.225657                 86.47             298.330000  ...   \n",
       "1453  0.233714                 58.94             296.598571  ...   \n",
       "1454  0.325486                 59.67             296.345714  ...   \n",
       "1455  0.315757                 63.22             298.097143  ...   \n",
       "\n",
       "      reanalysis_precip_amt_kg_per_m2  reanalysis_relative_humidity_percent  \\\n",
       "0                               32.00                             73.365714   \n",
       "1                               17.94                             77.368571   \n",
       "2                               26.10                             82.052857   \n",
       "3                               13.90                             80.337143   \n",
       "4                               12.20                             80.460000   \n",
       "...                               ...                                   ...   \n",
       "1451                            45.00                             88.765714   \n",
       "1452                           207.10                             91.600000   \n",
       "1453                            50.60                             94.280000   \n",
       "1454                            62.33                             94.660000   \n",
       "1455                            36.90                             89.082857   \n",
       "\n",
       "      reanalysis_sat_precip_amt_mm  reanalysis_specific_humidity_g_per_kg  \\\n",
       "0                            12.42                              14.012857   \n",
       "1                            22.82                              15.372857   \n",
       "2                            34.54                              16.848571   \n",
       "3                            15.36                              16.672857   \n",
       "4                             7.52                              17.210000   \n",
       "...                            ...                                    ...   \n",
       "1451                         55.30                              18.485714   \n",
       "1452                         86.47                              18.070000   \n",
       "1453                         58.94                              17.008571   \n",
       "1454                         59.67                              16.815714   \n",
       "1455                         63.22                              17.355714   \n",
       "\n",
       "      reanalysis_tdtr_k  station_avg_temp_c  station_diur_temp_rng_c  \\\n",
       "0              2.628571           25.442857                 6.900000   \n",
       "1              2.371429           26.714286                 6.371429   \n",
       "2              2.300000           26.714286                 6.485714   \n",
       "3              2.428571           27.471429                 6.771429   \n",
       "4              3.014286           28.942857                 9.371429   \n",
       "...                 ...                 ...                      ...   \n",
       "1451           9.800000           28.633333                11.933333   \n",
       "1452           7.471429           27.433333                10.500000   \n",
       "1453           7.500000           24.400000                 6.900000   \n",
       "1454           7.871429           25.433333                 8.733333   \n",
       "1455          11.014286           27.475000                 9.900000   \n",
       "\n",
       "      station_max_temp_c  station_min_temp_c  station_precip_mm  \n",
       "0                   29.4                20.0               16.0  \n",
       "1                   31.7                22.2                8.6  \n",
       "2                   32.2                22.8               41.4  \n",
       "3                   33.3                23.3                4.0  \n",
       "4                   35.0                23.9                5.8  \n",
       "...                  ...                 ...                ...  \n",
       "1451                35.4                22.4               27.0  \n",
       "1452                34.7                21.7               36.6  \n",
       "1453                32.2                19.2                7.4  \n",
       "1454                31.2                21.0               16.0  \n",
       "1455                33.7                22.2               20.4  \n",
       "\n",
       "[1456 rows x 24 columns]"
      ]
     },
     "execution_count": 9,
     "metadata": {},
     "output_type": "execute_result"
    }
   ],
   "source": [
    "datainput"
   ]
  },
  {
   "cell_type": "code",
   "execution_count": 10,
   "id": "c9864862",
   "metadata": {},
   "outputs": [],
   "source": [
    "dataoutput = pd.read_excel(\"dengue_labels_train.xlsx\")"
   ]
  },
  {
   "cell_type": "code",
   "execution_count": 11,
   "id": "34c9de6a",
   "metadata": {},
   "outputs": [
    {
     "data": {
      "text/html": [
       "<div>\n",
       "<style scoped>\n",
       "    .dataframe tbody tr th:only-of-type {\n",
       "        vertical-align: middle;\n",
       "    }\n",
       "\n",
       "    .dataframe tbody tr th {\n",
       "        vertical-align: top;\n",
       "    }\n",
       "\n",
       "    .dataframe thead th {\n",
       "        text-align: right;\n",
       "    }\n",
       "</style>\n",
       "<table border=\"1\" class=\"dataframe\">\n",
       "  <thead>\n",
       "    <tr style=\"text-align: right;\">\n",
       "      <th></th>\n",
       "      <th>city</th>\n",
       "      <th>year</th>\n",
       "      <th>weekofyear</th>\n",
       "      <th>total_cases</th>\n",
       "    </tr>\n",
       "  </thead>\n",
       "  <tbody>\n",
       "    <tr>\n",
       "      <th>0</th>\n",
       "      <td>sj</td>\n",
       "      <td>1990</td>\n",
       "      <td>18</td>\n",
       "      <td>4</td>\n",
       "    </tr>\n",
       "    <tr>\n",
       "      <th>1</th>\n",
       "      <td>sj</td>\n",
       "      <td>1990</td>\n",
       "      <td>19</td>\n",
       "      <td>5</td>\n",
       "    </tr>\n",
       "    <tr>\n",
       "      <th>2</th>\n",
       "      <td>sj</td>\n",
       "      <td>1990</td>\n",
       "      <td>20</td>\n",
       "      <td>4</td>\n",
       "    </tr>\n",
       "    <tr>\n",
       "      <th>3</th>\n",
       "      <td>sj</td>\n",
       "      <td>1990</td>\n",
       "      <td>21</td>\n",
       "      <td>3</td>\n",
       "    </tr>\n",
       "    <tr>\n",
       "      <th>4</th>\n",
       "      <td>sj</td>\n",
       "      <td>1990</td>\n",
       "      <td>22</td>\n",
       "      <td>6</td>\n",
       "    </tr>\n",
       "    <tr>\n",
       "      <th>...</th>\n",
       "      <td>...</td>\n",
       "      <td>...</td>\n",
       "      <td>...</td>\n",
       "      <td>...</td>\n",
       "    </tr>\n",
       "    <tr>\n",
       "      <th>1451</th>\n",
       "      <td>iq</td>\n",
       "      <td>2010</td>\n",
       "      <td>21</td>\n",
       "      <td>5</td>\n",
       "    </tr>\n",
       "    <tr>\n",
       "      <th>1452</th>\n",
       "      <td>iq</td>\n",
       "      <td>2010</td>\n",
       "      <td>22</td>\n",
       "      <td>8</td>\n",
       "    </tr>\n",
       "    <tr>\n",
       "      <th>1453</th>\n",
       "      <td>iq</td>\n",
       "      <td>2010</td>\n",
       "      <td>23</td>\n",
       "      <td>1</td>\n",
       "    </tr>\n",
       "    <tr>\n",
       "      <th>1454</th>\n",
       "      <td>iq</td>\n",
       "      <td>2010</td>\n",
       "      <td>24</td>\n",
       "      <td>1</td>\n",
       "    </tr>\n",
       "    <tr>\n",
       "      <th>1455</th>\n",
       "      <td>iq</td>\n",
       "      <td>2010</td>\n",
       "      <td>25</td>\n",
       "      <td>4</td>\n",
       "    </tr>\n",
       "  </tbody>\n",
       "</table>\n",
       "<p>1456 rows × 4 columns</p>\n",
       "</div>"
      ],
      "text/plain": [
       "     city  year  weekofyear  total_cases\n",
       "0      sj  1990          18            4\n",
       "1      sj  1990          19            5\n",
       "2      sj  1990          20            4\n",
       "3      sj  1990          21            3\n",
       "4      sj  1990          22            6\n",
       "...   ...   ...         ...          ...\n",
       "1451   iq  2010          21            5\n",
       "1452   iq  2010          22            8\n",
       "1453   iq  2010          23            1\n",
       "1454   iq  2010          24            1\n",
       "1455   iq  2010          25            4\n",
       "\n",
       "[1456 rows x 4 columns]"
      ]
     },
     "execution_count": 11,
     "metadata": {},
     "output_type": "execute_result"
    }
   ],
   "source": [
    "dataoutput"
   ]
  },
  {
   "cell_type": "code",
   "execution_count": 12,
   "id": "0f080c22",
   "metadata": {},
   "outputs": [],
   "source": [
    "df1 = datainput.interpolate(); #not mix nvdi"
   ]
  },
  {
   "cell_type": "code",
   "execution_count": 13,
   "id": "bc6a5ba6",
   "metadata": {},
   "outputs": [],
   "source": [
    "df2 = df1.assign(ndvi_north = (df1[\"ndvi_ne\"]+df1[\"ndvi_nw\"])/2)\n",
    "df_mix_ndvi = df2.assign(ndvi_south = (df1[\"ndvi_se\"]+df1[\"ndvi_sw\"])/2)  #mix ndvi\n",
    "df_mix_ndvi_1 = df_mix_ndvi.replace('sj', 0) \n",
    "df_mix_ndvi_2 = df_mix_ndvi_1.replace('iq', 1)\n",
    "df_mix_ndvi_3 = df_mix_ndvi_2.drop([\"ndvi_ne\", \"ndvi_nw\", \"ndvi_se\", \"ndvi_sw\",\"reanalysis_air_temp_k\",\"reanalysis_avg_temp_k\",\"reanalysis_dew_point_temp_k\",\"reanalysis_max_air_temp_k\", \"reanalysis_min_air_temp_k\",\"week_start_date\",\"reanalysis_sat_precip_amt_mm\",\"reanalysis_precip_amt_kg_per_m2\",\"reanalysis_relative_humidity_percent\", \"reanalysis_specific_humidity_g_per_kg\", \"reanalysis_tdtr_k\"], axis=1)\n",
    "df_mix_ndvi_4 = df_mix_ndvi_3\n",
    "df_mix_ndvi_4 = df_mix_ndvi_4.assign(total_cases = dataoutput[\"total_cases\"])\n",
    "df_mix_ndvi_exclude_forcast_value_final = df_mix_ndvi_4.sample(frac=1).reset_index(drop=True)"
   ]
  },
  {
   "cell_type": "code",
   "execution_count": 14,
   "id": "cf1cea79",
   "metadata": {},
   "outputs": [],
   "source": [
    "df2 = df1.assign(ndvi_north = (df1[\"ndvi_ne\"]+df1[\"ndvi_nw\"])/2)\n",
    "df_mix_ndvi = df2.assign(ndvi_south = (df1[\"ndvi_se\"]+df1[\"ndvi_sw\"])/2)  #mix ndvi\n",
    "df_mix_ndvi_1 = df_mix_ndvi.replace('sj', 0) \n",
    "df_mix_ndvi_2 = df_mix_ndvi_1.replace('iq', 1)\n",
    "df_mix_ndvi_3 = df_mix_ndvi_2.drop([\"ndvi_ne\", \"ndvi_nw\", \"ndvi_se\", \"ndvi_sw\",\"week_start_date\"], axis=1)\n",
    "df_mix_ndvi_4_include_forcast_value = df_mix_ndvi_3\n",
    "df_mix_ndvi_4_include_forcast_value = df_mix_ndvi_4_include_forcast_value.assign(total_cases = dataoutput[\"total_cases\"])\n",
    "df_mix_ndvi_include_forcast_value_final = df_mix_ndvi_4_include_forcast_value.sample(frac=1).reset_index(drop=True)"
   ]
  },
  {
   "cell_type": "code",
   "execution_count": 15,
   "id": "1c5aec6b",
   "metadata": {},
   "outputs": [],
   "source": [
    "df_normal_data_include_forcast_value_1 = df1.replace('sj', 0) \n",
    "df_normal_data_include_forcast_value_2 = df_normal_data_include_forcast_value_1.replace('iq', 1)\n",
    "df_normal_data_include_forcast_value_2 = df_normal_data_include_forcast_value_2.drop([\"week_start_date\"], axis=1)\n",
    "df_normal_data_include_forcast_value_3 = df_normal_data_include_forcast_value_2\n",
    "df_normal_data_include_forcast_value_3 = df_normal_data_include_forcast_value_3.assign(total_cases = dataoutput[\"total_cases\"])\n",
    "df_normal_data_include_forcast_value_final = df_normal_data_include_forcast_value_3.sample(frac=1).reset_index(drop=True)"
   ]
  },
  {
   "cell_type": "code",
   "execution_count": 16,
   "id": "f8cf5101",
   "metadata": {},
   "outputs": [],
   "source": [
    "df_normal_data_1 = df1.replace('sj', 0) \n",
    "df_normal_data_2 = df_normal_data_1.replace('iq', 1)\n",
    "df_normal_data_3 = df_normal_data_2.drop([\"reanalysis_air_temp_k\",\"reanalysis_avg_temp_k\",\"reanalysis_dew_point_temp_k\",\"reanalysis_max_air_temp_k\", \"reanalysis_min_air_temp_k\",\"week_start_date\",\"reanalysis_sat_precip_amt_mm\",\"reanalysis_precip_amt_kg_per_m2\",\"reanalysis_relative_humidity_percent\", \"reanalysis_specific_humidity_g_per_kg\", \"reanalysis_tdtr_k\"], axis=1)\n",
    "df_normal_data_4 = df_normal_data_3\n",
    "df_normal_data_4 = df_normal_data_4.assign(total_cases = dataoutput[\"total_cases\"])\n",
    "df_normal_data_exclude_forcast_value_final = df_normal_data_4.sample(frac=1).reset_index(drop=True)"
   ]
  },
  {
   "cell_type": "code",
   "execution_count": 17,
   "id": "4aece8bd",
   "metadata": {},
   "outputs": [],
   "source": [
    "#4 difference data structure\n",
    "#   df_mix_ndvi_exclude_forcast_value_final model 1\n",
    "#   df_mix_ndvi_include_forcast_value_final model 2\n",
    "#   df_normal_data_exclude_forcast_value_final model 3\n",
    "#   df_normal_data_include_forcast_value_final model 4"
   ]
  },
  {
   "cell_type": "code",
   "execution_count": 18,
   "id": "4cf36793",
   "metadata": {
    "scrolled": true
   },
   "outputs": [
    {
     "name": "stdout",
     "output_type": "stream",
     "text": [
      "Coefficients: \n",
      " [-9.87670697e+00 -1.73684798e+00  4.53296755e-01 -9.37665184e-03\n",
      "  9.04843107e-01 -2.76605890e+00  2.47881489e+00  6.95486702e-01\n",
      "  7.27950230e-03  3.40104200e+00 -9.63746616e+00]\n",
      "Mean squared error: 1760.61\n",
      "Coefficient of determination: 0.16\n"
     ]
    }
   ],
   "source": [
    "#create train set for model 1\n",
    "\n",
    "\n",
    "regr_model_1 = linear_model.LinearRegression()\n",
    "df_train_model_1 = df_mix_ndvi_exclude_forcast_value_final.iloc[:1164,:]\n",
    "df_test_model_1 = df_mix_ndvi_exclude_forcast_value_final.iloc[1164:,:]\n",
    "x_train_model_1 = df_train_model_1[['city','year','weekofyear','precipitation_amt_mm','station_avg_temp_c','station_diur_temp_rng_c','station_max_temp_c','station_min_temp_c','station_precip_mm','ndvi_north','ndvi_south']]\n",
    "y_train_model_1 = df_train_model_1['total_cases']\n",
    "regr_model_1.fit(x_train_model_1, y_train_model_1)\n",
    "\n",
    "#create test set for model 1\n",
    "\n",
    "x_test_model_1 = df_test_model_1[['city','year','weekofyear','precipitation_amt_mm','station_avg_temp_c','station_diur_temp_rng_c','station_max_temp_c','station_min_temp_c','station_precip_mm','ndvi_north','ndvi_south']]\n",
    "y_test_model_1 = df_test_model_1['total_cases']\n",
    "\n",
    "y_pred_model_1 = regr_model_1.predict(x_test_model_1)\n",
    "y_test_array_model_1 = y_test_model_1.to_numpy()\n",
    "\n",
    "print(\"Coefficients: \\n\", regr_model_1.coef_)\n",
    "# The mean squared error\n",
    "print(\"Mean squared error: %.2f\" % mean_squared_error(y_test_array_model_1, y_pred_model_1))\n",
    "# The coefficient of determination: 1 is perfect prediction\n",
    "print(\"Coefficient of determination: %.2f\" % r2_score(y_test_array_model_1, y_pred_model_1))"
   ]
  },
  {
   "cell_type": "code",
   "execution_count": 19,
   "id": "4088921f",
   "metadata": {},
   "outputs": [
    {
     "name": "stdout",
     "output_type": "stream",
     "text": [
      "Coefficients: \n",
      " [ 1.90557438e+01 -2.05073406e+00  4.24115237e-01 -2.81198455e+13\n",
      " -2.52194438e+00 -2.16279307e+00  3.07041813e+00  4.14582691e-01\n",
      " -2.18074131e-03 -1.03228545e+01 -7.20900997e+00 -6.17608915e+00\n",
      " -6.19566609e+00 -8.64047590e+00  2.67468989e-01  2.10698423e-01\n",
      "  2.81198455e+13  9.04852832e-03 -3.55074603e+00  2.58924293e+01\n",
      " -1.72837810e+00]\n",
      "Mean squared error: 1210.80\n",
      "Coefficient of determination: 0.14\n"
     ]
    }
   ],
   "source": [
    "#create train set for model 2\n",
    "\n",
    "\n",
    "regr_model_2 = linear_model.LinearRegression()\n",
    "df_train_model_2 = df_mix_ndvi_include_forcast_value_final.iloc[:1164,:]\n",
    "df_test_model_2 = df_mix_ndvi_include_forcast_value_final.iloc[1164:,:]\n",
    "x_train_model_2 = df_train_model_2[['city','year','weekofyear','precipitation_amt_mm','station_avg_temp_c','station_diur_temp_rng_c','station_max_temp_c','station_min_temp_c','station_precip_mm','ndvi_north','ndvi_south',\"reanalysis_air_temp_k\",\"reanalysis_avg_temp_k\",\"reanalysis_dew_point_temp_k\",\"reanalysis_max_air_temp_k\", \"reanalysis_min_air_temp_k\",\"reanalysis_sat_precip_amt_mm\",\"reanalysis_precip_amt_kg_per_m2\",\"reanalysis_relative_humidity_percent\", \"reanalysis_specific_humidity_g_per_kg\", \"reanalysis_tdtr_k\"]]\n",
    "y_train_model_2 = df_train_model_2['total_cases']\n",
    "regr_model_2.fit(x_train_model_2, y_train_model_2)\n",
    "#create test set for model 2\n",
    "\n",
    "x_test_model_2 = df_test_model_2[['city','year','weekofyear','precipitation_amt_mm','station_avg_temp_c','station_diur_temp_rng_c','station_max_temp_c','station_min_temp_c','station_precip_mm','ndvi_north','ndvi_south',\"reanalysis_air_temp_k\",\"reanalysis_avg_temp_k\",\"reanalysis_dew_point_temp_k\",\"reanalysis_max_air_temp_k\", \"reanalysis_min_air_temp_k\",\"reanalysis_sat_precip_amt_mm\",\"reanalysis_precip_amt_kg_per_m2\",\"reanalysis_relative_humidity_percent\", \"reanalysis_specific_humidity_g_per_kg\", \"reanalysis_tdtr_k\"]]\n",
    "y_test_model_2 = df_test_model_2['total_cases']\n",
    "\n",
    "y_pred_model_2 = regr_model_2.predict(x_test_model_2)\n",
    "y_test_array_model_2 = y_test_model_2.to_numpy()\n",
    "\n",
    "print(\"Coefficients: \\n\", regr_model_2.coef_)\n",
    "# The mean squared error\n",
    "print(\"Mean squared error: %.2f\" % mean_squared_error(y_test_array_model_2, y_pred_model_2))\n",
    "# The coefficient of determination: 1 is perfect prediction\n",
    "print(\"Coefficient of determination: %.2f\" % r2_score(y_test_array_model_2, y_pred_model_2))\n"
   ]
  },
  {
   "cell_type": "code",
   "execution_count": 20,
   "id": "c81ecad0",
   "metadata": {},
   "outputs": [
    {
     "name": "stdout",
     "output_type": "stream",
     "text": [
      "Coefficients: \n",
      " [-1.05379398e+01 -1.54760910e+00  4.73581938e-01 -1.01498272e-02\n",
      "  2.12556460e+00 -1.93351414e+00  9.37072659e-01  8.51962694e-01\n",
      "  7.64078728e-03  3.02830506e+01 -4.33602907e+01 -8.53374269e+01\n",
      "  6.87268995e+01]\n",
      "Mean squared error: 2176.40\n",
      "Coefficient of determination: 0.17\n"
     ]
    }
   ],
   "source": [
    "#create train set for model 3\n",
    "\n",
    "\n",
    "regr_model_3 = linear_model.LinearRegression()\n",
    "df_train_model_3 = df_normal_data_exclude_forcast_value_final.iloc[:1164,:]\n",
    "df_test_model_3 = df_normal_data_exclude_forcast_value_final.iloc[1164:,:]\n",
    "x_train_model_3 = df_train_model_3[['city','year','weekofyear','precipitation_amt_mm','station_avg_temp_c','station_diur_temp_rng_c','station_max_temp_c','station_min_temp_c','station_precip_mm','ndvi_ne','ndvi_nw','ndvi_se','ndvi_sw']]\n",
    "y_train_model_3 = df_train_model_3['total_cases']\n",
    "regr_model_3.fit(x_train_model_3, y_train_model_3)\n",
    "#create test set for model 3\n",
    "\n",
    "x_test_model_3 = df_test_model_3[['city','year','weekofyear','precipitation_amt_mm','station_avg_temp_c','station_diur_temp_rng_c','station_max_temp_c','station_min_temp_c','station_precip_mm','ndvi_ne','ndvi_nw','ndvi_se','ndvi_sw']]\n",
    "y_test_model_3 = df_test_model_3['total_cases']\n",
    "\n",
    "y_pred_model_3 = regr_model_3.predict(x_test_model_3)\n",
    "y_test_array_model_3 = y_test_model_3.to_numpy()\n",
    "\n",
    "print(\"Coefficients: \\n\", regr_model_3.coef_)\n",
    "# The mean squared error\n",
    "print(\"Mean squared error: %.2f\" % mean_squared_error(y_test_array_model_3, y_pred_model_3))\n",
    "# The coefficient of determination: 1 is perfect prediction\n",
    "print(\"Coefficient of determination: %.2f\" % r2_score(y_test_array_model_3, y_pred_model_3))\n",
    "\n"
   ]
  },
  {
   "cell_type": "code",
   "execution_count": 21,
   "id": "e4944661",
   "metadata": {},
   "outputs": [
    {
     "name": "stdout",
     "output_type": "stream",
     "text": [
      "Coefficients: \n",
      " [ 8.72783380e+00 -1.80523459e+00  4.30995635e-01 -1.50024766e+11\n",
      " -2.23470518e+00 -1.12333439e+00  1.96811465e+00 -2.96882177e-01\n",
      "  1.62742244e-03  3.01369953e+01 -3.80092220e+01 -9.55381762e+01\n",
      "  7.53233344e+01  1.39742563e+00 -8.73837836e+00 -1.08167586e+01\n",
      "  1.28659879e+00 -8.97336336e-02  1.50024766e+11 -2.20768720e-02\n",
      " -2.18510959e+00  2.35097907e+01 -2.40126849e+00]\n",
      "Mean squared error: 1764.08\n",
      "Coefficient of determination: 0.19\n"
     ]
    }
   ],
   "source": [
    "#create train set for model 4\n",
    "\n",
    "\n",
    "regr_model_4 = linear_model.LinearRegression()\n",
    "df_train_model_4 = df_normal_data_include_forcast_value_final.iloc[:1164,:]\n",
    "df_test_model_4 = df_normal_data_include_forcast_value_final.iloc[1164:,:]\n",
    "x_train_model_4 = df_train_model_4[['city','year','weekofyear','precipitation_amt_mm','station_avg_temp_c','station_diur_temp_rng_c','station_max_temp_c','station_min_temp_c','station_precip_mm','ndvi_ne','ndvi_nw','ndvi_se','ndvi_sw',\"reanalysis_air_temp_k\",\"reanalysis_avg_temp_k\",\"reanalysis_dew_point_temp_k\",\"reanalysis_max_air_temp_k\", \"reanalysis_min_air_temp_k\",\"reanalysis_sat_precip_amt_mm\",\"reanalysis_precip_amt_kg_per_m2\",\"reanalysis_relative_humidity_percent\", \"reanalysis_specific_humidity_g_per_kg\", \"reanalysis_tdtr_k\"]]\n",
    "y_train_model_4 = df_train_model_4['total_cases']\n",
    "regr_model_4.fit(x_train_model_4, y_train_model_4)\n",
    "#create test set for model 4\n",
    "\n",
    "x_test_model_4 = df_test_model_4[['city','year','weekofyear','precipitation_amt_mm','station_avg_temp_c','station_diur_temp_rng_c','station_max_temp_c','station_min_temp_c','station_precip_mm','ndvi_ne','ndvi_nw','ndvi_se','ndvi_sw',\"reanalysis_air_temp_k\",\"reanalysis_avg_temp_k\",\"reanalysis_dew_point_temp_k\",\"reanalysis_max_air_temp_k\", \"reanalysis_min_air_temp_k\",\"reanalysis_sat_precip_amt_mm\",\"reanalysis_precip_amt_kg_per_m2\",\"reanalysis_relative_humidity_percent\", \"reanalysis_specific_humidity_g_per_kg\", \"reanalysis_tdtr_k\"]]\n",
    "y_test_model_4 = df_test_model_4['total_cases']\n",
    "\n",
    "y_pred_model_4 = regr_model_4.predict(x_test_model_4)\n",
    "y_test_array_model_4 = y_test_model_4.to_numpy()\n",
    "\n",
    "print(\"Coefficients: \\n\", regr_model_4.coef_)\n",
    "# The mean squared error\n",
    "print(\"Mean squared error: %.2f\" % mean_squared_error(y_test_array_model_4, y_pred_model_4))\n",
    "# The coefficient of determination: 1 is perfect prediction\n",
    "print(\"Coefficient of determination: %.2f\" % r2_score(y_test_array_model_4, y_pred_model_4))"
   ]
  },
  {
   "cell_type": "code",
   "execution_count": 22,
   "id": "9924a2f4",
   "metadata": {},
   "outputs": [
    {
     "data": {
      "text/plain": [
       "<AxesSubplot:>"
      ]
     },
     "execution_count": 22,
     "metadata": {},
     "output_type": "execute_result"
    },
    {
     "data": {
      "image/png": "[encoded data removed]",
      "text/plain": [
       "<Figure size 576x576 with 2 Axes>"
      ]
     },
     "metadata": {
      "needs_background": "light"
     },
     "output_type": "display_data"
    }
   ],
   "source": [
    "corrMatrix_model_1 = df_mix_ndvi_exclude_forcast_value_final.corr()\n",
    "fig, ax = plt.subplots(figsize=(8, 8))\n",
    "sns.heatmap(corrMatrix_model_1, linewidths=.3,cmap=\"Blues\")"
   ]
  },
  {
   "cell_type": "code",
   "execution_count": 23,
   "id": "b692cd15",
   "metadata": {},
   "outputs": [
    {
     "data": {
      "text/plain": [
       "<AxesSubplot:>"
      ]
     },
     "execution_count": 23,
     "metadata": {},
     "output_type": "execute_result"
    },
    {
     "data": {
      "image/png": "[encoded data removed]",
      "text/plain": [
       "<Figure size 576x576 with 2 Axes>"
      ]
     },
     "metadata": {
      "needs_background": "light"
     },
     "output_type": "display_data"
    }
   ],
   "source": [
    "corrMatrix_model_2 = df_mix_ndvi_include_forcast_value_final.corr()\n",
    "fig, ax = plt.subplots(figsize=(8, 8))\n",
    "sns.heatmap(corrMatrix_model_2, linewidths=.3,cmap=\"Blues\")"
   ]
  },
  {
   "cell_type": "code",
   "execution_count": 24,
   "id": "25260698",
   "metadata": {},
   "outputs": [
    {
     "data": {
      "text/plain": [
       "<AxesSubplot:>"
      ]
     },
     "execution_count": 24,
     "metadata": {},
     "output_type": "execute_result"
    },
    {
     "data": {
      "image/png": "[encoded data removed]",
      "text/plain": [
       "<Figure size 576x576 with 2 Axes>"
      ]
     },
     "metadata": {
      "needs_background": "light"
     },
     "output_type": "display_data"
    }
   ],
   "source": [
    "corrMatrix_model_3 = df_normal_data_exclude_forcast_value_final.corr()\n",
    "fig, ax = plt.subplots(figsize=(8, 8))\n",
    "sns.heatmap(corrMatrix_model_3, linewidths=.3,cmap=\"Blues\")"
   ]
  },
  {
   "cell_type": "code",
   "execution_count": 25,
   "id": "77a38143",
   "metadata": {},
   "outputs": [
    {
     "data": {
      "text/plain": [
       "<AxesSubplot:>"
      ]
     },
     "execution_count": 25,
     "metadata": {},
     "output_type": "execute_result"
    },
    {
     "data": {
      "image/png": "[encoded data removed]",
      "text/plain": [
       "<Figure size 576x576 with 2 Axes>"
      ]
     },
     "metadata": {
      "needs_background": "light"
     },
     "output_type": "display_data"
    }
   ],
   "source": [
    "corrMatrix_model_4 = df_normal_data_include_forcast_value_final.corr()\n",
    "fig, ax = plt.subplots(figsize=(8, 8))\n",
    "sns.heatmap(corrMatrix_model_4, linewidths=.3,cmap=\"Blues\")"
   ]
  },
  {
   "cell_type": "code",
   "execution_count": 26,
   "id": "1d2056f4",
   "metadata": {},
   "outputs": [],
   "source": [
    "features_1 = ['city','year','weekofyear','precipitation_amt_mm','station_avg_temp_c','station_diur_temp_rng_c','station_max_temp_c','station_min_temp_c','station_precip_mm','ndvi_north','ndvi_south']\n",
    "# Separating out the features\n",
    "x_1 = df_mix_ndvi_exclude_forcast_value_final.loc[:, features_1].values\n",
    "# Separating out the target\n",
    "y_1 = df_mix_ndvi_exclude_forcast_value_final.loc[:,['total_cases']].values\n",
    "# Standardizing the features\n",
    "x_1 = StandardScaler().fit_transform(x_1)\n",
    "\n",
    "\n",
    "#normallized data"
   ]
  },
  {
   "cell_type": "code",
   "execution_count": 27,
   "id": "75d2d541",
   "metadata": {},
   "outputs": [],
   "source": [
    "features_2 = ['city','year','weekofyear','precipitation_amt_mm','station_avg_temp_c','station_diur_temp_rng_c','station_max_temp_c','station_min_temp_c','station_precip_mm','ndvi_north','ndvi_south',\"reanalysis_air_temp_k\",\"reanalysis_avg_temp_k\",\"reanalysis_dew_point_temp_k\",\"reanalysis_max_air_temp_k\", \"reanalysis_min_air_temp_k\",\"reanalysis_sat_precip_amt_mm\",\"reanalysis_precip_amt_kg_per_m2\",\"reanalysis_relative_humidity_percent\", \"reanalysis_specific_humidity_g_per_kg\", \"reanalysis_tdtr_k\"]\n",
    "# Separating out the features\n",
    "x_2 = df_mix_ndvi_include_forcast_value_final.loc[:, features_2].values\n",
    "# Separating out the target\n",
    "y_2 = df_mix_ndvi_include_forcast_value_final.loc[:,['total_cases']].values\n",
    "# Standardizing the features\n",
    "x_2 = StandardScaler().fit_transform(x_2)\n",
    "\n",
    "\n",
    "#normallized data"
   ]
  },
  {
   "cell_type": "code",
   "execution_count": 28,
   "id": "a78a7570",
   "metadata": {},
   "outputs": [],
   "source": [
    "features_3 = ['city','year','weekofyear','precipitation_amt_mm','station_avg_temp_c','station_diur_temp_rng_c','station_max_temp_c','station_min_temp_c','station_precip_mm','ndvi_ne','ndvi_nw','ndvi_se','ndvi_sw']\n",
    "# Separating out the features\n",
    "x_3 = df_normal_data_exclude_forcast_value_final.loc[:, features_3].values\n",
    "# Separating out the target\n",
    "y_3 = df_normal_data_exclude_forcast_value_final.loc[:,['total_cases']].values\n",
    "# Standardizing the features\n",
    "x_3 = StandardScaler().fit_transform(x_3)\n",
    "\n",
    "\n",
    "#normallized data"
   ]
  },
  {
   "cell_type": "code",
   "execution_count": 29,
   "id": "7be20247",
   "metadata": {},
   "outputs": [],
   "source": [
    "features_4 = ['city','year','weekofyear','precipitation_amt_mm','station_avg_temp_c','station_diur_temp_rng_c','station_max_temp_c','station_min_temp_c','station_precip_mm','ndvi_ne','ndvi_nw','ndvi_se','ndvi_sw',\"reanalysis_air_temp_k\",\"reanalysis_avg_temp_k\",\"reanalysis_dew_point_temp_k\",\"reanalysis_max_air_temp_k\", \"reanalysis_min_air_temp_k\",\"reanalysis_sat_precip_amt_mm\",\"reanalysis_precip_amt_kg_per_m2\",\"reanalysis_relative_humidity_percent\", \"reanalysis_specific_humidity_g_per_kg\", \"reanalysis_tdtr_k\"]\n",
    "# Separating out the features\n",
    "x_4 = df_normal_data_include_forcast_value_final.loc[:, features_4].values\n",
    "# Separating out the target\n",
    "y_4 = df_normal_data_include_forcast_value_final.loc[:,['total_cases']].values\n",
    "# Standardizing the features\n",
    "x_4 = StandardScaler().fit_transform(x_4)\n",
    "\n",
    "\n",
    "\n",
    "#normallized data"
   ]
  },
  {
   "cell_type": "code",
   "execution_count": 30,
   "id": "7aa4ea8a",
   "metadata": {},
   "outputs": [
    {
     "data": {
      "text/plain": [
       "Text(0, 0.5, 'cumulative explained variance')"
      ]
     },
     "execution_count": 30,
     "metadata": {},
     "output_type": "execute_result"
    },
    {
     "data": {
      "image/png": "[encoded data removed]",
      "text/plain": [
       "<Figure size 432x288 with 1 Axes>"
      ]
     },
     "metadata": {
      "needs_background": "light"
     },
     "output_type": "display_data"
    }
   ],
   "source": [
    "pca_1 = PCA().fit(x_1)\n",
    "plt.plot(np.cumsum(pca_1.explained_variance_ratio_))\n",
    "plt.xlabel('number of components')\n",
    "plt.ylabel('cumulative explained variance')"
   ]
  },
  {
   "cell_type": "code",
   "execution_count": 31,
   "id": "49340b00",
   "metadata": {},
   "outputs": [],
   "source": [
    "pca_1 = PCA(n_components=6)\n",
    "principalComponents_1 = pca_1.fit_transform(x_1)\n",
    "principalDf_1 = pd.DataFrame(data = principalComponents_1, columns = ['principal component 1', 'principal component 2', 'principal component 3', 'principal component 4', 'principal component 5', 'principal component 6'])"
   ]
  },
  {
   "cell_type": "code",
   "execution_count": 32,
   "id": "98abf116",
   "metadata": {},
   "outputs": [
    {
     "data": {
      "text/plain": [
       "Text(0, 0.5, 'cumulative explained variance')"
      ]
     },
     "execution_count": 32,
     "metadata": {},
     "output_type": "execute_result"
    },
    {
     "data": {
      "image/png": "[encoded data removed]",
      "text/plain": [
       "<Figure size 432x288 with 1 Axes>"
      ]
     },
     "metadata": {
      "needs_background": "light"
     },
     "output_type": "display_data"
    }
   ],
   "source": [
    "pca_2 = PCA().fit(x_2)\n",
    "plt.plot(np.cumsum(pca_2.explained_variance_ratio_))\n",
    "plt.xlabel('number of components')\n",
    "plt.ylabel('cumulative explained variance')"
   ]
  },
  {
   "cell_type": "code",
   "execution_count": 33,
   "id": "041875fa",
   "metadata": {},
   "outputs": [],
   "source": [
    "pca_2 = PCA(n_components=7)\n",
    "principalComponents_2 = pca_2.fit_transform(x_2)\n",
    "principalDf_2 = pd.DataFrame(data = principalComponents_2, columns = ['principal component 1', 'principal component 2', 'principal component 3', 'principal component 4', 'principal component 5', 'principal component 6', 'principal component 7'])"
   ]
  },
  {
   "cell_type": "code",
   "execution_count": 34,
   "id": "d97c4603",
   "metadata": {
    "scrolled": true
   },
   "outputs": [
    {
     "data": {
      "text/plain": [
       "Text(0, 0.5, 'cumulative explained variance')"
      ]
     },
     "execution_count": 34,
     "metadata": {},
     "output_type": "execute_result"
    },
    {
     "data": {
      "image/png": "[encoded data removed]",
      "text/plain": [
       "<Figure size 432x288 with 1 Axes>"
      ]
     },
     "metadata": {
      "needs_background": "light"
     },
     "output_type": "display_data"
    }
   ],
   "source": [
    "pca_3 = PCA().fit(x_3)\n",
    "plt.plot(np.cumsum(pca_3.explained_variance_ratio_))\n",
    "plt.xlabel('number of components')\n",
    "plt.ylabel('cumulative explained variance')"
   ]
  },
  {
   "cell_type": "code",
   "execution_count": 35,
   "id": "b43a2b70",
   "metadata": {},
   "outputs": [],
   "source": [
    "pca_3 = PCA(n_components=8)\n",
    "principalComponents_3 = pca_3.fit_transform(x_3)\n",
    "principalDf_3 = pd.DataFrame(data = principalComponents_3, columns = ['principal component 1', 'principal component 2', 'principal component 3', 'principal component 4', 'principal component 5', 'principal component 6', 'principal component 7', 'principal component 8'])"
   ]
  },
  {
   "cell_type": "code",
   "execution_count": 36,
   "id": "dfd37489",
   "metadata": {},
   "outputs": [
    {
     "data": {
      "text/plain": [
       "Text(0, 0.5, 'cumulative explained variance')"
      ]
     },
     "execution_count": 36,
     "metadata": {},
     "output_type": "execute_result"
    },
    {
     "data": {
      "image/png": "[encoded data removed]",
      "text/plain": [
       "<Figure size 432x288 with 1 Axes>"
      ]
     },
     "metadata": {
      "needs_background": "light"
     },
     "output_type": "display_data"
    }
   ],
   "source": [
    "pca_4 = PCA().fit(x_4)\n",
    "plt.plot(np.cumsum(pca_4.explained_variance_ratio_))\n",
    "plt.xlabel('number of components')\n",
    "plt.ylabel('cumulative explained variance')"
   ]
  },
  {
   "cell_type": "code",
   "execution_count": 37,
   "id": "0d5acc4c",
   "metadata": {},
   "outputs": [],
   "source": [
    "pca_4 = PCA(n_components=10)\n",
    "principalComponents_4 = pca_4.fit_transform(x_4)\n",
    "principalDf_4 = pd.DataFrame(data = principalComponents_4, columns = ['principal component 1', 'principal component 2', 'principal component 3', 'principal component 4', 'principal component 5', 'principal component 6', 'principal component 7', 'principal component 8', 'principal component 9', 'principal component 10'])"
   ]
  },
  {
   "cell_type": "code",
   "execution_count": 38,
   "id": "7ddfafc6",
   "metadata": {},
   "outputs": [
    {
     "name": "stdout",
     "output_type": "stream",
     "text": [
      "Coefficients: \n",
      " [[-4.83592173 -7.81576844 -2.51564844  8.60953039 -2.33693453 -2.57276442]]\n",
      "Mean squared error: 1768.09\n",
      "Coefficient of determination: 0.16\n"
     ]
    }
   ],
   "source": [
    "#create train set for model 1\n",
    "\n",
    "\n",
    "regr_model_PCA_1 = linear_model.LinearRegression()\n",
    "df_train_model_PCA_1 = principalDf_1.iloc[:1164,:]\n",
    "df_test_model_PCA_1 = principalDf_1.iloc[1164:,:]\n",
    "x_train_model_PCA_1 = df_train_model_PCA_1[['principal component 1', 'principal component 2', 'principal component 3', 'principal component 4', 'principal component 5', 'principal component 6']]\n",
    "y_train_model_PCA_1 = y_1[:1164,:]\n",
    "regr_model_PCA_1.fit(x_train_model_PCA_1, y_train_model_PCA_1)\n",
    "\n",
    "#create test set for model 1\n",
    "\n",
    "x_test_model_PCA_1 = df_test_model_PCA_1[['principal component 1', 'principal component 2', 'principal component 3', 'principal component 4', 'principal component 5', 'principal component 6']]\n",
    "y_test_model_PCA_1 = y_1[1164:,:]\n",
    "\n",
    "y_pred_model_PCA_1 = regr_model_PCA_1.predict(x_test_model_PCA_1)\n",
    "y_test_array_model_PCA_1 = y_test_model_PCA_1\n",
    "\n",
    "print(\"Coefficients: \\n\", regr_model_PCA_1.coef_)\n",
    "# The mean squared error\n",
    "print(\"Mean squared error: %.2f\" % mean_squared_error(y_test_array_model_PCA_1, y_pred_model_PCA_1))\n",
    "# The coefficient of determination: 1 is perfect prediction\n",
    "print(\"Coefficient of determination: %.2f\" % r2_score(y_test_array_model_PCA_1, y_pred_model_PCA_1))"
   ]
  },
  {
   "cell_type": "code",
   "execution_count": 39,
   "id": "b3da99e1",
   "metadata": {},
   "outputs": [
    {
     "name": "stdout",
     "output_type": "stream",
     "text": [
      "Coefficients: \n",
      " [[-3.60064256 -5.37036335 -0.25393772 -0.63919673  9.82668784  0.25288971\n",
      "   4.4916169 ]]\n",
      "Mean squared error: 1215.76\n",
      "Coefficient of determination: 0.14\n"
     ]
    }
   ],
   "source": [
    "#create train set for model 2\n",
    "\n",
    "\n",
    "regr_model_PCA_2 = linear_model.LinearRegression()\n",
    "df_train_model_PCA_2 = principalDf_2.iloc[:1164,:]\n",
    "df_test_model_PCA_2 = principalDf_2.iloc[1164:,:]\n",
    "x_train_model_PCA_2 = df_train_model_PCA_2[['principal component 1', 'principal component 2', 'principal component 3', 'principal component 4', 'principal component 5', 'principal component 6', 'principal component 7']]\n",
    "y_train_model_PCA_2 = y_2[:1164,:]\n",
    "regr_model_PCA_2.fit(x_train_model_PCA_2, y_train_model_PCA_2)\n",
    "\n",
    "#create test set for model 2\n",
    "\n",
    "x_test_model_PCA_2 = df_test_model_PCA_2[['principal component 1', 'principal component 2', 'principal component 3', 'principal component 4', 'principal component 5', 'principal component 6', 'principal component 7']]\n",
    "y_test_model_PCA_2 = y_2[1164:,:]\n",
    "\n",
    "y_pred_model_PCA_2 = regr_model_PCA_2.predict(x_test_model_PCA_2)\n",
    "y_test_array_model_PCA_2 = y_test_model_PCA_2\n",
    "\n",
    "print(\"Coefficients: \\n\", regr_model_PCA_2.coef_)\n",
    "# The mean squared error\n",
    "print(\"Mean squared error: %.2f\" % mean_squared_error(y_test_array_model_PCA_2, y_pred_model_PCA_2))\n",
    "# The coefficient of determination: 1 is perfect prediction\n",
    "print(\"Coefficient of determination: %.2f\" % r2_score(y_test_array_model_PCA_2, y_pred_model_PCA_2))"
   ]
  },
  {
   "cell_type": "code",
   "execution_count": 40,
   "id": "158833aa",
   "metadata": {},
   "outputs": [
    {
     "name": "stdout",
     "output_type": "stream",
     "text": [
      "Coefficients: \n",
      " [[-4.42078361 -6.81733103 -4.7220402  -6.089781   -3.17374965  3.7318154\n",
      "   0.06992146  1.78449588]]\n",
      "Mean squared error: 2227.17\n",
      "Coefficient of determination: 0.15\n"
     ]
    }
   ],
   "source": [
    "#create train set for model 2\n",
    "\n",
    "\n",
    "regr_model_PCA_3 = linear_model.LinearRegression()\n",
    "df_train_model_PCA_3 = principalDf_3.iloc[:1164,:]\n",
    "df_test_model_PCA_3 = principalDf_3.iloc[1164:,:]\n",
    "x_train_model_PCA_3 = df_train_model_PCA_3[['principal component 1', 'principal component 2', 'principal component 3', 'principal component 4', 'principal component 5', 'principal component 6', 'principal component 7', 'principal component 8']]\n",
    "y_train_model_PCA_3 = y_3[:1164,:]\n",
    "regr_model_PCA_3.fit(x_train_model_PCA_3, y_train_model_PCA_3)\n",
    "\n",
    "#create test set for model 3\n",
    "\n",
    "x_test_model_PCA_3 = df_test_model_PCA_3[['principal component 1', 'principal component 2', 'principal component 3', 'principal component 4', 'principal component 5', 'principal component 6', 'principal component 7', 'principal component 8']]\n",
    "y_test_model_PCA_3 = y_3[1164:,:]\n",
    "\n",
    "y_pred_model_PCA_3 = regr_model_PCA_3.predict(x_test_model_PCA_3)\n",
    "y_test_array_model_PCA_3 = y_test_model_PCA_3\n",
    "\n",
    "print(\"Coefficients: \\n\", regr_model_PCA_3.coef_)\n",
    "# The mean squared error\n",
    "print(\"Mean squared error: %.2f\" % mean_squared_error(y_test_array_model_PCA_3, y_pred_model_PCA_3))\n",
    "# The coefficient of determination: 1 is perfect prediction\n",
    "print(\"Coefficient of determination: %.2f\" % r2_score(y_test_array_model_PCA_3, y_pred_model_PCA_3))"
   ]
  },
  {
   "cell_type": "code",
   "execution_count": 41,
   "id": "b1797fa5",
   "metadata": {},
   "outputs": [
    {
     "name": "stdout",
     "output_type": "stream",
     "text": [
      "Coefficients: \n",
      " [[-3.52328257 -4.55652642 -1.05227083 -5.69812244  0.85966704 -6.43412988\n",
      "  -4.97343105 -0.18319355 -1.0077307  -2.73944714]]\n",
      "Mean squared error: 1803.11\n",
      "Coefficient of determination: 0.17\n"
     ]
    }
   ],
   "source": [
    "#create train set for model 4\n",
    "\n",
    "\n",
    "regr_model_PCA_4 = linear_model.LinearRegression()\n",
    "df_train_model_PCA_4 = principalDf_4.iloc[:1164,:]\n",
    "df_test_model_PCA_4 = principalDf_4.iloc[1164:,:]\n",
    "x_train_model_PCA_4 = df_train_model_PCA_4[['principal component 1', 'principal component 2', 'principal component 3', 'principal component 4', 'principal component 5', 'principal component 6', 'principal component 7', 'principal component 8', 'principal component 9', 'principal component 10']]\n",
    "y_train_model_PCA_4 = y_4[:1164,:]\n",
    "regr_model_PCA_4.fit(x_train_model_PCA_4, y_train_model_PCA_4)\n",
    "\n",
    "#create test set for model 4\n",
    "\n",
    "x_test_model_PCA_4 = df_test_model_PCA_4[['principal component 1', 'principal component 2', 'principal component 3', 'principal component 4', 'principal component 5', 'principal component 6', 'principal component 7', 'principal component 8', 'principal component 9', 'principal component 10']]\n",
    "y_test_model_PCA_4 = y_4[1164:,:]\n",
    "\n",
    "y_pred_model_PCA_4 = regr_model_PCA_4.predict(x_test_model_PCA_4)\n",
    "y_test_array_model_PCA_4 = y_test_model_PCA_4\n",
    "\n",
    "print(\"Coefficients: \\n\", regr_model_PCA_4.coef_)\n",
    "# The mean squared error\n",
    "print(\"Mean squared error: %.2f\" % mean_squared_error(y_test_array_model_PCA_4, y_pred_model_PCA_4))\n",
    "# The coefficient of determination: 1 is perfect prediction\n",
    "print(\"Coefficient of determination: %.2f\" % r2_score(y_test_array_model_PCA_4, y_pred_model_PCA_4))"
   ]
  },
  {
   "cell_type": "code",
   "execution_count": 42,
   "id": "f4b742f9",
   "metadata": {},
   "outputs": [
    {
     "data": {
      "text/plain": [
       "[<matplotlib.lines.Line2D at 0x183f499c880>]"
      ]
     },
     "execution_count": 42,
     "metadata": {},
     "output_type": "execute_result"
    },
    {
     "data": {
      "image/png": "[encoded data removed]",
      "text/plain": [
       "<Figure size 432x288 with 1 Axes>"
      ]
     },
     "metadata": {
      "needs_background": "light"
     },
     "output_type": "display_data"
    }
   ],
   "source": [
    "features_smote_1 = ['year','weekofyear','precipitation_amt_mm','station_avg_temp_c','station_diur_temp_rng_c','station_max_temp_c','station_min_temp_c','station_precip_mm','ndvi_north','ndvi_south', 'total_cases']\n",
    "# Separating out the features\n",
    "x_smote_1 = df_mix_ndvi_exclude_forcast_value_final.loc[:1164, features_smote_1].values\n",
    "y_smote_1 = df_mix_ndvi_exclude_forcast_value_final.loc[:1164,['city']].values\n",
    "sm_1 = SMOTE(random_state=42)\n",
    "x_sm_1, y_sm_1 = sm_1.fit_resample(x_smote_1,y_smote_1)\n",
    "temp_x_smote_1 = pd.DataFrame(data = x_sm_1, columns = ['year','weekofyear','precipitation_amt_mm','station_avg_temp_c','station_diur_temp_rng_c','station_max_temp_c','station_min_temp_c','station_precip_mm','ndvi_north','ndvi_south', 'total_cases'])\n",
    "temp_y_smote_1 = pd.DataFrame(data = y_sm_1, columns = ['city'])\n",
    "y_smote_1 = temp_x_smote_1['total_cases']\n",
    "temp_x_smote_1 = temp_x_smote_1.drop(['total_cases'], axis=1)\n",
    "x_smote_1 = temp_x_smote_1.assign(city = temp_y_smote_1['city']) \n",
    "\n",
    "\n",
    "features_smote_1 = ['city','year','weekofyear','precipitation_amt_mm','station_avg_temp_c','station_diur_temp_rng_c','station_max_temp_c','station_min_temp_c','station_precip_mm','ndvi_north','ndvi_south']\n",
    "# Separating out the features\n",
    "x_PCA_smote_1 = x_smote_1.loc[:, features_smote_1].values\n",
    "# Separating out the target\n",
    "\n",
    "#y_4 = df_normal_data_include_forcast_value_final.loc[:,['total_cases']].values\n",
    "y_PCA_smote_1 = y_smote_1.values\n",
    "# Standardizing the features\n",
    "x_PCA_smote_1 = StandardScaler().fit_transform(x_smote_1)\n",
    "\n",
    "pca_smote_1 = PCA().fit(x_PCA_smote_1)\n",
    "plt.plot(np.cumsum(pca_smote_1.explained_variance_ratio_))"
   ]
  },
  {
   "cell_type": "code",
   "execution_count": 43,
   "id": "a62fa394",
   "metadata": {},
   "outputs": [],
   "source": [
    "pca_smote_final_1 = PCA(n_components=8)\n",
    "principalComponents_smote_1 = pca_smote_final_1.fit_transform(x_PCA_smote_1)\n",
    "principalDf_smote_1 = pd.DataFrame(data = principalComponents_smote_1, columns = ['principal component 1', 'principal component 2', 'principal component 3', 'principal component 4', 'principal component 5', 'principal component 6', 'principal component 7', 'principal component 8'])\n",
    "pca_smote_1 = PCA(n_components=8)\n",
    "principalComponents_smote_1 = pca_smote_1.fit_transform(x_PCA_smote_1)\n",
    "principalDf_smote_1 = pd.DataFrame(data = principalComponents_smote_1, columns = ['principal component 1', 'principal component 2', 'principal component 3', 'principal component 4', 'principal component 5', 'principal component 6', 'principal component 7', 'principal component 8'])"
   ]
  },
  {
   "cell_type": "code",
   "execution_count": 44,
   "id": "ac949d47",
   "metadata": {},
   "outputs": [
    {
     "name": "stdout",
     "output_type": "stream",
     "text": [
      "Coefficients: \n",
      " [-5.30596094 -7.08859896 -1.77440927  5.94147668 -4.32039135 -2.53119184]\n",
      "Mean squared error: 1809.62\n",
      "Coefficient of determination: 0.14\n"
     ]
    }
   ],
   "source": [
    "#create train set for model 1\n",
    "\n",
    "\n",
    "\n",
    "regr_model_PCA_smote_1 = linear_model.LinearRegression()\n",
    "df_train_model_PCA_smote_1 = principalDf_smote_1.iloc[:1497,:]\n",
    "df_test_model_PCA_smote_1 = principalDf_1.iloc[1164:,:]\n",
    "x_train_model_PCA_smote_1 = df_train_model_PCA_smote_1[['principal component 1', 'principal component 2', 'principal component 3', 'principal component 4', 'principal component 5', 'principal component 6']]\n",
    "y_train_model_PCA_smote_1 = y_PCA_smote_1[:1497]\n",
    "regr_model_PCA_smote_1.fit(x_train_model_PCA_smote_1, y_train_model_PCA_smote_1)\n",
    "\n",
    "#create test set for model 1\n",
    "\n",
    "x_test_model_PCA_smote_1 = df_test_model_PCA_smote_1[['principal component 1', 'principal component 2', 'principal component 3', 'principal component 4', 'principal component 5', 'principal component 6']]\n",
    "y_test_model_PCA_smote_1 = y_1[1164:,:]\n",
    "\n",
    "y_pred_model_PCA_smote_1 = regr_model_PCA_smote_1.predict(x_test_model_PCA_smote_1)\n",
    "y_test_array_model_PCA_smote_1 = y_test_model_PCA_smote_1\n",
    "\n",
    "\n",
    "print(\"Coefficients: \\n\", regr_model_PCA_smote_1.coef_)\n",
    "# The mean squared error\n",
    "print(\"Mean squared error: %.2f\" % mean_squared_error(y_test_array_model_PCA_smote_1, y_pred_model_PCA_smote_1))\n",
    "# The coefficient of determination: 1 is perfect prediction\n",
    "print(\"Coefficient of determination: %.2f\" % r2_score(y_test_array_model_PCA_smote_1, y_pred_model_PCA_smote_1))"
   ]
  },
  {
   "cell_type": "code",
   "execution_count": 45,
   "id": "10ea146d",
   "metadata": {},
   "outputs": [
    {
     "data": {
      "text/plain": [
       "[<matplotlib.lines.Line2D at 0x183f4a2ff70>]"
      ]
     },
     "execution_count": 45,
     "metadata": {},
     "output_type": "execute_result"
    },
    {
     "data": {
      "image/png": "[encoded data removed]",
      "text/plain": [
       "<Figure size 432x288 with 1 Axes>"
      ]
     },
     "metadata": {
      "needs_background": "light"
     },
     "output_type": "display_data"
    }
   ],
   "source": [
    "features_smote_2 = ['city','year','weekofyear','precipitation_amt_mm','station_avg_temp_c','station_diur_temp_rng_c','station_max_temp_c','station_min_temp_c','station_precip_mm','ndvi_north','ndvi_south',\"reanalysis_air_temp_k\",\"reanalysis_avg_temp_k\",\"reanalysis_dew_point_temp_k\",\"reanalysis_max_air_temp_k\", \"reanalysis_min_air_temp_k\",\"reanalysis_sat_precip_amt_mm\",\"reanalysis_precip_amt_kg_per_m2\",\"reanalysis_relative_humidity_percent\", \"reanalysis_specific_humidity_g_per_kg\", \"reanalysis_tdtr_k\", 'total_cases']\n",
    "# Separating out the features\n",
    "x_smote_2 = df_mix_ndvi_include_forcast_value_final.loc[:1164, features_smote_2].values\n",
    "y_smote_2 = df_mix_ndvi_include_forcast_value_final.loc[:1164,['city']].values\n",
    "sm_2 = SMOTE(random_state=42)\n",
    "x_sm_2, y_sm_2 = sm_2.fit_resample(x_smote_2,y_smote_2)\n",
    "temp_x_smote_2 = pd.DataFrame(data = x_sm_2, columns = ['city','year','weekofyear','precipitation_amt_mm','station_avg_temp_c','station_diur_temp_rng_c','station_max_temp_c','station_min_temp_c','station_precip_mm','ndvi_north','ndvi_south',\"reanalysis_air_temp_k\",\"reanalysis_avg_temp_k\",\"reanalysis_dew_point_temp_k\",\"reanalysis_max_air_temp_k\", \"reanalysis_min_air_temp_k\",\"reanalysis_sat_precip_amt_mm\",\"reanalysis_precip_amt_kg_per_m2\",\"reanalysis_relative_humidity_percent\", \"reanalysis_specific_humidity_g_per_kg\", \"reanalysis_tdtr_k\", 'total_cases'])\n",
    "temp_y_smote_2 = pd.DataFrame(data = y_sm_2, columns = ['city'])\n",
    "y_smote_2 = temp_x_smote_2['total_cases']\n",
    "temp_x_smote_2 = temp_x_smote_2.drop(['total_cases'], axis=1)\n",
    "x_smote_2 = temp_x_smote_2.assign(city = temp_y_smote_2['city']) \n",
    "\n",
    "\n",
    "features_smote_2 = ['city','year','weekofyear','precipitation_amt_mm','station_avg_temp_c','station_diur_temp_rng_c','station_max_temp_c','station_min_temp_c','station_precip_mm','ndvi_north','ndvi_south',\"reanalysis_air_temp_k\",\"reanalysis_avg_temp_k\",\"reanalysis_dew_point_temp_k\",\"reanalysis_max_air_temp_k\", \"reanalysis_min_air_temp_k\",\"reanalysis_sat_precip_amt_mm\",\"reanalysis_precip_amt_kg_per_m2\",\"reanalysis_relative_humidity_percent\", \"reanalysis_specific_humidity_g_per_kg\", \"reanalysis_tdtr_k\"]\n",
    "# Separating out the features\n",
    "x_PCA_smote_2 = x_smote_2.loc[:, features_smote_2].values\n",
    "# Separating out the target\n",
    "\n",
    "#y_4 = df_normal_data_include_forcast_value_final.loc[:,['total_cases']].values\n",
    "y_PCA_smote_2 = y_smote_2.values\n",
    "# Standardizing the features\n",
    "x_PCA_smote_2 = StandardScaler().fit_transform(x_smote_2)\n",
    "\n",
    "pca_smote_2 = PCA().fit(x_PCA_smote_2)\n",
    "plt.plot(np.cumsum(pca_smote_2.explained_variance_ratio_))"
   ]
  },
  {
   "cell_type": "code",
   "execution_count": 46,
   "id": "ad849020",
   "metadata": {},
   "outputs": [],
   "source": [
    "pca_smote_final_2 = PCA(n_components=8)\n",
    "principalComponents_smote_2 = pca_smote_final_2.fit_transform(x_PCA_smote_2)\n",
    "principalDf_smote_2 = pd.DataFrame(data = principalComponents_smote_2, columns = ['principal component 1', 'principal component 2', 'principal component 3', 'principal component 4', 'principal component 5', 'principal component 6', 'principal component 7', 'principal component 8'])\n",
    "pca_smote_2 = PCA(n_components=8)\n",
    "principalComponents_smote_2 = pca_smote_2.fit_transform(x_PCA_smote_2)\n",
    "principalDf_smote_2 = pd.DataFrame(data = principalComponents_smote_2, columns = ['principal component 1', 'principal component 2', 'principal component 3', 'principal component 4', 'principal component 5', 'principal component 6', 'principal component 7', 'principal component 8'])"
   ]
  },
  {
   "cell_type": "code",
   "execution_count": 47,
   "id": "2947bd60",
   "metadata": {},
   "outputs": [
    {
     "name": "stdout",
     "output_type": "stream",
     "text": [
      "Coefficients: \n",
      " [-4.41015294 -4.59311082 -0.5332354   2.35379365  7.45588289  2.87608705\n",
      " -3.64581634]\n",
      "Mean squared error: 1284.66\n",
      "Coefficient of determination: 0.09\n"
     ]
    }
   ],
   "source": [
    "#create train set for model 2\n",
    "\n",
    "\n",
    "\n",
    "regr_model_PCA_smote_2 = linear_model.LinearRegression()\n",
    "df_train_model_PCA_smote_2 = principalDf_smote_2.iloc[:1497,:]\n",
    "df_test_model_PCA_smote_2 = principalDf_2.iloc[1164:,:]\n",
    "x_train_model_PCA_smote_2 = df_train_model_PCA_smote_2[['principal component 1', 'principal component 2', 'principal component 3', 'principal component 4', 'principal component 5', 'principal component 6', 'principal component 7']]\n",
    "y_train_model_PCA_smote_2 = y_PCA_smote_2[:1497]\n",
    "regr_model_PCA_smote_2.fit(x_train_model_PCA_smote_2, y_train_model_PCA_smote_2)\n",
    "\n",
    "#create test set for model 2\n",
    "\n",
    "x_test_model_PCA_smote_2 = df_test_model_PCA_smote_2[['principal component 1', 'principal component 2', 'principal component 3', 'principal component 4', 'principal component 5', 'principal component 6', 'principal component 7']]\n",
    "y_test_model_PCA_smote_2 = y_2[1164:,:]\n",
    "\n",
    "y_pred_model_PCA_smote_2 = regr_model_PCA_smote_2.predict(x_test_model_PCA_smote_2)\n",
    "y_test_array_model_PCA_smote_2 = y_test_model_PCA_smote_2\n",
    "\n",
    "\n",
    "print(\"Coefficients: \\n\", regr_model_PCA_smote_2.coef_)\n",
    "# The mean squared error\n",
    "print(\"Mean squared error: %.2f\" % mean_squared_error(y_test_array_model_PCA_smote_2, y_pred_model_PCA_smote_2))\n",
    "# The coefficient of determination: 1 is perfect prediction\n",
    "print(\"Coefficient of determination: %.2f\" % r2_score(y_test_array_model_PCA_smote_2, y_pred_model_PCA_smote_2))"
   ]
  },
  {
   "cell_type": "code",
   "execution_count": 48,
   "id": "543ecc55",
   "metadata": {},
   "outputs": [
    {
     "data": {
      "text/plain": [
       "[<matplotlib.lines.Line2D at 0x183f4a9daf0>]"
      ]
     },
     "execution_count": 48,
     "metadata": {},
     "output_type": "execute_result"
    },
    {
     "data": {
      "image/png": "[encoded data removed]",
      "text/plain": [
       "<Figure size 432x288 with 1 Axes>"
      ]
     },
     "metadata": {
      "needs_background": "light"
     },
     "output_type": "display_data"
    }
   ],
   "source": [
    "features_smote_3 = ['city','year','weekofyear','precipitation_amt_mm','station_avg_temp_c','station_diur_temp_rng_c','station_max_temp_c','station_min_temp_c','station_precip_mm','ndvi_ne','ndvi_nw','ndvi_se','ndvi_sw', 'total_cases']\n",
    "# Separating out the features\n",
    "x_smote_3 = df_normal_data_exclude_forcast_value_final.loc[:1164, features_smote_3].values\n",
    "y_smote_3 = df_normal_data_exclude_forcast_value_final.loc[:1164,['city']].values\n",
    "sm_3 = SMOTE(random_state=42)\n",
    "x_sm_3, y_sm_3 = sm_3.fit_resample(x_smote_3,y_smote_3)\n",
    "temp_x_smote_3 = pd.DataFrame(data = x_sm_3, columns = ['city','year','weekofyear','precipitation_amt_mm','station_avg_temp_c','station_diur_temp_rng_c','station_max_temp_c','station_min_temp_c','station_precip_mm','ndvi_ne','ndvi_nw','ndvi_se','ndvi_sw', 'total_cases'])\n",
    "temp_y_smote_3 = pd.DataFrame(data = y_sm_3, columns = ['city'])\n",
    "y_smote_3 = temp_x_smote_3['total_cases']\n",
    "temp_x_smote_3 = temp_x_smote_3.drop(['total_cases'], axis=1)\n",
    "x_smote_3 = temp_x_smote_3.assign(city = temp_y_smote_3['city']) \n",
    "\n",
    "\n",
    "features_smote_3 = ['city','year','weekofyear','precipitation_amt_mm','station_avg_temp_c','station_diur_temp_rng_c','station_max_temp_c','station_min_temp_c','station_precip_mm','ndvi_ne','ndvi_nw','ndvi_se','ndvi_sw']\n",
    "# Separating out the features\n",
    "x_PCA_smote_3 = x_smote_3.loc[:, features_smote_3].values\n",
    "# Separating out the target\n",
    "\n",
    "#y_4 = df_normal_data_include_forcast_value_final.loc[:,['total_cases']].values\n",
    "y_PCA_smote_3 = y_smote_3.values\n",
    "# Standardizing the features\n",
    "x_PCA_smote_3 = StandardScaler().fit_transform(x_smote_3)\n",
    "\n",
    "pca_smote_3 = PCA().fit(x_PCA_smote_3)\n",
    "plt.plot(np.cumsum(pca_smote_3.explained_variance_ratio_))"
   ]
  },
  {
   "cell_type": "code",
   "execution_count": 49,
   "id": "93742466",
   "metadata": {},
   "outputs": [],
   "source": [
    "pca_smote_final_3 = PCA(n_components=8)\n",
    "principalComponents_smote_3 = pca_smote_final_3.fit_transform(x_PCA_smote_3)\n",
    "principalDf_smote_3 = pd.DataFrame(data = principalComponents_smote_3, columns = ['principal component 1', 'principal component 2', 'principal component 3', 'principal component 4', 'principal component 5', 'principal component 6', 'principal component 7', 'principal component 8'])\n",
    "pca_smote_3 = PCA(n_components=8)\n",
    "principalComponents_smote_3 = pca_smote_3.fit_transform(x_PCA_smote_3)\n",
    "principalDf_smote_3 = pd.DataFrame(data = principalComponents_smote_3, columns = ['principal component 1', 'principal component 2', 'principal component 3', 'principal component 4', 'principal component 5', 'principal component 6', 'principal component 7', 'principal component 8'])"
   ]
  },
  {
   "cell_type": "code",
   "execution_count": 50,
   "id": "f9985279",
   "metadata": {},
   "outputs": [
    {
     "name": "stdout",
     "output_type": "stream",
     "text": [
      "Coefficients: \n",
      " [-4.76379656 -6.22061223 -4.23741193  5.40324288 -1.15502883 -3.51741092]\n",
      "Mean squared error: 2503.62\n",
      "Coefficient of determination: 0.05\n"
     ]
    }
   ],
   "source": [
    "#create train set for model 3\n",
    "\n",
    "regr_model_PCA_smote_3 = linear_model.LinearRegression()\n",
    "df_train_model_PCA_smote_3 = principalDf_smote_3.iloc[:1497,:]\n",
    "df_test_model_PCA_smote_3 = principalDf_3.iloc[1164:,:]\n",
    "x_train_model_PCA_smote_3 = df_train_model_PCA_smote_3[['principal component 1', 'principal component 2', 'principal component 3', 'principal component 4', 'principal component 5', 'principal component 6']]\n",
    "y_train_model_PCA_smote_3 = y_PCA_smote_3[:1497]\n",
    "regr_model_PCA_smote_3.fit(x_train_model_PCA_smote_3, y_train_model_PCA_smote_3)\n",
    "\n",
    "#create test set for model 3\n",
    "\n",
    "x_test_model_PCA_smote_3 = df_test_model_PCA_smote_3[['principal component 1', 'principal component 2', 'principal component 3', 'principal component 4', 'principal component 5', 'principal component 6']]\n",
    "y_test_model_PCA_smote_3 = y_3[1164:,:]\n",
    "\n",
    "y_pred_model_PCA_smote_3 = regr_model_PCA_smote_3.predict(x_test_model_PCA_smote_3)\n",
    "y_test_array_model_PCA_smote_3 = y_test_model_PCA_smote_3\n",
    "\n",
    "\n",
    "print(\"Coefficients: \\n\", regr_model_PCA_smote_3.coef_)\n",
    "# The mean squared error\n",
    "print(\"Mean squared error: %.2f\" % mean_squared_error(y_test_array_model_PCA_smote_3, y_pred_model_PCA_smote_3))\n",
    "# The coefficient of determination: 1 is perfect prediction\n",
    "print(\"Coefficient of determination: %.2f\" % r2_score(y_test_array_model_PCA_smote_3, y_pred_model_PCA_smote_3))"
   ]
  },
  {
   "cell_type": "code",
   "execution_count": 51,
   "id": "c593c0ed",
   "metadata": {},
   "outputs": [
    {
     "data": {
      "text/plain": [
       "[<matplotlib.lines.Line2D at 0x183f4dcf610>]"
      ]
     },
     "execution_count": 51,
     "metadata": {},
     "output_type": "execute_result"
    },
    {
     "data": {
      "image/png": "[encoded data removed]",
      "text/plain": [
       "<Figure size 432x288 with 1 Axes>"
      ]
     },
     "metadata": {
      "needs_background": "light"
     },
     "output_type": "display_data"
    }
   ],
   "source": [
    "features_smote_4 = ['city','year','weekofyear','precipitation_amt_mm','station_avg_temp_c','station_diur_temp_rng_c','station_max_temp_c','station_min_temp_c','station_precip_mm','ndvi_ne','ndvi_nw','ndvi_se','ndvi_sw',\"reanalysis_air_temp_k\",\"reanalysis_avg_temp_k\",\"reanalysis_dew_point_temp_k\",\"reanalysis_max_air_temp_k\", \"reanalysis_min_air_temp_k\",\"reanalysis_sat_precip_amt_mm\",\"reanalysis_precip_amt_kg_per_m2\",\"reanalysis_relative_humidity_percent\", \"reanalysis_specific_humidity_g_per_kg\", \"reanalysis_tdtr_k\", 'total_cases']\n",
    "# Separating out the features\n",
    "x_smote_4 = df_normal_data_include_forcast_value_final.loc[:1164, features_smote_4].values\n",
    "y_smote_4 = df_normal_data_include_forcast_value_final.loc[:1164,['city']].values\n",
    "sm_4 = SMOTE(random_state=42)\n",
    "x_sm_4, y_sm_4 = sm_4.fit_resample(x_smote_4,y_smote_4)\n",
    "temp_x_smote_4 = pd.DataFrame(data = x_sm_4, columns = ['city','year','weekofyear','precipitation_amt_mm','station_avg_temp_c','station_diur_temp_rng_c','station_max_temp_c','station_min_temp_c','station_precip_mm','ndvi_ne','ndvi_nw','ndvi_se','ndvi_sw',\"reanalysis_air_temp_k\",\"reanalysis_avg_temp_k\",\"reanalysis_dew_point_temp_k\",\"reanalysis_max_air_temp_k\", \"reanalysis_min_air_temp_k\",\"reanalysis_sat_precip_amt_mm\",\"reanalysis_precip_amt_kg_per_m2\",\"reanalysis_relative_humidity_percent\", \"reanalysis_specific_humidity_g_per_kg\", \"reanalysis_tdtr_k\", 'total_cases'])\n",
    "temp_y_smote_4 = pd.DataFrame(data = y_sm_4, columns = ['city'])\n",
    "y_smote_4 = temp_x_smote_4['total_cases']\n",
    "temp_x_smote_4 = temp_x_smote_4.drop(['total_cases'], axis=1)\n",
    "x_smote_4 = temp_x_smote_4.assign(city = temp_y_smote_4['city']) \n",
    "\n",
    "\n",
    "features_smote_4 = ['city','year','weekofyear','precipitation_amt_mm','station_avg_temp_c','station_diur_temp_rng_c','station_max_temp_c','station_min_temp_c','station_precip_mm','ndvi_ne','ndvi_nw','ndvi_se','ndvi_sw',\"reanalysis_air_temp_k\",\"reanalysis_avg_temp_k\",\"reanalysis_dew_point_temp_k\",\"reanalysis_max_air_temp_k\", \"reanalysis_min_air_temp_k\",\"reanalysis_sat_precip_amt_mm\",\"reanalysis_precip_amt_kg_per_m2\",\"reanalysis_relative_humidity_percent\", \"reanalysis_specific_humidity_g_per_kg\", \"reanalysis_tdtr_k\"]\n",
    "# Separating out the features\n",
    "x_PCA_smote_4 = x_smote_4.loc[:, features_smote_4].values\n",
    "# Separating out the target\n",
    "\n",
    "#y_4 = df_normal_data_include_forcast_value_final.loc[:,['total_cases']].values\n",
    "y_PCA_smote_4 = y_smote_4.values\n",
    "# Standardizing the features\n",
    "x_PCA_smote_4 = StandardScaler().fit_transform(x_smote_4)\n",
    "\n",
    "pca_smote_4 = PCA().fit(x_PCA_smote_4)\n",
    "plt.plot(np.cumsum(pca_smote_4.explained_variance_ratio_))"
   ]
  },
  {
   "cell_type": "code",
   "execution_count": 52,
   "id": "b9845180",
   "metadata": {},
   "outputs": [],
   "source": [
    "pca_smote_final_4 = PCA(n_components=8)\n",
    "principalComponents_smote_4 = pca_smote_final_4.fit_transform(x_PCA_smote_4)\n",
    "principalDf_smote_4 = pd.DataFrame(data = principalComponents_smote_4, columns = ['principal component 1', 'principal component 2', 'principal component 3', 'principal component 4', 'principal component 5', 'principal component 6', 'principal component 7', 'principal component 8'])\n",
    "pca_smote_4 = PCA(n_components=8)\n",
    "principalComponents_smote_4 = pca_smote_4.fit_transform(x_PCA_smote_4)\n",
    "principalDf_smote_4 = pd.DataFrame(data = principalComponents_smote_4, columns = ['principal component 1', 'principal component 2', 'principal component 3', 'principal component 4', 'principal component 5', 'principal component 6', 'principal component 7', 'principal component 8'])"
   ]
  },
  {
   "cell_type": "code",
   "execution_count": 53,
   "id": "c6e165ef",
   "metadata": {},
   "outputs": [
    {
     "name": "stdout",
     "output_type": "stream",
     "text": [
      "Coefficients: \n",
      " [-3.83003452 -4.26288518 -0.92046847  4.16111823  3.37562256  6.18266945]\n",
      "Mean squared error: 2154.12\n",
      "Coefficient of determination: 0.01\n"
     ]
    }
   ],
   "source": [
    "#create train set for model 4\n",
    "\n",
    "regr_model_PCA_smote_4 = linear_model.LinearRegression()\n",
    "df_train_model_PCA_smote_4 = principalDf_smote_4.iloc[:1497,:]\n",
    "df_test_model_PCA_smote_4 = principalDf_4.iloc[1164:,:]\n",
    "x_train_model_PCA_smote_4 = df_train_model_PCA_smote_4[['principal component 1', 'principal component 2', 'principal component 3', 'principal component 4', 'principal component 5', 'principal component 6']]\n",
    "y_train_model_PCA_smote_4 = y_PCA_smote_4[:1497]\n",
    "regr_model_PCA_smote_4.fit(x_train_model_PCA_smote_4, y_train_model_PCA_smote_4)\n",
    "\n",
    "#create test set for model 4\n",
    "\n",
    "x_test_model_PCA_smote_4 = df_test_model_PCA_smote_4[['principal component 1', 'principal component 2', 'principal component 3', 'principal component 4', 'principal component 5', 'principal component 6']]\n",
    "y_test_model_PCA_smote_4 = y_4[1164:,:]\n",
    "\n",
    "y_pred_model_PCA_smote_4 = regr_model_PCA_smote_4.predict(x_test_model_PCA_smote_4)\n",
    "y_test_array_model_PCA_smote_4 = y_test_model_PCA_smote_4\n",
    "\n",
    "\n",
    "print(\"Coefficients: \\n\", regr_model_PCA_smote_4.coef_)\n",
    "# The mean squared error\n",
    "print(\"Mean squared error: %.2f\" % mean_squared_error(y_test_array_model_PCA_smote_4, y_pred_model_PCA_smote_4))\n",
    "# The coefficient of determination: 1 is perfect prediction\n",
    "print(\"Coefficient of determination: %.2f\" % r2_score(y_test_array_model_PCA_smote_4, y_pred_model_PCA_smote_4))"
   ]
  },
  {
   "cell_type": "code",
   "execution_count": 54,
   "id": "e145d104",
   "metadata": {},
   "outputs": [],
   "source": [
    "#split data"
   ]
  },
  {
   "cell_type": "code",
   "execution_count": 55,
   "id": "77578b6c",
   "metadata": {},
   "outputs": [],
   "source": [
    "grouped_1 = df_mix_ndvi_exclude_forcast_value_final.groupby(df_mix_ndvi_exclude_forcast_value_final[\"city\"])\n",
    "grouped_2 = df_mix_ndvi_include_forcast_value_final.groupby(df_mix_ndvi_include_forcast_value_final[\"city\"])\n",
    "grouped_3 = df_normal_data_exclude_forcast_value_final.groupby(df_normal_data_exclude_forcast_value_final[\"city\"])\n",
    "grouped_4 = df_normal_data_include_forcast_value_final.groupby(df_normal_data_include_forcast_value_final[\"city\"])\n",
    "\n",
    "df_mix_ndvi_exclude_forcast_value_final_0 = grouped_1.get_group(0)\n",
    "df_mix_ndvi_exclude_forcast_value_final_1 = grouped_1.get_group(1)\n",
    "\n",
    "df_mix_ndvi_include_forcast_value_final_0 = grouped_2.get_group(0)\n",
    "df_mix_ndvi_include_forcast_value_final_1 = grouped_2.get_group(1)\n",
    "\n",
    "df_normal_data_exclude_forcast_value_final_0 = grouped_3.get_group(0)\n",
    "df_normal_data_exclude_forcast_value_final_1 = grouped_3.get_group(1)\n",
    "\n",
    "df_normal_data_include_forcast_value_final_0 = grouped_4.get_group(0)\n",
    "df_normal_data_include_forcast_value_final_1 = grouped_4.get_group(1)"
   ]
  },
  {
   "cell_type": "code",
   "execution_count": 56,
   "id": "8efbe9f2",
   "metadata": {},
   "outputs": [],
   "source": [
    "features_1 = ['city','year','weekofyear','precipitation_amt_mm','station_avg_temp_c','station_diur_temp_rng_c','station_max_temp_c','station_min_temp_c','station_precip_mm','ndvi_north','ndvi_south']\n",
    "# Separating out the features\n",
    "x_1_0 = df_mix_ndvi_exclude_forcast_value_final_0.loc[:, features_1].values\n",
    "# Separating out the target\n",
    "y_1_0 = df_mix_ndvi_exclude_forcast_value_final_0.loc[:,['total_cases']].values\n",
    "# Standardizing the features\n",
    "x_1_0 = StandardScaler().fit_transform(x_1_0)\n",
    "\n",
    "#normallized data"
   ]
  },
  {
   "cell_type": "code",
   "execution_count": 57,
   "id": "acc005d3",
   "metadata": {},
   "outputs": [
    {
     "data": {
      "text/plain": [
       "Text(0, 0.5, 'cumulative explained variance')"
      ]
     },
     "execution_count": 57,
     "metadata": {},
     "output_type": "execute_result"
    },
    {
     "data": {
      "image/png": "[encoded data removed]",
      "text/plain": [
       "<Figure size 432x288 with 1 Axes>"
      ]
     },
     "metadata": {
      "needs_background": "light"
     },
     "output_type": "display_data"
    }
   ],
   "source": [
    "pca_1_0 = PCA().fit(x_1_0)\n",
    "plt.plot(np.cumsum(pca_1_0.explained_variance_ratio_))\n",
    "plt.xlabel('number of components')\n",
    "plt.ylabel('cumulative explained variance')"
   ]
  },
  {
   "cell_type": "code",
   "execution_count": 58,
   "id": "3fd1b08b",
   "metadata": {},
   "outputs": [],
   "source": [
    "#create train set for model 1\n",
    "pca_1_0 = PCA(n_components=6)\n",
    "principalComponents_1_0 = pca_1_0.fit_transform(x_1_0)\n",
    "principalDf_1_0 = pd.DataFrame(data = principalComponents_1_0, columns = ['principal component 1', 'principal component 2', 'principal component 3', 'principal component 4', 'principal component 5', 'principal component 6'])\n",
    "\n",
    "df_train_model_PCA_1_0 = principalDf_1_0.iloc[:748,:]\n",
    "df_test_model_PCA_1_0 = principalDf_1_0.iloc[748:,:]\n",
    "x_train_model_PCA_1_0 = df_train_model_PCA_1_0[['principal component 1', 'principal component 2', 'principal component 3', 'principal component 4', 'principal component 5', 'principal component 6']]\n",
    "y_train_model_PCA_1_0 = y_1_0[:748,:]\n",
    "\n",
    "#create test set for model 1\n",
    "\n",
    "x_test_model_PCA_1_0 = df_test_model_PCA_1_0[['principal component 1', 'principal component 2', 'principal component 3', 'principal component 4', 'principal component 5', 'principal component 6']]\n",
    "y_test_model_PCA_1_0 = y_1_0[748:,:]\n"
   ]
  },
  {
   "cell_type": "code",
   "execution_count": 59,
   "id": "3b8dd1ec",
   "metadata": {},
   "outputs": [],
   "source": [
    "features_1 = ['city','year','weekofyear','precipitation_amt_mm','station_avg_temp_c','station_diur_temp_rng_c','station_max_temp_c','station_min_temp_c','station_precip_mm','ndvi_north','ndvi_south']\n",
    "# Separating out the features\n",
    "x_1_1 = df_mix_ndvi_exclude_forcast_value_final_1.loc[:, features_1].values\n",
    "# Separating out the target\n",
    "y_1_1 = df_mix_ndvi_exclude_forcast_value_final_1.loc[:,['total_cases']].values\n",
    "# Standardizing the features\n",
    "x_1_1 = StandardScaler().fit_transform(x_1_1)\n",
    "\n",
    "#normallized data\n"
   ]
  },
  {
   "cell_type": "code",
   "execution_count": 60,
   "id": "08cd9c4e",
   "metadata": {},
   "outputs": [
    {
     "data": {
      "text/plain": [
       "Text(0, 0.5, 'cumulative explained variance')"
      ]
     },
     "execution_count": 60,
     "metadata": {},
     "output_type": "execute_result"
    },
    {
     "data": {
      "image/png": "[encoded data removed]",
      "text/plain": [
       "<Figure size 432x288 with 1 Axes>"
      ]
     },
     "metadata": {
      "needs_background": "light"
     },
     "output_type": "display_data"
    }
   ],
   "source": [
    "pca_1_1 = PCA().fit(x_1_1)\n",
    "plt.plot(np.cumsum(pca_1_1.explained_variance_ratio_))\n",
    "plt.xlabel('number of components')\n",
    "plt.ylabel('cumulative explained variance')"
   ]
  },
  {
   "cell_type": "code",
   "execution_count": 61,
   "id": "a9a76c76",
   "metadata": {},
   "outputs": [],
   "source": [
    "#create train set for model 1\n",
    "pca_1_1 = PCA(n_components=6)\n",
    "principalComponents_1_1 = pca_1_1.fit_transform(x_1_1)\n",
    "principalDf_1_1 = pd.DataFrame(data = principalComponents_1_1, columns = ['principal component 1', 'principal component 2', 'principal component 3', 'principal component 4', 'principal component 5', 'principal component 6'])\n",
    "\n",
    "df_train_model_PCA_1_1 = principalDf_1_1.iloc[:416,:]\n",
    "df_test_model_PCA_1_1 = principalDf_1_1.iloc[416:,:]\n",
    "x_train_model_PCA_1_1 = df_train_model_PCA_1_1[['principal component 1', 'principal component 2', 'principal component 3', 'principal component 4', 'principal component 5', 'principal component 6']]\n",
    "y_train_model_PCA_1_1 = y_1_1[:416,:]\n",
    "\n",
    "\n",
    "#create test set for model 1\n",
    "\n",
    "x_test_model_PCA_1_1 = df_test_model_PCA_1_1[['principal component 1', 'principal component 2', 'principal component 3', 'principal component 4', 'principal component 5', 'principal component 6']]\n",
    "y_test_model_PCA_1_1 = y_1_1[416:,:]\n"
   ]
  },
  {
   "cell_type": "code",
   "execution_count": 62,
   "id": "b338438f",
   "metadata": {},
   "outputs": [],
   "source": [
    "features_2 = ['city','year','weekofyear','precipitation_amt_mm','station_avg_temp_c','station_diur_temp_rng_c','station_max_temp_c','station_min_temp_c','station_precip_mm','ndvi_north','ndvi_south',\"reanalysis_air_temp_k\",\"reanalysis_avg_temp_k\",\"reanalysis_dew_point_temp_k\",\"reanalysis_max_air_temp_k\", \"reanalysis_min_air_temp_k\",\"reanalysis_sat_precip_amt_mm\",\"reanalysis_precip_amt_kg_per_m2\",\"reanalysis_relative_humidity_percent\", \"reanalysis_specific_humidity_g_per_kg\", \"reanalysis_tdtr_k\"]\n",
    "# Separating out the features\n",
    "x_2_0 = df_mix_ndvi_include_forcast_value_final_0.loc[:, features_2].values\n",
    "# Separating out the target\n",
    "y_2_0 = df_mix_ndvi_include_forcast_value_final_0.loc[:,['total_cases']].values\n",
    "# Standardizing the features\n",
    "x_2_0 = StandardScaler().fit_transform(x_2_0)\n"
   ]
  },
  {
   "cell_type": "code",
   "execution_count": 63,
   "id": "1b1ada4c",
   "metadata": {},
   "outputs": [
    {
     "data": {
      "text/plain": [
       "Text(0, 0.5, 'cumulative explained variance')"
      ]
     },
     "execution_count": 63,
     "metadata": {},
     "output_type": "execute_result"
    },
    {
     "data": {
      "image/png": "[encoded data removed]",
      "text/plain": [
       "<Figure size 432x288 with 1 Axes>"
      ]
     },
     "metadata": {
      "needs_background": "light"
     },
     "output_type": "display_data"
    }
   ],
   "source": [
    "pca_2_0 = PCA().fit(x_2_0)\n",
    "plt.plot(np.cumsum(pca_2_0.explained_variance_ratio_))\n",
    "plt.xlabel('number of components')\n",
    "plt.ylabel('cumulative explained variance')"
   ]
  },
  {
   "cell_type": "code",
   "execution_count": 64,
   "id": "679c77da",
   "metadata": {},
   "outputs": [],
   "source": [
    "#create train set for model 2\n",
    "pca_2_0 = PCA(n_components=6)\n",
    "principalComponents_2_0 = pca_2_0.fit_transform(x_2_0)\n",
    "principalDf_2_0 = pd.DataFrame(data = principalComponents_2_0, columns = ['principal component 1', 'principal component 2', 'principal component 3', 'principal component 4', 'principal component 5', 'principal component 6'])\n",
    "\n",
    "df_train_model_PCA_2_0 = principalDf_2_0.iloc[:748,:]\n",
    "df_test_model_PCA_2_0 = principalDf_2_0.iloc[748:,:]\n",
    "x_train_model_PCA_2_0 = df_train_model_PCA_2_0[['principal component 1', 'principal component 2', 'principal component 3', 'principal component 4', 'principal component 5', 'principal component 6']]\n",
    "y_train_model_PCA_2_0 = y_2_0[:748,:]\n",
    "\n",
    "\n",
    "#create test set for model 1\n",
    "\n",
    "x_test_model_PCA_2_0 = df_test_model_PCA_2_0[['principal component 1', 'principal component 2', 'principal component 3', 'principal component 4', 'principal component 5', 'principal component 6']]\n",
    "y_test_model_PCA_2_0 = y_2_0[748:,:]\n"
   ]
  },
  {
   "cell_type": "code",
   "execution_count": 65,
   "id": "f1adf492",
   "metadata": {},
   "outputs": [],
   "source": [
    "features_2 = ['city','year','weekofyear','precipitation_amt_mm','station_avg_temp_c','station_diur_temp_rng_c','station_max_temp_c','station_min_temp_c','station_precip_mm','ndvi_north','ndvi_south',\"reanalysis_air_temp_k\",\"reanalysis_avg_temp_k\",\"reanalysis_dew_point_temp_k\",\"reanalysis_max_air_temp_k\", \"reanalysis_min_air_temp_k\",\"reanalysis_sat_precip_amt_mm\",\"reanalysis_precip_amt_kg_per_m2\",\"reanalysis_relative_humidity_percent\", \"reanalysis_specific_humidity_g_per_kg\", \"reanalysis_tdtr_k\"]\n",
    "# Separating out the features\n",
    "x_2_1 = df_mix_ndvi_include_forcast_value_final_1.loc[:, features_2].values\n",
    "# Separating out the target\n",
    "y_2_1 = df_mix_ndvi_include_forcast_value_final_1.loc[:,['total_cases']].values\n",
    "# Standardizing the features\n",
    "x_2_1 = StandardScaler().fit_transform(x_2_1)\n",
    "\n",
    "#normallized data"
   ]
  },
  {
   "cell_type": "code",
   "execution_count": 66,
   "id": "81cdd38c",
   "metadata": {},
   "outputs": [
    {
     "data": {
      "text/plain": [
       "Text(0, 0.5, 'cumulative explained variance')"
      ]
     },
     "execution_count": 66,
     "metadata": {},
     "output_type": "execute_result"
    },
    {
     "data": {
      "image/png": "[encoded data removed]",
      "text/plain": [
       "<Figure size 432x288 with 1 Axes>"
      ]
     },
     "metadata": {
      "needs_background": "light"
     },
     "output_type": "display_data"
    }
   ],
   "source": [
    "pca_2_1 = PCA().fit(x_2_1)\n",
    "plt.plot(np.cumsum(pca_2_1.explained_variance_ratio_))\n",
    "plt.xlabel('number of components')\n",
    "plt.ylabel('cumulative explained variance')"
   ]
  },
  {
   "cell_type": "code",
   "execution_count": 67,
   "id": "abaf409d",
   "metadata": {},
   "outputs": [],
   "source": [
    "#create train set for model 1\n",
    "pca_2_1 = PCA(n_components=8)\n",
    "principalComponents_2_1 = pca_2_1.fit_transform(x_2_1)\n",
    "principalDf_2_1 = pd.DataFrame(data = principalComponents_2_1, columns = ['principal component 1', 'principal component 2', 'principal component 3', 'principal component 4', 'principal component 5', 'principal component 6', 'principal component 7', 'principal component 8'])\n",
    "\n",
    "df_train_model_PCA_2_1 = principalDf_2_1.iloc[:416,:]\n",
    "df_test_model_PCA_2_1 = principalDf_2_1.iloc[416:,:]\n",
    "x_train_model_PCA_2_1 = df_train_model_PCA_2_1[['principal component 1', 'principal component 2', 'principal component 3', 'principal component 4', 'principal component 5', 'principal component 6', 'principal component 7', 'principal component 8']]\n",
    "y_train_model_PCA_2_1 = y_2_1[:416,:]\n",
    "\n",
    "\n",
    "#create test set for model 1\n",
    "\n",
    "x_test_model_PCA_2_1 = df_test_model_PCA_2_1[['principal component 1', 'principal component 2', 'principal component 3', 'principal component 4', 'principal component 5', 'principal component 6', 'principal component 7', 'principal component 8']]\n",
    "y_test_model_PCA_2_1 = y_2_1[416:,:]\n"
   ]
  },
  {
   "cell_type": "code",
   "execution_count": 68,
   "id": "1a5c42c4",
   "metadata": {},
   "outputs": [],
   "source": [
    "features_3 = ['city','year','weekofyear','precipitation_amt_mm','station_avg_temp_c','station_diur_temp_rng_c','station_max_temp_c','station_min_temp_c','station_precip_mm','ndvi_ne','ndvi_nw','ndvi_se','ndvi_sw']\n",
    "# Separating out the features\n",
    "x_3_0 = df_normal_data_exclude_forcast_value_final_0.loc[:, features_3].values\n",
    "# Separating out the target\n",
    "y_3_0 = df_normal_data_exclude_forcast_value_final_0.loc[:,['total_cases']].values\n",
    "# Standardizing the features\n",
    "x_3_0 = StandardScaler().fit_transform(x_3_0)\n"
   ]
  },
  {
   "cell_type": "code",
   "execution_count": 69,
   "id": "d34a0296",
   "metadata": {},
   "outputs": [
    {
     "data": {
      "text/plain": [
       "Text(0, 0.5, 'cumulative explained variance')"
      ]
     },
     "execution_count": 69,
     "metadata": {},
     "output_type": "execute_result"
    },
    {
     "data": {
      "image/png": "[encoded data removed]",
      "text/plain": [
       "<Figure size 432x288 with 1 Axes>"
      ]
     },
     "metadata": {
      "needs_background": "light"
     },
     "output_type": "display_data"
    }
   ],
   "source": [
    "pca_3_0 = PCA().fit(x_3_0)\n",
    "plt.plot(np.cumsum(pca_3_0.explained_variance_ratio_))\n",
    "plt.xlabel('number of components')\n",
    "plt.ylabel('cumulative explained variance')"
   ]
  },
  {
   "cell_type": "code",
   "execution_count": 70,
   "id": "9b20c344",
   "metadata": {},
   "outputs": [],
   "source": [
    "#create train set for model 2\n",
    "pca_3_0 = PCA(n_components=8)\n",
    "principalComponents_3_0 = pca_3_0.fit_transform(x_3_0)\n",
    "principalDf_3_0 = pd.DataFrame(data = principalComponents_3_0, columns = ['principal component 1', 'principal component 2', 'principal component 3', 'principal component 4', 'principal component 5', 'principal component 6', 'principal component 7', 'principal component 8'])\n",
    "\n",
    "df_train_model_PCA_3_0 = principalDf_3_0.iloc[:748,:]\n",
    "df_test_model_PCA_3_0 = principalDf_3_0.iloc[748:,:]\n",
    "x_train_model_PCA_3_0 = df_train_model_PCA_3_0[['principal component 1', 'principal component 2', 'principal component 3', 'principal component 4', 'principal component 5', 'principal component 6', 'principal component 7', 'principal component 8']]\n",
    "y_train_model_PCA_3_0 = y_3_0[:748,:]\n",
    "\n",
    "\n",
    "#create test set for model 1\n",
    "\n",
    "x_test_model_PCA_3_0 = df_test_model_PCA_3_0[['principal component 1', 'principal component 2', 'principal component 3', 'principal component 4', 'principal component 5', 'principal component 6', 'principal component 7', 'principal component 8']]\n",
    "y_test_model_PCA_3_0 = y_3_0[748:,:]\n"
   ]
  },
  {
   "cell_type": "code",
   "execution_count": 71,
   "id": "43b8d85c",
   "metadata": {},
   "outputs": [],
   "source": [
    "features_3 = ['city','year','weekofyear','precipitation_amt_mm','station_avg_temp_c','station_diur_temp_rng_c','station_max_temp_c','station_min_temp_c','station_precip_mm','ndvi_ne','ndvi_nw','ndvi_se','ndvi_sw']\n",
    "# Separating out the features\n",
    "x_3_1 = df_normal_data_exclude_forcast_value_final_1.loc[:, features_3].values\n",
    "# Separating out the target\n",
    "y_3_1 = df_normal_data_exclude_forcast_value_final_1.loc[:,['total_cases']].values\n",
    "# Standardizing the features\n",
    "x_3_1 = StandardScaler().fit_transform(x_3_1)\n",
    "\n",
    "#normallized data"
   ]
  },
  {
   "cell_type": "code",
   "execution_count": 72,
   "id": "11e69ac1",
   "metadata": {},
   "outputs": [
    {
     "data": {
      "text/plain": [
       "Text(0, 0.5, 'cumulative explained variance')"
      ]
     },
     "execution_count": 72,
     "metadata": {},
     "output_type": "execute_result"
    },
    {
     "data": {
      "image/png": "[encoded data removed]",
      "text/plain": [
       "<Figure size 432x288 with 1 Axes>"
      ]
     },
     "metadata": {
      "needs_background": "light"
     },
     "output_type": "display_data"
    }
   ],
   "source": [
    "pca_3_1 = PCA().fit(x_3_1)\n",
    "plt.plot(np.cumsum(pca_3_1.explained_variance_ratio_))\n",
    "plt.xlabel('number of components')\n",
    "plt.ylabel('cumulative explained variance')"
   ]
  },
  {
   "cell_type": "code",
   "execution_count": 73,
   "id": "c577d682",
   "metadata": {},
   "outputs": [],
   "source": [
    "#create train set for model 1\n",
    "pca_3_1 = PCA(n_components=8)\n",
    "principalComponents_3_1 = pca_3_1.fit_transform(x_3_1)\n",
    "principalDf_3_1 = pd.DataFrame(data = principalComponents_3_1, columns = ['principal component 1', 'principal component 2', 'principal component 3', 'principal component 4', 'principal component 5', 'principal component 6', 'principal component 7', 'principal component 8'])\n",
    "\n",
    "df_train_model_PCA_3_1 = principalDf_3_1.iloc[:416,:]\n",
    "df_test_model_PCA_3_1 = principalDf_3_1.iloc[416:,:]\n",
    "x_train_model_PCA_3_1 = df_train_model_PCA_3_1[['principal component 1', 'principal component 2', 'principal component 3', 'principal component 4', 'principal component 5', 'principal component 6', 'principal component 7', 'principal component 8']]\n",
    "y_train_model_PCA_3_1 = y_3_1[:416,:]\n",
    "\n",
    "\n",
    "#create test set for model 1\n",
    "\n",
    "x_test_model_PCA_3_1 = df_test_model_PCA_3_1[['principal component 1', 'principal component 2', 'principal component 3', 'principal component 4', 'principal component 5', 'principal component 6', 'principal component 7', 'principal component 8']]\n",
    "y_test_model_PCA_3_1 = y_3_1[416:,:]\n"
   ]
  },
  {
   "cell_type": "code",
   "execution_count": 74,
   "id": "2e6ef1f8",
   "metadata": {},
   "outputs": [],
   "source": [
    "features_4 = ['city','year','weekofyear','precipitation_amt_mm','station_avg_temp_c','station_diur_temp_rng_c','station_max_temp_c','station_min_temp_c','station_precip_mm','ndvi_ne','ndvi_nw','ndvi_se','ndvi_sw',\"reanalysis_air_temp_k\",\"reanalysis_avg_temp_k\",\"reanalysis_dew_point_temp_k\",\"reanalysis_max_air_temp_k\", \"reanalysis_min_air_temp_k\",\"reanalysis_sat_precip_amt_mm\",\"reanalysis_precip_amt_kg_per_m2\",\"reanalysis_relative_humidity_percent\", \"reanalysis_specific_humidity_g_per_kg\", \"reanalysis_tdtr_k\"]\n",
    "# Separating out the features\n",
    "x_4_0 = df_normal_data_include_forcast_value_final_0.loc[:, features_4].values\n",
    "# Separating out the target\n",
    "y_4_0 = df_normal_data_include_forcast_value_final_0.loc[:,['total_cases']].values\n",
    "# Standardizing the features\n",
    "x_4_0 = StandardScaler().fit_transform(x_4_0)"
   ]
  },
  {
   "cell_type": "code",
   "execution_count": 75,
   "id": "0b7b7f22",
   "metadata": {},
   "outputs": [
    {
     "data": {
      "text/plain": [
       "Text(0, 0.5, 'cumulative explained variance')"
      ]
     },
     "execution_count": 75,
     "metadata": {},
     "output_type": "execute_result"
    },
    {
     "data": {
      "image/png": "[encoded data removed]",
      "text/plain": [
       "<Figure size 432x288 with 1 Axes>"
      ]
     },
     "metadata": {
      "needs_background": "light"
     },
     "output_type": "display_data"
    }
   ],
   "source": [
    "pca_4_0 = PCA().fit(x_4_0)\n",
    "plt.plot(np.cumsum(pca_4_0.explained_variance_ratio_))\n",
    "plt.xlabel('number of components')\n",
    "plt.ylabel('cumulative explained variance')"
   ]
  },
  {
   "cell_type": "code",
   "execution_count": 76,
   "id": "c576b364",
   "metadata": {},
   "outputs": [],
   "source": [
    "#create train set for model 2\n",
    "pca_4_0 = PCA(n_components=8)\n",
    "principalComponents_4_0 = pca_4_0.fit_transform(x_4_0)\n",
    "principalDf_4_0 = pd.DataFrame(data = principalComponents_4_0, columns = ['principal component 1', 'principal component 2', 'principal component 3', 'principal component 4', 'principal component 5', 'principal component 6', 'principal component 7', 'principal component 8'])\n",
    "\n",
    "df_train_model_PCA_4_0 = principalDf_4_0.iloc[:748,:]\n",
    "df_test_model_PCA_4_0 = principalDf_4_0.iloc[748:,:]\n",
    "x_train_model_PCA_4_0 = df_train_model_PCA_4_0[['principal component 1', 'principal component 2', 'principal component 3', 'principal component 4', 'principal component 5', 'principal component 6', 'principal component 7', 'principal component 8']]\n",
    "y_train_model_PCA_4_0 = y_4_0[:748,:]\n",
    "\n",
    "\n",
    "#create test set for model 1\n",
    "\n",
    "x_test_model_PCA_4_0 = df_test_model_PCA_4_0[['principal component 1', 'principal component 2', 'principal component 3', 'principal component 4', 'principal component 5', 'principal component 6', 'principal component 7', 'principal component 8']]\n",
    "y_test_model_PCA_4_0 = y_4_0[748:,:]\n"
   ]
  },
  {
   "cell_type": "code",
   "execution_count": 77,
   "id": "5942315f",
   "metadata": {},
   "outputs": [],
   "source": [
    "features_4 = ['city','year','weekofyear','precipitation_amt_mm','station_avg_temp_c','station_diur_temp_rng_c','station_max_temp_c','station_min_temp_c','station_precip_mm','ndvi_ne','ndvi_nw','ndvi_se','ndvi_sw',\"reanalysis_air_temp_k\",\"reanalysis_avg_temp_k\",\"reanalysis_dew_point_temp_k\",\"reanalysis_max_air_temp_k\", \"reanalysis_min_air_temp_k\",\"reanalysis_sat_precip_amt_mm\",\"reanalysis_precip_amt_kg_per_m2\",\"reanalysis_relative_humidity_percent\", \"reanalysis_specific_humidity_g_per_kg\", \"reanalysis_tdtr_k\"]\n",
    "# Separating out the features\n",
    "x_4_1 = df_normal_data_include_forcast_value_final_1.loc[:, features_4].values\n",
    "# Separating out the target\n",
    "y_4_1 = df_normal_data_include_forcast_value_final_1.loc[:,['total_cases']].values\n",
    "# Standardizing the features\n",
    "x_4_1 = StandardScaler().fit_transform(x_4_1)\n",
    "\n",
    "#normallized data"
   ]
  },
  {
   "cell_type": "code",
   "execution_count": 78,
   "id": "8801701b",
   "metadata": {},
   "outputs": [
    {
     "data": {
      "text/plain": [
       "Text(0, 0.5, 'cumulative explained variance')"
      ]
     },
     "execution_count": 78,
     "metadata": {},
     "output_type": "execute_result"
    },
    {
     "data": {
      "image/png": "[encoded data removed]",
      "text/plain": [
       "<Figure size 432x288 with 1 Axes>"
      ]
     },
     "metadata": {
      "needs_background": "light"
     },
     "output_type": "display_data"
    }
   ],
   "source": [
    "pca_4_1 = PCA().fit(x_4_1)\n",
    "plt.plot(np.cumsum(pca_4_1.explained_variance_ratio_))\n",
    "plt.xlabel('number of components')\n",
    "plt.ylabel('cumulative explained variance')"
   ]
  },
  {
   "cell_type": "code",
   "execution_count": 79,
   "id": "df9b7148",
   "metadata": {},
   "outputs": [],
   "source": [
    "#create train set for model 1\n",
    "pca_4_1 = PCA(n_components=8)\n",
    "principalComponents_4_1 = pca_4_1.fit_transform(x_4_1)\n",
    "principalDf_4_1 = pd.DataFrame(data = principalComponents_4_1, columns = ['principal component 1', 'principal component 2', 'principal component 3', 'principal component 4', 'principal component 5', 'principal component 6', 'principal component 7', 'principal component 8'])\n",
    "\n",
    "df_train_model_PCA_4_1 = principalDf_4_1.iloc[:416,:]\n",
    "df_test_model_PCA_4_1 = principalDf_4_1.iloc[416:,:]\n",
    "x_train_model_PCA_4_1 = df_train_model_PCA_4_1[['principal component 1', 'principal component 2', 'principal component 3', 'principal component 4', 'principal component 5', 'principal component 6', 'principal component 7', 'principal component 8']]\n",
    "y_train_model_PCA_4_1 = y_4_1[:416,:]\n",
    "\n",
    "\n",
    "#create test set for model 1\n",
    "\n",
    "x_test_model_PCA_4_1 = df_test_model_PCA_4_1[['principal component 1', 'principal component 2', 'principal component 3', 'principal component 4', 'principal component 5', 'principal component 6', 'principal component 7', 'principal component 8']]\n",
    "y_test_model_PCA_4_1 = y_4_1[416:,:]\n"
   ]
  },
  {
   "cell_type": "code",
   "execution_count": null,
   "id": "9a8a581d",
   "metadata": {},
   "outputs": [],
   "source": []
  },
  {
   "cell_type": "code",
   "execution_count": null,
   "id": "1fc4344c",
   "metadata": {},
   "outputs": [],
   "source": []
  },
  {
   "cell_type": "code",
   "execution_count": null,
   "id": "c9c0d6da",
   "metadata": {},
   "outputs": [],
   "source": []
  },
  {
   "cell_type": "code",
   "execution_count": 80,
   "id": "6dc62291",
   "metadata": {},
   "outputs": [
    {
     "name": "stdout",
     "output_type": "stream",
     "text": [
      "Coefficients: \n",
      " [[-6.88380042 -2.52791642  5.07117806  2.67533996 -7.97170987 10.57959869]]\n",
      "Mean squared error: 2615.11\n",
      "Coefficient of determination: 0.10\n"
     ]
    }
   ],
   "source": [
    "regr_model_PCA_1_0 = linear_model.LinearRegression()\n",
    "regr_model_PCA_1_0.fit(x_train_model_PCA_1_0, y_train_model_PCA_1_0)\n",
    "y_pred_model_PCA_1_0 = regr_model_PCA_1_0.predict(x_test_model_PCA_1_0)\n",
    "y_test_array_model_PCA_1_0 = y_test_model_PCA_1_0\n",
    "\n",
    "print(\"Coefficients: \\n\", regr_model_PCA_1_0.coef_)\n",
    "# The mean squared error\n",
    "print(\"Mean squared error: %.2f\" % mean_squared_error(y_test_array_model_PCA_1_0, y_pred_model_PCA_1_0))\n",
    "# The coefficient of determination: 1 is perfect prediction\n",
    "print(\"Coefficient of determination: %.2f\" % r2_score(y_test_array_model_PCA_1_0, y_pred_model_PCA_1_0))"
   ]
  },
  {
   "cell_type": "code",
   "execution_count": 81,
   "id": "adb6fb44",
   "metadata": {},
   "outputs": [
    {
     "name": "stdout",
     "output_type": "stream",
     "text": [
      "Coefficients: \n",
      " [[ 0.24658418 -1.61207402 -0.68044261 -1.47689414  0.64948039 -0.74930732]]\n",
      "Mean squared error: 71.32\n",
      "Coefficient of determination: 0.04\n"
     ]
    }
   ],
   "source": [
    "regr_model_PCA_1_1 = linear_model.LinearRegression()\n",
    "regr_model_PCA_1_1.fit(x_train_model_PCA_1_1, y_train_model_PCA_1_1)\n",
    "y_pred_model_PCA_1_1 = regr_model_PCA_1_1.predict(x_test_model_PCA_1_1)\n",
    "y_test_array_model_PCA_1_1 = y_test_model_PCA_1_1\n",
    "\n",
    "print(\"Coefficients: \\n\", regr_model_PCA_1_1.coef_)\n",
    "# The mean squared error\n",
    "print(\"Mean squared error: %.2f\" % mean_squared_error(y_test_array_model_PCA_1_1, y_pred_model_PCA_1_1))\n",
    "# The coefficient of determination: 1 is perfect prediction\n",
    "print(\"Coefficient of determination: %.2f\" % r2_score(y_test_array_model_PCA_1_1, y_pred_model_PCA_1_1))"
   ]
  },
  {
   "cell_type": "code",
   "execution_count": 82,
   "id": "3be42d68",
   "metadata": {},
   "outputs": [
    {
     "name": "stdout",
     "output_type": "stream",
     "text": [
      "Coefficients: \n",
      " [[-3.99091795  0.32304601 -6.23711822 -3.20755085 -0.70249176 11.53528728]]\n",
      "Mean squared error: 1724.86\n",
      "Coefficient of determination: 0.10\n"
     ]
    }
   ],
   "source": [
    "regr_model_PCA_2_0 = linear_model.LinearRegression()\n",
    "regr_model_PCA_2_0.fit(x_train_model_PCA_2_0, y_train_model_PCA_2_0)\n",
    "y_pred_model_PCA_2_0 = regr_model_PCA_2_0.predict(x_test_model_PCA_2_0)\n",
    "y_test_array_model_PCA_2_0 = y_test_model_PCA_2_0\n",
    "\n",
    "print(\"Coefficients: \\n\", regr_model_PCA_2_0.coef_)\n",
    "# The mean squared error\n",
    "print(\"Mean squared error: %.2f\" % mean_squared_error(y_test_array_model_PCA_2_0, y_pred_model_PCA_2_0))\n",
    "# The coefficient of determination: 1 is perfect prediction\n",
    "print(\"Coefficient of determination: %.2f\" % r2_score(y_test_array_model_PCA_2_0, y_pred_model_PCA_2_0))"
   ]
  },
  {
   "cell_type": "code",
   "execution_count": 83,
   "id": "9d549168",
   "metadata": {},
   "outputs": [
    {
     "name": "stdout",
     "output_type": "stream",
     "text": [
      "Coefficients: \n",
      " [[-0.61815847 -0.93651058 -0.3126636  -0.52993358 -0.04181514 -0.60248676\n",
      "  -0.70128635  0.68107142]]\n",
      "Mean squared error: 163.15\n",
      "Coefficient of determination: 0.05\n"
     ]
    }
   ],
   "source": [
    "regr_model_PCA_2_1 = linear_model.LinearRegression()\n",
    "regr_model_PCA_2_1.fit(x_train_model_PCA_2_1, y_train_model_PCA_2_1)\n",
    "y_pred_model_PCA_2_1 = regr_model_PCA_2_1.predict(x_test_model_PCA_2_1)\n",
    "y_test_array_model_PCA_2_1 = y_test_model_PCA_2_1\n",
    "\n",
    "print(\"Coefficients: \\n\", regr_model_PCA_2_1.coef_)\n",
    "# The mean squared error\n",
    "print(\"Mean squared error: %.2f\" % mean_squared_error(y_test_array_model_PCA_2_1, y_pred_model_PCA_2_1))\n",
    "# The coefficient of determination: 1 is perfect prediction\n",
    "print(\"Coefficient of determination: %.2f\" % r2_score(y_test_array_model_PCA_2_1, y_pred_model_PCA_2_1))"
   ]
  },
  {
   "cell_type": "code",
   "execution_count": 84,
   "id": "bdbf61d8",
   "metadata": {},
   "outputs": [
    {
     "name": "stdout",
     "output_type": "stream",
     "text": [
      "Coefficients: \n",
      " [[-6.70420514 -1.5085303   0.4651489   2.23567903 -4.49751319 12.54371359\n",
      "   1.4124979  -0.51378005]]\n",
      "Mean squared error: 3284.53\n",
      "Coefficient of determination: 0.12\n"
     ]
    }
   ],
   "source": [
    "regr_model_PCA_3_0 = linear_model.LinearRegression()\n",
    "regr_model_PCA_3_0.fit(x_train_model_PCA_3_0, y_train_model_PCA_3_0)\n",
    "y_pred_model_PCA_3_0 = regr_model_PCA_3_0.predict(x_test_model_PCA_3_0)\n",
    "y_test_array_model_PCA_3_0 = y_test_model_PCA_3_0\n",
    "\n",
    "print(\"Coefficients: \\n\", regr_model_PCA_3_0.coef_)\n",
    "# The mean squared error\n",
    "print(\"Mean squared error: %.2f\" % mean_squared_error(y_test_array_model_PCA_3_0, y_pred_model_PCA_3_0))\n",
    "# The coefficient of determination: 1 is perfect prediction\n",
    "print(\"Coefficient of determination: %.2f\" % r2_score(y_test_array_model_PCA_3_0, y_pred_model_PCA_3_0))"
   ]
  },
  {
   "cell_type": "code",
   "execution_count": 85,
   "id": "75122609",
   "metadata": {},
   "outputs": [
    {
     "name": "stdout",
     "output_type": "stream",
     "text": [
      "Coefficients: \n",
      " [[ 0.0119637   0.69942085 -1.43305148 -1.25610487  1.12168113 -0.36480719\n",
      "   0.0519332   0.35457573]]\n",
      "Mean squared error: 96.99\n",
      "Coefficient of determination: 0.08\n"
     ]
    }
   ],
   "source": [
    "regr_model_PCA_3_1 = linear_model.LinearRegression()\n",
    "regr_model_PCA_3_1.fit(x_train_model_PCA_3_1, y_train_model_PCA_3_1)\n",
    "y_pred_model_PCA_3_1 = regr_model_PCA_3_1.predict(x_test_model_PCA_3_1)\n",
    "y_test_array_model_PCA_3_1 = y_test_model_PCA_3_1\n",
    "\n",
    "print(\"Coefficients: \\n\", regr_model_PCA_3_1.coef_)\n",
    "# The mean squared error\n",
    "print(\"Mean squared error: %.2f\" % mean_squared_error(y_test_array_model_PCA_3_1, y_pred_model_PCA_3_1))\n",
    "# The coefficient of determination: 1 is perfect prediction\n",
    "print(\"Coefficient of determination: %.2f\" % r2_score(y_test_array_model_PCA_3_1, y_pred_model_PCA_3_1))"
   ]
  },
  {
   "cell_type": "code",
   "execution_count": 86,
   "id": "801d5836",
   "metadata": {},
   "outputs": [
    {
     "name": "stdout",
     "output_type": "stream",
     "text": [
      "Coefficients: \n",
      " [[-3.71020094 -0.60963597 -4.21241805 -2.2299369  -4.04074642 -1.94305672\n",
      "  12.86770253  2.08947325]]\n",
      "Mean squared error: 3817.81\n",
      "Coefficient of determination: -0.27\n"
     ]
    }
   ],
   "source": [
    "regr_model_PCA_4_0 = linear_model.LinearRegression()\n",
    "regr_model_PCA_4_0.fit(x_train_model_PCA_4_0, y_train_model_PCA_4_0)\n",
    "y_pred_model_PCA_4_0 = regr_model_PCA_3_1.predict(x_test_model_PCA_4_0)\n",
    "y_test_array_model_PCA_4_0 = y_test_model_PCA_4_0\n",
    "\n",
    "print(\"Coefficients: \\n\", regr_model_PCA_4_0.coef_)\n",
    "# The mean squared error\n",
    "print(\"Mean squared error: %.2f\" % mean_squared_error(y_test_array_model_PCA_4_0, y_pred_model_PCA_4_0))\n",
    "# The coefficient of determination: 1 is perfect prediction\n",
    "print(\"Coefficient of determination: %.2f\" % r2_score(y_test_array_model_PCA_4_0, y_pred_model_PCA_4_0))"
   ]
  },
  {
   "cell_type": "code",
   "execution_count": 87,
   "id": "7af2f552",
   "metadata": {},
   "outputs": [
    {
     "name": "stdout",
     "output_type": "stream",
     "text": [
      "Coefficients: \n",
      " [[-0.59193883 -0.99437024  0.12672564 -0.82021331 -0.15472999  0.6748743\n",
      "  -0.88963576  0.37771116]]\n",
      "Mean squared error: 73.47\n",
      "Coefficient of determination: -0.39\n"
     ]
    }
   ],
   "source": [
    "regr_model_PCA_4_1 = linear_model.LinearRegression()\n",
    "regr_model_PCA_4_1.fit(x_train_model_PCA_4_1, y_train_model_PCA_4_1)\n",
    "y_pred_model_PCA_4_1 = regr_model_PCA_3_1.predict(x_test_model_PCA_4_1)\n",
    "y_test_array_model_PCA_4_1 = y_test_model_PCA_4_1\n",
    "\n",
    "print(\"Coefficients: \\n\", regr_model_PCA_4_1.coef_)\n",
    "# The mean squared error\n",
    "print(\"Mean squared error: %.2f\" % mean_squared_error(y_test_array_model_PCA_4_1, y_pred_model_PCA_4_1))\n",
    "# The coefficient of determination: 1 is perfect prediction\n",
    "print(\"Coefficient of determination: %.2f\" % r2_score(y_test_array_model_PCA_4_1, y_pred_model_PCA_4_1))"
   ]
  },
  {
   "cell_type": "code",
   "execution_count": 88,
   "id": "fb142136",
   "metadata": {},
   "outputs": [],
   "source": [
    "#x_train_model_PCA_1_0\n",
    "#y_train_model_PCA_1_0\n",
    "\n",
    "#x_test_model_PCA_1_0\n",
    "#y_test_model_PCA_1_0\n",
    "\n",
    "\n",
    "#########################\n",
    "\n",
    "#x_train_model_PCA_2_0\n",
    "#y_train_model_PCA_2_0\n",
    "\n",
    "#x_test_model_PCA_2_1\n",
    "#y_test_model_PCA_2_1\n",
    "\n",
    "########################\n",
    "\n",
    "#x_train_model_PCA_3_0\n",
    "#y_train_model_PCA_3_0\n",
    "\n",
    "#x_test_model_PCA_3_1\n",
    "#y_test_model_PCA_3_1\n",
    "\n",
    "\n",
    "########################\n",
    "\n",
    "\n",
    "#x_train_model_PCA_4_0\n",
    "#y_train_model_PCA_4_0\n",
    "\n",
    "#x_test_model_PCA_4_1\n",
    "#y_test_model_PCA_4_1\n",
    "\n",
    "\n",
    "\n",
    "\n",
    "\n",
    "\n",
    "\n",
    "\n",
    "\n",
    "\n"
   ]
  },
  {
   "cell_type": "code",
   "execution_count": 89,
   "id": "4385b900",
   "metadata": {},
   "outputs": [],
   "source": [
    "import sklearn as sk\n",
    "#MODEL = sk.ensemble.RandomForestRegressor(n_estimators=100)"
   ]
  },
  {
   "cell_type": "code",
   "execution_count": 90,
   "id": "0902b991",
   "metadata": {},
   "outputs": [
    {
     "name": "stdout",
     "output_type": "stream",
     "text": [
      "Coefficients: \n",
      " RandomForestRegressor(max_depth=4, max_features=4, random_state=0)\n",
      "Mean squared error: 2529.93\n",
      "Coefficient of determination: 0.13\n"
     ]
    },
    {
     "name": "stderr",
     "output_type": "stream",
     "text": [
      "<ipython-input-90-c6c2b535f860>:3: DataConversionWarning: A column-vector y was passed when a 1d array was expected. Please change the shape of y to (n_samples,), for example using ravel().\n",
      "  regressor_model_PCA_1_0.fit(x_train_model_PCA_1_0, y_train_model_PCA_1_0)\n"
     ]
    }
   ],
   "source": [
    "regressor_model_PCA_1_0  = sk.ensemble.RandomForestRegressor(n_estimators = 100, random_state = 0,max_depth =4,\n",
    "                                      max_features=4)\n",
    "regressor_model_PCA_1_0.fit(x_train_model_PCA_1_0, y_train_model_PCA_1_0)\n",
    "y_pred_model_PCA_1_0 = regressor_model_PCA_1_0.predict(x_test_model_PCA_1_0)\n",
    "y_test_array_model_PCA_1_0 = y_test_model_PCA_1_0\n",
    "\n",
    "print(\"Coefficients: \\n\", regressor_model_PCA_1_0)\n",
    "# The mean squared error\n",
    "print(\"Mean squared error: %.2f\" % mean_squared_error(y_test_array_model_PCA_1_0, y_pred_model_PCA_1_0))\n",
    "# The coefficient of determination: 1 is perfect prediction\n",
    "print(\"Coefficient of determination: %.2f\" % r2_score(y_test_array_model_PCA_1_0, y_pred_model_PCA_1_0))"
   ]
  },
  {
   "cell_type": "code",
   "execution_count": 91,
   "id": "453060a3",
   "metadata": {},
   "outputs": [
    {
     "name": "stderr",
     "output_type": "stream",
     "text": [
      "<ipython-input-91-2bbcb0f8f816>:3: DataConversionWarning: A column-vector y was passed when a 1d array was expected. Please change the shape of y to (n_samples,), for example using ravel().\n",
      "  regressor_model_PCA_1_1.fit(x_train_model_PCA_1_1, y_train_model_PCA_1_1)\n"
     ]
    },
    {
     "name": "stdout",
     "output_type": "stream",
     "text": [
      "Coefficients: \n",
      " RandomForestRegressor(max_depth=4, max_features=4, random_state=0)\n",
      "Mean squared error: 63.34\n",
      "Coefficient of determination: 0.15\n"
     ]
    }
   ],
   "source": [
    "regressor_model_PCA_1_1  = sk.ensemble.RandomForestRegressor(n_estimators = 100, random_state = 0,max_depth =4,\n",
    "                                      max_features=4)\n",
    "regressor_model_PCA_1_1.fit(x_train_model_PCA_1_1, y_train_model_PCA_1_1)\n",
    "y_pred_model_PCA_1_1 = regressor_model_PCA_1_1.predict(x_test_model_PCA_1_1)\n",
    "y_test_array_model_PCA_1_1 = y_test_model_PCA_1_1\n",
    "\n",
    "print(\"Coefficients: \\n\", regressor_model_PCA_1_1)\n",
    "# The mean squared error\n",
    "print(\"Mean squared error: %.2f\" % mean_squared_error(y_test_array_model_PCA_1_1, y_pred_model_PCA_1_1))\n",
    "# The coefficient of determination: 1 is perfect prediction\n",
    "print(\"Coefficient of determination: %.2f\" % r2_score(y_test_array_model_PCA_1_1, y_pred_model_PCA_1_1))"
   ]
  },
  {
   "cell_type": "code",
   "execution_count": 92,
   "id": "fad2e8e7",
   "metadata": {},
   "outputs": [],
   "source": [
    "import numpy\n",
    "import matplotlib.pyplot as plt\n",
    "import pandas\n",
    "import math\n",
    "from keras.models import Sequential\n",
    "from keras.layers import Dense\n",
    "from keras.layers import LSTM\n",
    "from sklearn.preprocessing import MinMaxScaler\n",
    "from sklearn.metrics import mean_squared_error\n"
   ]
  },
  {
   "cell_type": "code",
   "execution_count": 93,
   "id": "f897d625",
   "metadata": {},
   "outputs": [],
   "source": [
    "scaler = MinMaxScaler(feature_range=(0, 1))"
   ]
  },
  {
   "cell_type": "code",
   "execution_count": 94,
   "id": "872c60d5",
   "metadata": {},
   "outputs": [],
   "source": [
    "# convert an array of values into a dataset matrix\n",
    "def create_dataset(dataset, look_back=1):\n",
    "    dataX, dataY = [], []\n",
    "    for i in range(len(dataset)-look_back-1):\n",
    "        a = dataset[i:(i+look_back), 0]\n",
    "        dataX.append(a)\n",
    "        dataY.append(dataset[i + look_back, 0])\n",
    "    return numpy.array(dataX), numpy.array(dataY)"
   ]
  },
  {
   "cell_type": "code",
   "execution_count": 95,
   "id": "872297c2",
   "metadata": {},
   "outputs": [],
   "source": [
    "look_back = 1"
   ]
  },
  {
   "cell_type": "code",
   "execution_count": 96,
   "id": "994c2488",
   "metadata": {},
   "outputs": [],
   "source": [
    "def create_dataset(dataset_y, look_back=1):\n",
    "    dataY = []\n",
    "    for i in range(len(dataset_y)):\n",
    "        dataY.append(dataset_y[i, 0])\n",
    "    return numpy.array(dataY)"
   ]
  },
  {
   "cell_type": "code",
   "execution_count": 97,
   "id": "1ee81073",
   "metadata": {},
   "outputs": [
    {
     "data": {
      "text/plain": [
       "6"
      ]
     },
     "execution_count": 97,
     "metadata": {},
     "output_type": "execute_result"
    }
   ],
   "source": [
    "\n",
    "trainX = numpy.reshape(x_train_model_PCA_1_0, (x_train_model_PCA_1_0.shape[0], x_train_model_PCA_1_0.shape[1]))\n",
    "#testX = numpy.reshape(testX, (testX.shape[0], 1, testX.shape[1]))\n",
    "\n",
    "#test2 = np.array(y_train_model_PCA_1_0)\n",
    "trainY = create_dataset(y_train_model_PCA_1_0, look_back)\n",
    "\n",
    "#x_train_model_PCA_1_0.shape\n",
    "trainX.shape[1]\n",
    "#trainY.shape"
   ]
  },
  {
   "cell_type": "code",
   "execution_count": 98,
   "id": "16cee75a",
   "metadata": {},
   "outputs": [],
   "source": [
    "#x_train_model_PCA_1_0\n",
    "#y_train_model_PCA_1_0\n",
    "#x_test_model_PCA_1_0\n",
    "#y_test_model_PCA_1_0"
   ]
  },
  {
   "cell_type": "code",
   "execution_count": null,
   "id": "4925dc30",
   "metadata": {},
   "outputs": [],
   "source": []
  },
  {
   "cell_type": "code",
   "execution_count": 99,
   "id": "7509627a",
   "metadata": {},
   "outputs": [],
   "source": [
    "#x_train_model_PCA_1_0\n",
    "#y_train_model_PCA_1_0\n",
    "#x_test_model_PCA_1_0\n",
    "#y_test_model_PCA_1_0"
   ]
  },
  {
   "cell_type": "code",
   "execution_count": null,
   "id": "98278f88",
   "metadata": {},
   "outputs": [],
   "source": []
  },
  {
   "cell_type": "code",
   "execution_count": 101,
   "id": "e2aca401",
   "metadata": {},
   "outputs": [
    {
     "data": {
      "text/plain": [
       "array([[ 29],\n",
       "       [ 72],\n",
       "       [ 56],\n",
       "       [ 23],\n",
       "       [ 49],\n",
       "       [ 17],\n",
       "       [ 11],\n",
       "       [ 24],\n",
       "       [  3],\n",
       "       [ 12],\n",
       "       [ 17],\n",
       "       [  1],\n",
       "       [  6],\n",
       "       [ 31],\n",
       "       [127],\n",
       "       [ 28],\n",
       "       [  4],\n",
       "       [ 84],\n",
       "       [ 39],\n",
       "       [ 37],\n",
       "       [  6],\n",
       "       [112],\n",
       "       [  8],\n",
       "       [ 15],\n",
       "       [112],\n",
       "       [ 18],\n",
       "       [ 17],\n",
       "       [ 66],\n",
       "       [ 18],\n",
       "       [ 15],\n",
       "       [ 30],\n",
       "       [ 21],\n",
       "       [ 19],\n",
       "       [  6],\n",
       "       [  4],\n",
       "       [ 19],\n",
       "       [  4],\n",
       "       [  4],\n",
       "       [  8],\n",
       "       [ 17],\n",
       "       [ 14],\n",
       "       [  6],\n",
       "       [ 33],\n",
       "       [ 16],\n",
       "       [ 85],\n",
       "       [  7],\n",
       "       [ 37],\n",
       "       [179],\n",
       "       [ 66],\n",
       "       [  3],\n",
       "       [ 70],\n",
       "       [ 12],\n",
       "       [  3],\n",
       "       [  5],\n",
       "       [ 16],\n",
       "       [ 19],\n",
       "       [ 16],\n",
       "       [  9],\n",
       "       [ 14],\n",
       "       [ 51],\n",
       "       [ 17],\n",
       "       [ 68],\n",
       "       [  5],\n",
       "       [ 31],\n",
       "       [  7],\n",
       "       [ 16],\n",
       "       [ 25],\n",
       "       [ 13],\n",
       "       [ 19],\n",
       "       [  5],\n",
       "       [ 27],\n",
       "       [ 19],\n",
       "       [  5],\n",
       "       [ 11],\n",
       "       [  5],\n",
       "       [ 64],\n",
       "       [ 17],\n",
       "       [116],\n",
       "       [ 13],\n",
       "       [  8],\n",
       "       [ 64],\n",
       "       [  0],\n",
       "       [ 48],\n",
       "       [ 23],\n",
       "       [ 25],\n",
       "       [ 56],\n",
       "       [ 13],\n",
       "       [  1],\n",
       "       [ 32],\n",
       "       [ 26],\n",
       "       [ 15],\n",
       "       [  8],\n",
       "       [142],\n",
       "       [ 18],\n",
       "       [  5],\n",
       "       [ 40],\n",
       "       [ 12],\n",
       "       [ 26],\n",
       "       [395],\n",
       "       [  9],\n",
       "       [ 62],\n",
       "       [ 29],\n",
       "       [ 56],\n",
       "       [ 71],\n",
       "       [  3],\n",
       "       [  8],\n",
       "       [ 70],\n",
       "       [ 64],\n",
       "       [ 25],\n",
       "       [ 21],\n",
       "       [  7],\n",
       "       [  6],\n",
       "       [  2],\n",
       "       [ 67],\n",
       "       [ 61],\n",
       "       [ 14],\n",
       "       [ 10],\n",
       "       [ 10],\n",
       "       [ 25],\n",
       "       [ 33],\n",
       "       [  8],\n",
       "       [ 38],\n",
       "       [ 10],\n",
       "       [ 17],\n",
       "       [  7],\n",
       "       [ 26],\n",
       "       [ 53],\n",
       "       [  9],\n",
       "       [ 45],\n",
       "       [ 55],\n",
       "       [  2],\n",
       "       [  4],\n",
       "       [  3],\n",
       "       [ 13],\n",
       "       [ 36],\n",
       "       [ 67],\n",
       "       [ 16],\n",
       "       [ 34],\n",
       "       [  8],\n",
       "       [ 17],\n",
       "       [ 38],\n",
       "       [ 19],\n",
       "       [ 20],\n",
       "       [  9],\n",
       "       [  5],\n",
       "       [  7],\n",
       "       [ 33],\n",
       "       [ 15],\n",
       "       [ 10],\n",
       "       [ 40],\n",
       "       [  5],\n",
       "       [ 30],\n",
       "       [ 38],\n",
       "       [202],\n",
       "       [ 33],\n",
       "       [ 15],\n",
       "       [ 71],\n",
       "       [ 18],\n",
       "       [  8],\n",
       "       [ 10],\n",
       "       [ 34],\n",
       "       [  6],\n",
       "       [ 20],\n",
       "       [ 20],\n",
       "       [ 21],\n",
       "       [ 26],\n",
       "       [  3],\n",
       "       [ 70],\n",
       "       [  2],\n",
       "       [ 16],\n",
       "       [ 53],\n",
       "       [ 59],\n",
       "       [  7],\n",
       "       [ 23],\n",
       "       [ 56],\n",
       "       [115],\n",
       "       [ 25],\n",
       "       [  6],\n",
       "       [ 23],\n",
       "       [ 27],\n",
       "       [  2],\n",
       "       [ 31],\n",
       "       [ 19],\n",
       "       [  9],\n",
       "       [ 14],\n",
       "       [  4],\n",
       "       [ 14],\n",
       "       [ 48],\n",
       "       [ 73],\n",
       "       [  4],\n",
       "       [353],\n",
       "       [ 25],\n",
       "       [ 17],\n",
       "       [  6],\n",
       "       [  1],\n",
       "       [ 10],\n",
       "       [ 27],\n",
       "       [  5],\n",
       "       [ 38],\n",
       "       [129],\n",
       "       [ 21],\n",
       "       [ 33],\n",
       "       [ 13],\n",
       "       [ 68],\n",
       "       [ 26],\n",
       "       [ 21],\n",
       "       [ 11],\n",
       "       [  7],\n",
       "       [ 37],\n",
       "       [ 30],\n",
       "       [ 34],\n",
       "       [ 14],\n",
       "       [ 10],\n",
       "       [ 14],\n",
       "       [  6],\n",
       "       [ 29],\n",
       "       [ 17],\n",
       "       [ 15],\n",
       "       [  3],\n",
       "       [ 92],\n",
       "       [ 26],\n",
       "       [  9],\n",
       "       [  3],\n",
       "       [ 35],\n",
       "       [ 26],\n",
       "       [126],\n",
       "       [ 10],\n",
       "       [ 47],\n",
       "       [ 30],\n",
       "       [ 17],\n",
       "       [  9],\n",
       "       [ 23],\n",
       "       [ 20],\n",
       "       [  8],\n",
       "       [ 16],\n",
       "       [149],\n",
       "       [ 40],\n",
       "       [ 15],\n",
       "       [ 17],\n",
       "       [102],\n",
       "       [  3],\n",
       "       [ 20],\n",
       "       [106],\n",
       "       [  7],\n",
       "       [  8],\n",
       "       [ 28],\n",
       "       [ 10],\n",
       "       [ 31],\n",
       "       [ 30],\n",
       "       [ 28],\n",
       "       [  3],\n",
       "       [ 21],\n",
       "       [364],\n",
       "       [ 16],\n",
       "       [  9],\n",
       "       [  7],\n",
       "       [  5],\n",
       "       [  3],\n",
       "       [ 12],\n",
       "       [  5],\n",
       "       [  2],\n",
       "       [ 27],\n",
       "       [ 13],\n",
       "       [ 10],\n",
       "       [  7],\n",
       "       [ 14],\n",
       "       [ 24],\n",
       "       [ 62],\n",
       "       [ 49],\n",
       "       [ 31],\n",
       "       [ 41],\n",
       "       [  8],\n",
       "       [ 10],\n",
       "       [ 42],\n",
       "       [  3],\n",
       "       [ 17],\n",
       "       [ 14],\n",
       "       [ 32],\n",
       "       [ 23],\n",
       "       [ 67],\n",
       "       [ 23],\n",
       "       [  5],\n",
       "       [  3],\n",
       "       [  3],\n",
       "       [127],\n",
       "       [  2],\n",
       "       [ 77],\n",
       "       [  2],\n",
       "       [  4],\n",
       "       [ 89],\n",
       "       [ 53],\n",
       "       [  9],\n",
       "       [140],\n",
       "       [ 15],\n",
       "       [169],\n",
       "       [ 30],\n",
       "       [ 55],\n",
       "       [ 16],\n",
       "       [ 10],\n",
       "       [381],\n",
       "       [ 33],\n",
       "       [  8],\n",
       "       [ 23],\n",
       "       [ 14],\n",
       "       [ 10],\n",
       "       [  8],\n",
       "       [ 30],\n",
       "       [ 30],\n",
       "       [ 35],\n",
       "       [ 42],\n",
       "       [ 26],\n",
       "       [ 34],\n",
       "       [ 32],\n",
       "       [ 56],\n",
       "       [ 13],\n",
       "       [ 20],\n",
       "       [ 25],\n",
       "       [ 22],\n",
       "       [ 37],\n",
       "       [  6],\n",
       "       [ 31],\n",
       "       [  5],\n",
       "       [ 39],\n",
       "       [ 52],\n",
       "       [  2],\n",
       "       [ 14],\n",
       "       [ 25],\n",
       "       [ 28],\n",
       "       [ 10],\n",
       "       [ 53],\n",
       "       [ 13],\n",
       "       [  5],\n",
       "       [  1],\n",
       "       [ 33],\n",
       "       [ 11],\n",
       "       [  8],\n",
       "       [ 19],\n",
       "       [ 20],\n",
       "       [ 21],\n",
       "       [ 59],\n",
       "       [ 55],\n",
       "       [ 12],\n",
       "       [ 38],\n",
       "       [ 14],\n",
       "       [ 12],\n",
       "       [ 61],\n",
       "       [ 13],\n",
       "       [135],\n",
       "       [ 75],\n",
       "       [ 72],\n",
       "       [ 20],\n",
       "       [ 17],\n",
       "       [ 20],\n",
       "       [  4],\n",
       "       [  7],\n",
       "       [ 26],\n",
       "       [ 49],\n",
       "       [  7],\n",
       "       [ 10],\n",
       "       [ 47],\n",
       "       [ 17],\n",
       "       [ 49],\n",
       "       [461],\n",
       "       [  5],\n",
       "       [ 28],\n",
       "       [  2],\n",
       "       [ 27],\n",
       "       [ 35],\n",
       "       [ 47],\n",
       "       [ 34],\n",
       "       [  1],\n",
       "       [  3],\n",
       "       [ 50],\n",
       "       [191],\n",
       "       [ 11],\n",
       "       [ 13],\n",
       "       [  7],\n",
       "       [ 47],\n",
       "       [ 10],\n",
       "       [  9],\n",
       "       [ 16],\n",
       "       [ 28],\n",
       "       [ 17],\n",
       "       [ 11],\n",
       "       [ 37],\n",
       "       [ 23],\n",
       "       [ 18],\n",
       "       [ 11],\n",
       "       [ 48],\n",
       "       [ 12],\n",
       "       [  9],\n",
       "       [ 26],\n",
       "       [ 20],\n",
       "       [  3],\n",
       "       [ 16],\n",
       "       [  1],\n",
       "       [  2],\n",
       "       [ 18],\n",
       "       [ 20],\n",
       "       [  2],\n",
       "       [ 16],\n",
       "       [ 10],\n",
       "       [  6],\n",
       "       [ 17],\n",
       "       [ 11],\n",
       "       [  2],\n",
       "       [  0],\n",
       "       [  6],\n",
       "       [ 31],\n",
       "       [ 30],\n",
       "       [ 44],\n",
       "       [ 21],\n",
       "       [ 52],\n",
       "       [359],\n",
       "       [ 16],\n",
       "       [128],\n",
       "       [  6],\n",
       "       [ 18],\n",
       "       [  0],\n",
       "       [ 29],\n",
       "       [ 21],\n",
       "       [ 19],\n",
       "       [ 59],\n",
       "       [ 36],\n",
       "       [ 43],\n",
       "       [ 19],\n",
       "       [  6],\n",
       "       [ 20],\n",
       "       [ 12],\n",
       "       [ 10],\n",
       "       [  3],\n",
       "       [ 37],\n",
       "       [ 12],\n",
       "       [ 16],\n",
       "       [ 13],\n",
       "       [  2],\n",
       "       [  3],\n",
       "       [ 32],\n",
       "       [ 52],\n",
       "       [ 65],\n",
       "       [329],\n",
       "       [ 11],\n",
       "       [ 27],\n",
       "       [ 22],\n",
       "       [140],\n",
       "       [  2],\n",
       "       [  9],\n",
       "       [ 73],\n",
       "       [  4],\n",
       "       [ 11],\n",
       "       [  1],\n",
       "       [ 14],\n",
       "       [ 16],\n",
       "       [ 13],\n",
       "       [ 68],\n",
       "       [  4],\n",
       "       [ 27],\n",
       "       [ 35],\n",
       "       [ 10],\n",
       "       [ 23],\n",
       "       [  4],\n",
       "       [  8],\n",
       "       [  8],\n",
       "       [  3],\n",
       "       [ 36],\n",
       "       [  4],\n",
       "       [ 19],\n",
       "       [ 18],\n",
       "       [ 12],\n",
       "       [ 15],\n",
       "       [ 14],\n",
       "       [ 75],\n",
       "       [ 85],\n",
       "       [ 57],\n",
       "       [  7],\n",
       "       [  6],\n",
       "       [  5],\n",
       "       [ 18],\n",
       "       [ 60],\n",
       "       [ 14],\n",
       "       [ 55],\n",
       "       [ 38],\n",
       "       [ 40],\n",
       "       [ 47],\n",
       "       [ 20],\n",
       "       [  3],\n",
       "       [ 10],\n",
       "       [ 31],\n",
       "       [ 12],\n",
       "       [  6],\n",
       "       [ 16],\n",
       "       [ 54],\n",
       "       [ 13],\n",
       "       [ 55],\n",
       "       [ 18],\n",
       "       [ 83],\n",
       "       [ 18],\n",
       "       [  0],\n",
       "       [ 82],\n",
       "       [ 39],\n",
       "       [  5],\n",
       "       [  6],\n",
       "       [ 37],\n",
       "       [  8],\n",
       "       [ 14],\n",
       "       [  9],\n",
       "       [ 60],\n",
       "       [ 11],\n",
       "       [ 40],\n",
       "       [  3],\n",
       "       [ 22],\n",
       "       [104],\n",
       "       [137],\n",
       "       [220],\n",
       "       [  6],\n",
       "       [  4],\n",
       "       [181],\n",
       "       [ 27],\n",
       "       [ 65],\n",
       "       [  5],\n",
       "       [  7],\n",
       "       [  4],\n",
       "       [ 18],\n",
       "       [ 16],\n",
       "       [  1],\n",
       "       [ 92],\n",
       "       [  7],\n",
       "       [ 33],\n",
       "       [  4],\n",
       "       [  4],\n",
       "       [ 80],\n",
       "       [ 11],\n",
       "       [ 35],\n",
       "       [ 12],\n",
       "       [ 30],\n",
       "       [288],\n",
       "       [  4],\n",
       "       [  1],\n",
       "       [154],\n",
       "       [ 15],\n",
       "       [  6],\n",
       "       [  6],\n",
       "       [ 21],\n",
       "       [ 17],\n",
       "       [ 18],\n",
       "       [ 22],\n",
       "       [ 78],\n",
       "       [ 37],\n",
       "       [131],\n",
       "       [ 28],\n",
       "       [127],\n",
       "       [ 15],\n",
       "       [ 21],\n",
       "       [ 23],\n",
       "       [ 34],\n",
       "       [ 68],\n",
       "       [ 29],\n",
       "       [  7],\n",
       "       [ 15],\n",
       "       [141],\n",
       "       [  7],\n",
       "       [ 28],\n",
       "       [ 20],\n",
       "       [ 19],\n",
       "       [ 10],\n",
       "       [410],\n",
       "       [ 11],\n",
       "       [ 71],\n",
       "       [ 33],\n",
       "       [  6],\n",
       "       [  3],\n",
       "       [ 25],\n",
       "       [  8],\n",
       "       [  4],\n",
       "       [ 50],\n",
       "       [150],\n",
       "       [ 26],\n",
       "       [  5],\n",
       "       [ 43],\n",
       "       [129],\n",
       "       [ 14],\n",
       "       [  9],\n",
       "       [ 71],\n",
       "       [  3],\n",
       "       [  6],\n",
       "       [302],\n",
       "       [ 81],\n",
       "       [ 26],\n",
       "       [ 65],\n",
       "       [  4],\n",
       "       [ 80],\n",
       "       [108],\n",
       "       [ 31],\n",
       "       [ 30],\n",
       "       [ 24],\n",
       "       [  7],\n",
       "       [  3],\n",
       "       [  5],\n",
       "       [ 10],\n",
       "       [ 21],\n",
       "       [  7],\n",
       "       [ 12],\n",
       "       [  6],\n",
       "       [ 28],\n",
       "       [ 11],\n",
       "       [ 23],\n",
       "       [ 13],\n",
       "       [ 26],\n",
       "       [ 17],\n",
       "       [  4],\n",
       "       [ 21],\n",
       "       [ 42],\n",
       "       [ 22],\n",
       "       [ 33],\n",
       "       [256],\n",
       "       [ 14],\n",
       "       [140],\n",
       "       [ 73],\n",
       "       [ 23],\n",
       "       [ 17],\n",
       "       [ 16],\n",
       "       [ 42],\n",
       "       [  3],\n",
       "       [ 24],\n",
       "       [ 26],\n",
       "       [ 46],\n",
       "       [  3],\n",
       "       [ 11],\n",
       "       [ 46],\n",
       "       [  6],\n",
       "       [  7],\n",
       "       [  2],\n",
       "       [106],\n",
       "       [  4],\n",
       "       [  6],\n",
       "       [  3],\n",
       "       [ 34],\n",
       "       [ 37],\n",
       "       [  7],\n",
       "       [  7],\n",
       "       [ 13],\n",
       "       [ 18],\n",
       "       [ 35],\n",
       "       [ 18],\n",
       "       [ 24],\n",
       "       [ 23],\n",
       "       [ 60],\n",
       "       [  8],\n",
       "       [ 22],\n",
       "       [112],\n",
       "       [ 27],\n",
       "       [ 75],\n",
       "       [ 30],\n",
       "       [ 16],\n",
       "       [ 14],\n",
       "       [ 38],\n",
       "       [ 14],\n",
       "       [ 48],\n",
       "       [ 11],\n",
       "       [ 44],\n",
       "       [  7],\n",
       "       [ 12],\n",
       "       [  3],\n",
       "       [ 18],\n",
       "       [ 18],\n",
       "       [ 76],\n",
       "       [  4],\n",
       "       [ 10],\n",
       "       [ 25],\n",
       "       [ 17],\n",
       "       [ 53],\n",
       "       [  2],\n",
       "       [ 90],\n",
       "       [ 22],\n",
       "       [  5],\n",
       "       [  3],\n",
       "       [  6],\n",
       "       [ 37],\n",
       "       [ 13],\n",
       "       [ 20],\n",
       "       [ 13],\n",
       "       [  3],\n",
       "       [ 15],\n",
       "       [ 20],\n",
       "       [ 22],\n",
       "       [ 19],\n",
       "       [ 68],\n",
       "       [ 33],\n",
       "       [  9],\n",
       "       [ 44],\n",
       "       [ 11],\n",
       "       [  9],\n",
       "       [  7],\n",
       "       [ 91],\n",
       "       [ 55],\n",
       "       [  7],\n",
       "       [ 64],\n",
       "       [ 35],\n",
       "       [ 13],\n",
       "       [ 48],\n",
       "       [ 32],\n",
       "       [ 12],\n",
       "       [ 12],\n",
       "       [ 34],\n",
       "       [ 29],\n",
       "       [ 46],\n",
       "       [ 10],\n",
       "       [ 59],\n",
       "       [ 29],\n",
       "       [  6],\n",
       "       [  8],\n",
       "       [ 30],\n",
       "       [  3],\n",
       "       [  2],\n",
       "       [ 26],\n",
       "       [  2],\n",
       "       [ 50],\n",
       "       [ 39],\n",
       "       [ 25],\n",
       "       [ 40],\n",
       "       [  3],\n",
       "       [ 29],\n",
       "       [ 26],\n",
       "       [ 23],\n",
       "       [  8],\n",
       "       [  4],\n",
       "       [  5],\n",
       "       [ 10],\n",
       "       [ 46],\n",
       "       [ 37],\n",
       "       [  1],\n",
       "       [ 34],\n",
       "       [ 24],\n",
       "       [ 15],\n",
       "       [  4],\n",
       "       [ 36],\n",
       "       [ 16],\n",
       "       [ 46],\n",
       "       [  7],\n",
       "       [ 30],\n",
       "       [ 43],\n",
       "       [  6],\n",
       "       [ 36],\n",
       "       [  6],\n",
       "       [ 76],\n",
       "       [  8],\n",
       "       [ 18],\n",
       "       [  6]], dtype=int64)"
      ]
     },
     "execution_count": 101,
     "metadata": {},
     "output_type": "execute_result"
    }
   ],
   "source": [
    "y_train_model_PCA_1_0"
   ]
  },
  {
   "cell_type": "code",
   "execution_count": null,
   "id": "596dac18",
   "metadata": {},
   "outputs": [],
   "source": []
  },
  {
   "cell_type": "code",
   "execution_count": 102,
   "id": "c0019bbe",
   "metadata": {},
   "outputs": [],
   "source": [
    "x_train_0 = x_train_model_PCA_1_0\n",
    "x_test_0 = x_test_model_PCA_1_0\n",
    "\n",
    "df_train_nb_0 = x_train_0 .assign(y = y_train_model_PCA_1_0)\n",
    "df_test_nb_0 = x_test_0 .assign(y = y_test_model_PCA_1_0)\n",
    "\n",
    "df_train_nb_0 = df_train_nb_0 .assign(principal_component_1 = x_train_model_PCA_1_0[\"principal component 1\"])\n",
    "df_train_nb_0 = df_train_nb_0 .assign(principal_component_2 = x_train_model_PCA_1_0[\"principal component 2\"])\n",
    "df_train_nb_0 = df_train_nb_0 .assign(principal_component_3 = x_train_model_PCA_1_0[\"principal component 3\"])\n",
    "df_train_nb_0 = df_train_nb_0 .assign(principal_component_4 = x_train_model_PCA_1_0[\"principal component 4\"])\n",
    "df_train_nb_0 = df_train_nb_0 .assign(principal_component_5 = x_train_model_PCA_1_0[\"principal component 5\"])\n",
    "df_train_nb_0 = df_train_nb_0 .assign(principal_component_6 = x_train_model_PCA_1_0[\"principal component 6\"])\n",
    "\n",
    "\n",
    "\n",
    "df_test_nb_0 = df_test_nb_0 .assign(principal_component_1 = x_test_model_PCA_1_0[\"principal component 1\"])\n",
    "df_test_nb_0 = df_test_nb_0 .assign(principal_component_2 = x_test_model_PCA_1_0[\"principal component 2\"])\n",
    "df_test_nb_0 = df_test_nb_0 .assign(principal_component_3 = x_test_model_PCA_1_0[\"principal component 3\"])\n",
    "df_test_nb_0 = df_test_nb_0 .assign(principal_component_4 = x_test_model_PCA_1_0[\"principal component 4\"])\n",
    "df_test_nb_0 = df_test_nb_0 .assign(principal_component_5 = x_test_model_PCA_1_0[\"principal component 5\"])\n",
    "df_test_nb_0 = df_test_nb_0 .assign(principal_component_6 = x_test_model_PCA_1_0[\"principal component 6\"])"
   ]
  },
  {
   "cell_type": "code",
   "execution_count": null,
   "id": "e2885760",
   "metadata": {},
   "outputs": [],
   "source": []
  },
  {
   "cell_type": "code",
   "execution_count": 103,
   "id": "1875300b",
   "metadata": {},
   "outputs": [],
   "source": [
    "#Negative Biniomial Distribution"
   ]
  },
  {
   "cell_type": "code",
   "execution_count": 104,
   "id": "9b02d782",
   "metadata": {},
   "outputs": [],
   "source": [
    "from __future__ import print_function\n",
    "from __future__ import division\n",
    "\n",
    "\n",
    "\n",
    "from sklearn.model_selection import train_test_split\n",
    "\n",
    "from sklearn.model_selection import GridSearchCV\n",
    "import statsmodels.api as sm\n",
    "\n",
    "import statsmodels.api as sm\n",
    "import statsmodels.formula.api as smf\n",
    "from statsmodels.tools import eval_measures\n"
   ]
  },
  {
   "cell_type": "code",
   "execution_count": 105,
   "id": "21be4509",
   "metadata": {},
   "outputs": [],
   "source": [
    "def mse_nb_model_6(train, cv):\n",
    "    formula =  \"y ~ 1 + \" \\\n",
    "                    \"principal_component_1+ \" \\\n",
    "                    \"principal_component_2 + \" \\\n",
    "                    \"principal_component_3 + \" \\\n",
    "                    \"principal_component_4 + \" \\\n",
    "                    \"principal_component_5 + \" \\\n",
    "                    \"principal_component_6\"\n",
    "\n",
    "    alpha_grid = np.linspace(0.01, 2, 100)\n",
    "    \n",
    "    best_alpha = 0; best_mse = 1000\n",
    "    \n",
    "    for alpha in alpha_grid:\n",
    "        model = smf.glm(formula = formula, data = train,\n",
    "                        family = sm.families.NegativeBinomial(alpha = alpha))\n",
    "        nb_model = model.fit()\n",
    "        \n",
    "        cv_pred = np.array(list(map(int, map(round, nb_model.predict(cv)))))\n",
    "\n",
    "        mae = eval_measures.meanabs(cv_pred, cv.y)\n",
    "        mse = eval_measures.mse(cv_pred, cv.y)\n",
    "        \n",
    "            \n",
    "    total = pd.concat([train, cv])\n",
    "    \n",
    "    print ('mse Negative Binomial Model: ', mse)\n",
    "    return mse"
   ]
  },
  {
   "cell_type": "code",
   "execution_count": 106,
   "id": "6e4cb258",
   "metadata": {},
   "outputs": [],
   "source": [
    "def mse_nb_model_8(train, cv):\n",
    "    formula =  \"y ~ 1 + \" \\\n",
    "                    \"principal_component_1+ \" \\\n",
    "                    \"principal_component_2 + \" \\\n",
    "                    \"principal_component_3 + \" \\\n",
    "                    \"principal_component_4 + \" \\\n",
    "                    \"principal_component_5 + \" \\\n",
    "                    \"principal_component_6 + \" \\\n",
    "                    \"principal_component_7 + \" \\\n",
    "                    \"principal_component_8\"\n",
    "\n",
    "    alpha_grid = np.linspace(0.01, 2, 100)\n",
    "    \n",
    "    best_alpha = 0; best_mse = 1000\n",
    "    \n",
    "    for alpha in alpha_grid:\n",
    "        model = smf.glm(formula = formula, data = train,\n",
    "                        family = sm.families.NegativeBinomial(alpha = alpha))\n",
    "        nb_model = model.fit()\n",
    "        \n",
    "        cv_pred = np.array(list(map(int, map(round, nb_model.predict(cv)))))\n",
    "\n",
    "        mae = eval_measures.meanabs(cv_pred, cv.y)\n",
    "        mse = eval_measures.mse(cv_pred, cv.y)\n",
    "\n",
    "            \n",
    "    total = pd.concat([train, cv])\n",
    "    \n",
    "    print ('mse Negative Binomial Model: ', mse)\n",
    "    return mse"
   ]
  },
  {
   "cell_type": "code",
   "execution_count": 107,
   "id": "648b155a",
   "metadata": {},
   "outputs": [
    {
     "name": "stdout",
     "output_type": "stream",
     "text": [
      "mse Negative Binomial Model:  2594.5\n"
     ]
    },
    {
     "data": {
      "text/plain": [
       "2594.5"
      ]
     },
     "execution_count": 107,
     "metadata": {},
     "output_type": "execute_result"
    }
   ],
   "source": [
    "mse_nb_model_6(df_train_nb_0, df_test_nb_0)\n"
   ]
  },
  {
   "cell_type": "code",
   "execution_count": 108,
   "id": "4a587622",
   "metadata": {},
   "outputs": [],
   "source": [
    "#x_train_model_PCA_1_0\n",
    "#y_train_model_PCA_1_0\n",
    "#x_test_model_PCA_1_0\n",
    "#y_test_model_PCA_1_0"
   ]
  },
  {
   "cell_type": "code",
   "execution_count": 109,
   "id": "cc642cbb",
   "metadata": {},
   "outputs": [],
   "source": [
    "x_train_0 = x_train_model_PCA_1_1\n",
    "x_test_0 = x_test_model_PCA_1_1\n",
    "\n",
    "df_train_nb_0 = x_train_0 .assign(y = y_train_model_PCA_1_1)\n",
    "df_test_nb_0 = x_test_0 .assign(y = y_test_model_PCA_1_1)\n",
    "\n",
    "df_train_nb_0 = df_train_nb_0 .assign(principal_component_1 = x_train_model_PCA_1_1[\"principal component 1\"])\n",
    "df_train_nb_0 = df_train_nb_0 .assign(principal_component_2 = x_train_model_PCA_1_1[\"principal component 2\"])\n",
    "df_train_nb_0 = df_train_nb_0 .assign(principal_component_3 = x_train_model_PCA_1_1[\"principal component 3\"])\n",
    "df_train_nb_0 = df_train_nb_0 .assign(principal_component_4 = x_train_model_PCA_1_1[\"principal component 4\"])\n",
    "df_train_nb_0 = df_train_nb_0 .assign(principal_component_5 = x_train_model_PCA_1_1[\"principal component 5\"])\n",
    "df_train_nb_0 = df_train_nb_0 .assign(principal_component_6 = x_train_model_PCA_1_1[\"principal component 6\"])\n",
    "\n",
    "\n",
    "\n",
    "df_test_nb_0 = df_test_nb_0 .assign(principal_component_1 = x_test_model_PCA_1_1[\"principal component 1\"])\n",
    "df_test_nb_0 = df_test_nb_0 .assign(principal_component_2 = x_test_model_PCA_1_1[\"principal component 2\"])\n",
    "df_test_nb_0 = df_test_nb_0 .assign(principal_component_3 = x_test_model_PCA_1_1[\"principal component 3\"])\n",
    "df_test_nb_0 = df_test_nb_0 .assign(principal_component_4 = x_test_model_PCA_1_1[\"principal component 4\"])\n",
    "df_test_nb_0 = df_test_nb_0 .assign(principal_component_5 = x_test_model_PCA_1_1[\"principal component 5\"])\n",
    "df_test_nb_0 = df_test_nb_0 .assign(principal_component_6 = x_test_model_PCA_1_1[\"principal component 6\"])"
   ]
  },
  {
   "cell_type": "code",
   "execution_count": 110,
   "id": "cb1a660f",
   "metadata": {},
   "outputs": [
    {
     "name": "stdout",
     "output_type": "stream",
     "text": [
      "mse Negative Binomial Model:  75.78846153846153\n"
     ]
    },
    {
     "data": {
      "text/plain": [
       "75.78846153846153"
      ]
     },
     "execution_count": 110,
     "metadata": {},
     "output_type": "execute_result"
    }
   ],
   "source": [
    "mse_nb_model_6(df_train_nb_0, df_test_nb_0)\n"
   ]
  },
  {
   "cell_type": "code",
   "execution_count": 111,
   "id": "d91842e6",
   "metadata": {},
   "outputs": [],
   "source": [
    "x_train_0 = x_train_model_PCA_2_0\n",
    "x_test_0 = x_test_model_PCA_2_0\n",
    "\n",
    "df_train_nb_0 = x_train_0 .assign(y = y_train_model_PCA_2_0)\n",
    "df_test_nb_0 = x_test_0 .assign(y = y_test_model_PCA_2_0)\n",
    "\n",
    "df_train_nb_0 = df_train_nb_0 .assign(principal_component_1 = x_train_model_PCA_2_0[\"principal component 1\"])\n",
    "df_train_nb_0 = df_train_nb_0 .assign(principal_component_2 = x_train_model_PCA_2_0[\"principal component 2\"])\n",
    "df_train_nb_0 = df_train_nb_0 .assign(principal_component_3 = x_train_model_PCA_2_0[\"principal component 3\"])\n",
    "df_train_nb_0 = df_train_nb_0 .assign(principal_component_4 = x_train_model_PCA_2_0[\"principal component 4\"])\n",
    "df_train_nb_0 = df_train_nb_0 .assign(principal_component_5 = x_train_model_PCA_2_0[\"principal component 5\"])\n",
    "df_train_nb_0 = df_train_nb_0 .assign(principal_component_6 = x_train_model_PCA_2_0[\"principal component 6\"])\n",
    "\n",
    "\n",
    "\n",
    "df_test_nb_0 = df_test_nb_0 .assign(principal_component_1 = x_test_model_PCA_2_0[\"principal component 1\"])\n",
    "df_test_nb_0 = df_test_nb_0 .assign(principal_component_2 = x_test_model_PCA_2_0[\"principal component 2\"])\n",
    "df_test_nb_0 = df_test_nb_0 .assign(principal_component_3 = x_test_model_PCA_2_0[\"principal component 3\"])\n",
    "df_test_nb_0 = df_test_nb_0 .assign(principal_component_4 = x_test_model_PCA_2_0[\"principal component 4\"])\n",
    "df_test_nb_0 = df_test_nb_0 .assign(principal_component_5 = x_test_model_PCA_2_0[\"principal component 5\"])\n",
    "df_test_nb_0 = df_test_nb_0 .assign(principal_component_6 = x_test_model_PCA_2_0[\"principal component 6\"])"
   ]
  },
  {
   "cell_type": "code",
   "execution_count": 112,
   "id": "21775128",
   "metadata": {},
   "outputs": [
    {
     "name": "stdout",
     "output_type": "stream",
     "text": [
      "mse Negative Binomial Model:  1709.037234042553\n"
     ]
    },
    {
     "data": {
      "text/plain": [
       "1709.037234042553"
      ]
     },
     "execution_count": 112,
     "metadata": {},
     "output_type": "execute_result"
    }
   ],
   "source": [
    "mse_nb_model_6(df_train_nb_0, df_test_nb_0)\n"
   ]
  },
  {
   "cell_type": "code",
   "execution_count": 113,
   "id": "b51d9b47",
   "metadata": {},
   "outputs": [],
   "source": [
    "x_train_0 = x_train_model_PCA_2_1\n",
    "x_test_0 = x_test_model_PCA_2_1\n",
    "\n",
    "df_train_nb_0 = x_train_0 .assign(y = y_train_model_PCA_2_1)\n",
    "df_test_nb_0 = x_test_0 .assign(y = y_test_model_PCA_2_1)\n",
    "\n",
    "df_train_nb_0 = df_train_nb_0 .assign(principal_component_1 = x_train_model_PCA_2_1[\"principal component 1\"])\n",
    "df_train_nb_0 = df_train_nb_0 .assign(principal_component_2 = x_train_model_PCA_2_1[\"principal component 2\"])\n",
    "df_train_nb_0 = df_train_nb_0 .assign(principal_component_3 = x_train_model_PCA_2_1[\"principal component 3\"])\n",
    "df_train_nb_0 = df_train_nb_0 .assign(principal_component_4 = x_train_model_PCA_2_1[\"principal component 4\"])\n",
    "df_train_nb_0 = df_train_nb_0 .assign(principal_component_5 = x_train_model_PCA_2_1[\"principal component 5\"])\n",
    "df_train_nb_0 = df_train_nb_0 .assign(principal_component_6 = x_train_model_PCA_2_1[\"principal component 6\"])\n",
    "\n",
    "\n",
    "\n",
    "df_test_nb_0 = df_test_nb_0 .assign(principal_component_1 = x_test_model_PCA_2_1[\"principal component 1\"])\n",
    "df_test_nb_0 = df_test_nb_0 .assign(principal_component_2 = x_test_model_PCA_2_1[\"principal component 2\"])\n",
    "df_test_nb_0 = df_test_nb_0 .assign(principal_component_3 = x_test_model_PCA_2_1[\"principal component 3\"])\n",
    "df_test_nb_0 = df_test_nb_0 .assign(principal_component_4 = x_test_model_PCA_2_1[\"principal component 4\"])\n",
    "df_test_nb_0 = df_test_nb_0 .assign(principal_component_5 = x_test_model_PCA_2_1[\"principal component 5\"])\n",
    "df_test_nb_0 = df_test_nb_0 .assign(principal_component_6 = x_test_model_PCA_2_1[\"principal component 6\"])"
   ]
  },
  {
   "cell_type": "code",
   "execution_count": 114,
   "id": "b97967d9",
   "metadata": {},
   "outputs": [
    {
     "name": "stdout",
     "output_type": "stream",
     "text": [
      "mse Negative Binomial Model:  161.46153846153845\n"
     ]
    },
    {
     "data": {
      "text/plain": [
       "161.46153846153845"
      ]
     },
     "execution_count": 114,
     "metadata": {},
     "output_type": "execute_result"
    }
   ],
   "source": [
    "mse_nb_model_6(df_train_nb_0, df_test_nb_0)\n"
   ]
  },
  {
   "cell_type": "code",
   "execution_count": 115,
   "id": "025fe26d",
   "metadata": {},
   "outputs": [],
   "source": [
    "x_train_0 = x_train_model_PCA_3_0\n",
    "x_test_0 = x_test_model_PCA_3_0\n",
    "\n",
    "df_train_nb_0 = x_train_0 .assign(y = y_train_model_PCA_3_0)\n",
    "df_test_nb_0 = x_test_0 .assign(y = y_test_model_PCA_3_0)\n",
    "\n",
    "df_train_nb_0 = df_train_nb_0 .assign(principal_component_1 = x_train_model_PCA_3_0[\"principal component 1\"])\n",
    "df_train_nb_0 = df_train_nb_0 .assign(principal_component_2 = x_train_model_PCA_3_0[\"principal component 2\"])\n",
    "df_train_nb_0 = df_train_nb_0 .assign(principal_component_3 = x_train_model_PCA_3_0[\"principal component 3\"])\n",
    "df_train_nb_0 = df_train_nb_0 .assign(principal_component_4 = x_train_model_PCA_3_0[\"principal component 4\"])\n",
    "df_train_nb_0 = df_train_nb_0 .assign(principal_component_5 = x_train_model_PCA_3_0[\"principal component 5\"])\n",
    "df_train_nb_0 = df_train_nb_0 .assign(principal_component_6 = x_train_model_PCA_3_0[\"principal component 6\"])\n",
    "df_train_nb_0 = df_train_nb_0 .assign(principal_component_7 = x_train_model_PCA_3_0[\"principal component 7\"])\n",
    "df_train_nb_0 = df_train_nb_0 .assign(principal_component_8 = x_train_model_PCA_3_0[\"principal component 8\"])\n",
    "\n",
    "\n",
    "\n",
    "df_test_nb_0 = df_test_nb_0 .assign(principal_component_1 = x_test_model_PCA_3_0[\"principal component 1\"])\n",
    "df_test_nb_0 = df_test_nb_0 .assign(principal_component_2 = x_test_model_PCA_3_0[\"principal component 2\"])\n",
    "df_test_nb_0 = df_test_nb_0 .assign(principal_component_3 = x_test_model_PCA_3_0[\"principal component 3\"])\n",
    "df_test_nb_0 = df_test_nb_0 .assign(principal_component_4 = x_test_model_PCA_3_0[\"principal component 4\"])\n",
    "df_test_nb_0 = df_test_nb_0 .assign(principal_component_5 = x_test_model_PCA_3_0[\"principal component 5\"])\n",
    "df_test_nb_0 = df_test_nb_0 .assign(principal_component_6 = x_test_model_PCA_3_0[\"principal component 6\"])\n",
    "df_test_nb_0 = df_test_nb_0 .assign(principal_component_7 = x_test_model_PCA_3_0[\"principal component 7\"])\n",
    "df_test_nb_0 = df_test_nb_0 .assign(principal_component_8 = x_test_model_PCA_3_0[\"principal component 8\"])"
   ]
  },
  {
   "cell_type": "code",
   "execution_count": 116,
   "id": "dc95ddd3",
   "metadata": {},
   "outputs": [
    {
     "name": "stdout",
     "output_type": "stream",
     "text": [
      "mse Negative Binomial Model:  3207.9627659574467\n"
     ]
    },
    {
     "data": {
      "text/plain": [
       "3207.9627659574467"
      ]
     },
     "execution_count": 116,
     "metadata": {},
     "output_type": "execute_result"
    }
   ],
   "source": [
    "mse_nb_model_8(df_train_nb_0, df_test_nb_0)\n"
   ]
  },
  {
   "cell_type": "code",
   "execution_count": 117,
   "id": "0bb0ff31",
   "metadata": {},
   "outputs": [],
   "source": [
    "x_train_0 = x_train_model_PCA_3_1\n",
    "x_test_0 = x_test_model_PCA_3_1\n",
    "\n",
    "df_train_nb_0 = x_train_0 .assign(y = y_train_model_PCA_3_1)\n",
    "df_test_nb_0 = x_test_0 .assign(y = y_test_model_PCA_3_1)\n",
    "\n",
    "df_train_nb_0 = df_train_nb_0 .assign(principal_component_1 = x_train_model_PCA_3_1[\"principal component 1\"])\n",
    "df_train_nb_0 = df_train_nb_0 .assign(principal_component_2 = x_train_model_PCA_3_1[\"principal component 2\"])\n",
    "df_train_nb_0 = df_train_nb_0 .assign(principal_component_3 = x_train_model_PCA_3_1[\"principal component 3\"])\n",
    "df_train_nb_0 = df_train_nb_0 .assign(principal_component_4 = x_train_model_PCA_3_1[\"principal component 4\"])\n",
    "df_train_nb_0 = df_train_nb_0 .assign(principal_component_5 = x_train_model_PCA_3_1[\"principal component 5\"])\n",
    "df_train_nb_0 = df_train_nb_0 .assign(principal_component_6 = x_train_model_PCA_3_1[\"principal component 6\"])\n",
    "df_train_nb_0 = df_train_nb_0 .assign(principal_component_7 = x_train_model_PCA_3_1[\"principal component 7\"])\n",
    "df_train_nb_0 = df_train_nb_0 .assign(principal_component_8 = x_train_model_PCA_3_1[\"principal component 8\"])\n",
    "\n",
    "\n",
    "\n",
    "df_test_nb_0 = df_test_nb_0 .assign(principal_component_1 = x_test_model_PCA_3_1[\"principal component 1\"])\n",
    "df_test_nb_0 = df_test_nb_0 .assign(principal_component_2 = x_test_model_PCA_3_1[\"principal component 2\"])\n",
    "df_test_nb_0 = df_test_nb_0 .assign(principal_component_3 = x_test_model_PCA_3_1[\"principal component 3\"])\n",
    "df_test_nb_0 = df_test_nb_0 .assign(principal_component_4 = x_test_model_PCA_3_1[\"principal component 4\"])\n",
    "df_test_nb_0 = df_test_nb_0 .assign(principal_component_5 = x_test_model_PCA_3_1[\"principal component 5\"])\n",
    "df_test_nb_0 = df_test_nb_0 .assign(principal_component_6 = x_test_model_PCA_3_1[\"principal component 6\"])\n",
    "df_test_nb_0 = df_test_nb_0 .assign(principal_component_7 = x_test_model_PCA_3_1[\"principal component 7\"])\n",
    "df_test_nb_0 = df_test_nb_0 .assign(principal_component_8 = x_test_model_PCA_3_1[\"principal component 8\"])"
   ]
  },
  {
   "cell_type": "code",
   "execution_count": 118,
   "id": "803e8565",
   "metadata": {},
   "outputs": [
    {
     "name": "stdout",
     "output_type": "stream",
     "text": [
      "mse Negative Binomial Model:  99.22115384615384\n"
     ]
    },
    {
     "data": {
      "text/plain": [
       "99.22115384615384"
      ]
     },
     "execution_count": 118,
     "metadata": {},
     "output_type": "execute_result"
    }
   ],
   "source": [
    "mse_nb_model_8(df_train_nb_0, df_test_nb_0)"
   ]
  },
  {
   "cell_type": "code",
   "execution_count": 119,
   "id": "faacc065",
   "metadata": {},
   "outputs": [],
   "source": [
    "x_train_0 = x_train_model_PCA_4_0\n",
    "x_test_0 = x_test_model_PCA_4_0\n",
    "\n",
    "df_train_nb_0 = x_train_0 .assign(y = y_train_model_PCA_4_0)\n",
    "df_test_nb_0 = x_test_0 .assign(y = y_test_model_PCA_4_0)\n",
    "\n",
    "df_train_nb_0 = df_train_nb_0 .assign(principal_component_1 = x_train_model_PCA_4_0[\"principal component 1\"])\n",
    "df_train_nb_0 = df_train_nb_0 .assign(principal_component_2 = x_train_model_PCA_4_0[\"principal component 2\"])\n",
    "df_train_nb_0 = df_train_nb_0 .assign(principal_component_3 = x_train_model_PCA_4_0[\"principal component 3\"])\n",
    "df_train_nb_0 = df_train_nb_0 .assign(principal_component_4 = x_train_model_PCA_4_0[\"principal component 4\"])\n",
    "df_train_nb_0 = df_train_nb_0 .assign(principal_component_5 = x_train_model_PCA_4_0[\"principal component 5\"])\n",
    "df_train_nb_0 = df_train_nb_0 .assign(principal_component_6 = x_train_model_PCA_4_0[\"principal component 6\"])\n",
    "df_train_nb_0 = df_train_nb_0 .assign(principal_component_7 = x_train_model_PCA_4_0[\"principal component 7\"])\n",
    "df_train_nb_0 = df_train_nb_0 .assign(principal_component_8 = x_train_model_PCA_4_0[\"principal component 8\"])\n",
    "\n",
    "\n",
    "\n",
    "df_test_nb_0 = df_test_nb_0 .assign(principal_component_1 = x_test_model_PCA_4_0[\"principal component 1\"])\n",
    "df_test_nb_0 = df_test_nb_0 .assign(principal_component_2 = x_test_model_PCA_4_0[\"principal component 2\"])\n",
    "df_test_nb_0 = df_test_nb_0 .assign(principal_component_3 = x_test_model_PCA_4_0[\"principal component 3\"])\n",
    "df_test_nb_0 = df_test_nb_0 .assign(principal_component_4 = x_test_model_PCA_4_0[\"principal component 4\"])\n",
    "df_test_nb_0 = df_test_nb_0 .assign(principal_component_5 = x_test_model_PCA_4_0[\"principal component 5\"])\n",
    "df_test_nb_0 = df_test_nb_0 .assign(principal_component_6 = x_test_model_PCA_4_0[\"principal component 6\"])\n",
    "df_test_nb_0 = df_test_nb_0 .assign(principal_component_7 = x_test_model_PCA_4_0[\"principal component 7\"])\n",
    "df_test_nb_0 = df_test_nb_0 .assign(principal_component_8 = x_test_model_PCA_4_0[\"principal component 8\"])"
   ]
  },
  {
   "cell_type": "code",
   "execution_count": 120,
   "id": "b5d06503",
   "metadata": {},
   "outputs": [
    {
     "name": "stdout",
     "output_type": "stream",
     "text": [
      "mse Negative Binomial Model:  2669.473404255319\n"
     ]
    },
    {
     "data": {
      "text/plain": [
       "2669.473404255319"
      ]
     },
     "execution_count": 120,
     "metadata": {},
     "output_type": "execute_result"
    }
   ],
   "source": [
    "mse_nb_model_8(df_train_nb_0, df_test_nb_0)"
   ]
  },
  {
   "cell_type": "code",
   "execution_count": 121,
   "id": "792e55ef",
   "metadata": {},
   "outputs": [],
   "source": [
    "x_train_0 = x_train_model_PCA_4_1\n",
    "x_test_0 = x_test_model_PCA_4_1\n",
    "\n",
    "df_train_nb_0 = x_train_0 .assign(y = y_train_model_PCA_4_1)\n",
    "df_test_nb_0 = x_test_0 .assign(y = y_test_model_PCA_4_1)\n",
    "\n",
    "df_train_nb_0 = df_train_nb_0 .assign(principal_component_1 = x_train_model_PCA_4_1[\"principal component 1\"])\n",
    "df_train_nb_0 = df_train_nb_0 .assign(principal_component_2 = x_train_model_PCA_4_1[\"principal component 2\"])\n",
    "df_train_nb_0 = df_train_nb_0 .assign(principal_component_3 = x_train_model_PCA_4_1[\"principal component 3\"])\n",
    "df_train_nb_0 = df_train_nb_0 .assign(principal_component_4 = x_train_model_PCA_4_1[\"principal component 4\"])\n",
    "df_train_nb_0 = df_train_nb_0 .assign(principal_component_5 = x_train_model_PCA_4_1[\"principal component 5\"])\n",
    "df_train_nb_0 = df_train_nb_0 .assign(principal_component_6 = x_train_model_PCA_4_1[\"principal component 6\"])\n",
    "df_train_nb_0 = df_train_nb_0 .assign(principal_component_7 = x_train_model_PCA_4_1[\"principal component 7\"])\n",
    "df_train_nb_0 = df_train_nb_0 .assign(principal_component_8 = x_train_model_PCA_4_1[\"principal component 8\"])\n",
    "\n",
    "\n",
    "\n",
    "df_test_nb_0 = df_test_nb_0 .assign(principal_component_1 = x_test_model_PCA_4_1[\"principal component 1\"])\n",
    "df_test_nb_0 = df_test_nb_0 .assign(principal_component_2 = x_test_model_PCA_4_1[\"principal component 2\"])\n",
    "df_test_nb_0 = df_test_nb_0 .assign(principal_component_3 = x_test_model_PCA_4_1[\"principal component 3\"])\n",
    "df_test_nb_0 = df_test_nb_0 .assign(principal_component_4 = x_test_model_PCA_4_1[\"principal component 4\"])\n",
    "df_test_nb_0 = df_test_nb_0 .assign(principal_component_5 = x_test_model_PCA_4_1[\"principal component 5\"])\n",
    "df_test_nb_0 = df_test_nb_0 .assign(principal_component_6 = x_test_model_PCA_4_1[\"principal component 6\"])\n",
    "df_test_nb_0 = df_test_nb_0 .assign(principal_component_7 = x_test_model_PCA_4_1[\"principal component 7\"])\n",
    "df_test_nb_0 = df_test_nb_0 .assign(principal_component_8 = x_test_model_PCA_4_1[\"principal component 8\"])"
   ]
  },
  {
   "cell_type": "code",
   "execution_count": 122,
   "id": "ffbbbed6",
   "metadata": {},
   "outputs": [
    {
     "name": "stdout",
     "output_type": "stream",
     "text": [
      "mse Negative Binomial Model:  52.02884615384615\n"
     ]
    },
    {
     "data": {
      "text/plain": [
       "52.02884615384615"
      ]
     },
     "execution_count": 122,
     "metadata": {},
     "output_type": "execute_result"
    }
   ],
   "source": [
    "mse_nb_model_8(df_train_nb_0, df_test_nb_0)"
   ]
  },
  {
   "cell_type": "code",
   "execution_count": 123,
   "id": "97140934",
   "metadata": {},
   "outputs": [],
   "source": [
    "#df_mix_ndvi_exclude_forcast_value_final_0 = grouped_1.get_group(0)\n",
    "#df_mix_ndvi_exclude_forcast_value_final_1 = grouped_1.get_group(1)\n",
    "\n",
    "#df_mix_ndvi_include_forcast_value_final_0 = grouped_2.get_group(0)\n",
    "#df_mix_ndvi_include_forcast_value_final_1 = grouped_2.get_group(1)\n",
    "\n",
    "#df_normal_data_exclude_forcast_value_final_0 = grouped_3.get_group(0)\n",
    "#df_normal_data_exclude_forcast_value_final_1 = grouped_3.get_group(1)\n",
    "\n",
    "#df_normal_data_include_forcast_value_final_0 = grouped_4.get_group(0)\n",
    "#df_normal_data_include_forcast_value_final_1 = grouped_4.get_group(1)"
   ]
  },
  {
   "cell_type": "code",
   "execution_count": 135,
   "id": "94f0c0c2",
   "metadata": {},
   "outputs": [
    {
     "data": {
      "text/plain": [
       "(520, 12)"
      ]
     },
     "execution_count": 135,
     "metadata": {},
     "output_type": "execute_result"
    }
   ],
   "source": [
    "df_mix_ndvi_exclude_forcast_value_final_1.shape"
   ]
  },
  {
   "cell_type": "code",
   "execution_count": 134,
   "id": "8b950c90",
   "metadata": {},
   "outputs": [
    {
     "name": "stdout",
     "output_type": "stream",
     "text": [
      "Coefficients: \n",
      " [ 0.         -2.15375808  0.82258566 -0.04590828 -3.21758274 -3.42621996\n",
      "  5.38871384  0.01328695  0.01964286 -8.10108594  5.66793286]\n",
      "Mean squared error: 2612.65\n",
      "Coefficient of determination: 0.10\n"
     ]
    }
   ],
   "source": [
    "#create train set for model 1\n",
    "\n",
    "\n",
    "regr_model_1 = linear_model.LinearRegression()\n",
    "df_train_model_1 = df_mix_ndvi_exclude_forcast_value_final_0.iloc[:748,:]\n",
    "df_test_model_1 = df_mix_ndvi_exclude_forcast_value_final_0.iloc[748:,:]\n",
    "x_train_model_1 = df_train_model_1[['city','year','weekofyear','precipitation_amt_mm','station_avg_temp_c','station_diur_temp_rng_c','station_max_temp_c','station_min_temp_c','station_precip_mm','ndvi_north','ndvi_south']]\n",
    "y_train_model_1 = df_train_model_1['total_cases']\n",
    "regr_model_1.fit(x_train_model_1, y_train_model_1)\n",
    "\n",
    "#create test set for model 1\n",
    "\n",
    "x_test_model_1 = df_test_model_1[['city','year','weekofyear','precipitation_amt_mm','station_avg_temp_c','station_diur_temp_rng_c','station_max_temp_c','station_min_temp_c','station_precip_mm','ndvi_north','ndvi_south']]\n",
    "y_test_model_1 = df_test_model_1['total_cases']\n",
    "\n",
    "y_pred_model_1 = regr_model_1.predict(x_test_model_1)\n",
    "y_test_array_model_1 = y_test_model_1.to_numpy()\n",
    "\n",
    "print(\"Coefficients: \\n\", regr_model_1.coef_)\n",
    "# The mean squared error\n",
    "print(\"Mean squared error: %.2f\" % mean_squared_error(y_test_array_model_1, y_pred_model_1))\n",
    "# The coefficient of determination: 1 is perfect prediction\n",
    "print(\"Coefficient of determination: %.2f\" % r2_score(y_test_array_model_1, y_pred_model_1))"
   ]
  },
  {
   "cell_type": "code",
   "execution_count": 136,
   "id": "5842eea9",
   "metadata": {},
   "outputs": [
    {
     "name": "stdout",
     "output_type": "stream",
     "text": [
      "Coefficients: \n",
      " [ 0.00000000e+00  6.13690962e-01  1.52047364e-02  5.95290793e-03\n",
      "  4.66818421e-01 -3.73733715e-01  4.94525215e-01  1.19815677e+00\n",
      "  3.54352261e-03  1.41042664e+01 -7.79169255e+00]\n",
      "Mean squared error: 72.31\n",
      "Coefficient of determination: 0.02\n"
     ]
    }
   ],
   "source": [
    "#create train set for model 1\n",
    "\n",
    "\n",
    "regr_model_1 = linear_model.LinearRegression()\n",
    "df_train_model_1 = df_mix_ndvi_exclude_forcast_value_final_1.iloc[:416,:]\n",
    "df_test_model_1 = df_mix_ndvi_exclude_forcast_value_final_1.iloc[416:,:]\n",
    "x_train_model_1 = df_train_model_1[['city','year','weekofyear','precipitation_amt_mm','station_avg_temp_c','station_diur_temp_rng_c','station_max_temp_c','station_min_temp_c','station_precip_mm','ndvi_north','ndvi_south']]\n",
    "y_train_model_1 = df_train_model_1['total_cases']\n",
    "regr_model_1.fit(x_train_model_1, y_train_model_1)\n",
    "\n",
    "#create test set for model 1\n",
    "\n",
    "x_test_model_1 = df_test_model_1[['city','year','weekofyear','precipitation_amt_mm','station_avg_temp_c','station_diur_temp_rng_c','station_max_temp_c','station_min_temp_c','station_precip_mm','ndvi_north','ndvi_south']]\n",
    "y_test_model_1 = df_test_model_1['total_cases']\n",
    "\n",
    "y_pred_model_1 = regr_model_1.predict(x_test_model_1)\n",
    "y_test_array_model_1 = y_test_model_1.to_numpy()\n",
    "\n",
    "print(\"Coefficients: \\n\", regr_model_1.coef_)\n",
    "# The mean squared error\n",
    "print(\"Mean squared error: %.2f\" % mean_squared_error(y_test_array_model_1, y_pred_model_1))\n",
    "# The coefficient of determination: 1 is perfect prediction\n",
    "print(\"Coefficient of determination: %.2f\" % r2_score(y_test_array_model_1, y_pred_model_1))"
   ]
  },
  {
   "cell_type": "code",
   "execution_count": 138,
   "id": "97146cda",
   "metadata": {},
   "outputs": [
    {
     "name": "stdout",
     "output_type": "stream",
     "text": [
      "Coefficients: \n",
      " [ 0.00000000e+00 -3.27081392e+00  5.80437504e-01  5.98530114e+13\n",
      " -1.26843690e+01 -3.90840501e+00  4.67981746e+00  1.07297550e+00\n",
      " -3.64388067e-02 -2.46123699e+01 -5.12920173e-01 -1.14305221e+02\n",
      " -3.93977292e+01  1.14386014e+02  1.78996116e+01  7.99371545e+00\n",
      " -5.98530114e+13  1.63614166e-01 -3.23957096e+01  3.31986852e+01\n",
      " -1.19101054e+00]\n",
      "Mean squared error: 1879.31\n",
      "Coefficient of determination: 0.02\n"
     ]
    }
   ],
   "source": [
    "#create train set for model 2\n",
    "\n",
    "\n",
    "regr_model_2 = linear_model.LinearRegression()\n",
    "df_train_model_2 = df_mix_ndvi_include_forcast_value_final_0.iloc[:748,:]\n",
    "df_test_model_2 = df_mix_ndvi_include_forcast_value_final_0.iloc[748:,:]\n",
    "x_train_model_2 = df_train_model_2[['city','year','weekofyear','precipitation_amt_mm','station_avg_temp_c','station_diur_temp_rng_c','station_max_temp_c','station_min_temp_c','station_precip_mm','ndvi_north','ndvi_south',\"reanalysis_air_temp_k\",\"reanalysis_avg_temp_k\",\"reanalysis_dew_point_temp_k\",\"reanalysis_max_air_temp_k\", \"reanalysis_min_air_temp_k\",\"reanalysis_sat_precip_amt_mm\",\"reanalysis_precip_amt_kg_per_m2\",\"reanalysis_relative_humidity_percent\", \"reanalysis_specific_humidity_g_per_kg\", \"reanalysis_tdtr_k\"]]\n",
    "y_train_model_2 = df_train_model_2['total_cases']\n",
    "regr_model_2.fit(x_train_model_2, y_train_model_2)\n",
    "#create test set for model 2\n",
    "\n",
    "x_test_model_2 = df_test_model_2[['city','year','weekofyear','precipitation_amt_mm','station_avg_temp_c','station_diur_temp_rng_c','station_max_temp_c','station_min_temp_c','station_precip_mm','ndvi_north','ndvi_south',\"reanalysis_air_temp_k\",\"reanalysis_avg_temp_k\",\"reanalysis_dew_point_temp_k\",\"reanalysis_max_air_temp_k\", \"reanalysis_min_air_temp_k\",\"reanalysis_sat_precip_amt_mm\",\"reanalysis_precip_amt_kg_per_m2\",\"reanalysis_relative_humidity_percent\", \"reanalysis_specific_humidity_g_per_kg\", \"reanalysis_tdtr_k\"]]\n",
    "y_test_model_2 = df_test_model_2['total_cases']\n",
    "\n",
    "y_pred_model_2 = regr_model_2.predict(x_test_model_2)\n",
    "y_test_array_model_2 = y_test_model_2.to_numpy()\n",
    "\n",
    "print(\"Coefficients: \\n\", regr_model_2.coef_)\n",
    "# The mean squared error\n",
    "print(\"Mean squared error: %.2f\" % mean_squared_error(y_test_array_model_2, y_pred_model_2))\n",
    "# The coefficient of determination: 1 is perfect prediction\n",
    "print(\"Coefficient of determination: %.2f\" % r2_score(y_test_array_model_2, y_pred_model_2))\n"
   ]
  },
  {
   "cell_type": "code",
   "execution_count": 139,
   "id": "57514dc4",
   "metadata": {},
   "outputs": [
    {
     "name": "stdout",
     "output_type": "stream",
     "text": [
      "Coefficients: \n",
      " [ 0.00000000e+00  3.15745179e-01  1.86238155e-02 -5.43137330e-03\n",
      " -3.09716602e-01  1.49026521e-01  9.40124386e-01  1.02154775e+00\n",
      "  9.88233611e-03  1.27380055e+00 -3.36494851e+00 -2.48436389e+00\n",
      "  2.97549344e-01 -8.06812089e+00 -5.99637615e-01  5.63738383e-02\n",
      " -5.43137330e-03 -1.33299865e-02 -6.35215268e-01  1.12432278e+01\n",
      " -3.70506387e-01]\n",
      "Mean squared error: 166.99\n",
      "Coefficient of determination: 0.03\n"
     ]
    }
   ],
   "source": [
    "#create train set for model 2\n",
    "\n",
    "\n",
    "regr_model_2 = linear_model.LinearRegression()\n",
    "df_train_model_2 = df_mix_ndvi_include_forcast_value_final_1.iloc[:416,:]\n",
    "df_test_model_2 = df_mix_ndvi_include_forcast_value_final_1.iloc[416:,:]\n",
    "x_train_model_2 = df_train_model_2[['city','year','weekofyear','precipitation_amt_mm','station_avg_temp_c','station_diur_temp_rng_c','station_max_temp_c','station_min_temp_c','station_precip_mm','ndvi_north','ndvi_south',\"reanalysis_air_temp_k\",\"reanalysis_avg_temp_k\",\"reanalysis_dew_point_temp_k\",\"reanalysis_max_air_temp_k\", \"reanalysis_min_air_temp_k\",\"reanalysis_sat_precip_amt_mm\",\"reanalysis_precip_amt_kg_per_m2\",\"reanalysis_relative_humidity_percent\", \"reanalysis_specific_humidity_g_per_kg\", \"reanalysis_tdtr_k\"]]\n",
    "y_train_model_2 = df_train_model_2['total_cases']\n",
    "regr_model_2.fit(x_train_model_2, y_train_model_2)\n",
    "#create test set for model 2\n",
    "\n",
    "x_test_model_2 = df_test_model_2[['city','year','weekofyear','precipitation_amt_mm','station_avg_temp_c','station_diur_temp_rng_c','station_max_temp_c','station_min_temp_c','station_precip_mm','ndvi_north','ndvi_south',\"reanalysis_air_temp_k\",\"reanalysis_avg_temp_k\",\"reanalysis_dew_point_temp_k\",\"reanalysis_max_air_temp_k\", \"reanalysis_min_air_temp_k\",\"reanalysis_sat_precip_amt_mm\",\"reanalysis_precip_amt_kg_per_m2\",\"reanalysis_relative_humidity_percent\", \"reanalysis_specific_humidity_g_per_kg\", \"reanalysis_tdtr_k\"]]\n",
    "y_test_model_2 = df_test_model_2['total_cases']\n",
    "\n",
    "y_pred_model_2 = regr_model_2.predict(x_test_model_2)\n",
    "y_test_array_model_2 = y_test_model_2.to_numpy()\n",
    "\n",
    "print(\"Coefficients: \\n\", regr_model_2.coef_)\n",
    "# The mean squared error\n",
    "print(\"Mean squared error: %.2f\" % mean_squared_error(y_test_array_model_2, y_pred_model_2))\n",
    "# The coefficient of determination: 1 is perfect prediction\n",
    "print(\"Coefficient of determination: %.2f\" % r2_score(y_test_array_model_2, y_pred_model_2))\n"
   ]
  },
  {
   "cell_type": "code",
   "execution_count": 140,
   "id": "f21d4a89",
   "metadata": {},
   "outputs": [
    {
     "name": "stdout",
     "output_type": "stream",
     "text": [
      "Coefficients: \n",
      " [ 0.00000000e+00 -1.76657741e+00  8.33009373e-01 -4.25298250e-02\n",
      "  1.90935172e-01 -1.64271540e+00  2.04005167e+00 -1.65999064e-01\n",
      "  3.62155505e-02  3.92786207e+01 -5.56550713e+01 -1.63533582e+02\n",
      "  1.69681471e+02]\n",
      "Mean squared error: 3123.91\n",
      "Coefficient of determination: 0.16\n"
     ]
    }
   ],
   "source": [
    "#create train set for model 3\n",
    "\n",
    "\n",
    "regr_model_3 = linear_model.LinearRegression()\n",
    "df_train_model_3 = df_normal_data_exclude_forcast_value_final_0.iloc[:748,:]\n",
    "df_test_model_3 = df_normal_data_exclude_forcast_value_final_0.iloc[748:,:]\n",
    "x_train_model_3 = df_train_model_3[['city','year','weekofyear','precipitation_amt_mm','station_avg_temp_c','station_diur_temp_rng_c','station_max_temp_c','station_min_temp_c','station_precip_mm','ndvi_ne','ndvi_nw','ndvi_se','ndvi_sw']]\n",
    "y_train_model_3 = df_train_model_3['total_cases']\n",
    "regr_model_3.fit(x_train_model_3, y_train_model_3)\n",
    "#create test set for model 3\n",
    "\n",
    "x_test_model_3 = df_test_model_3[['city','year','weekofyear','precipitation_amt_mm','station_avg_temp_c','station_diur_temp_rng_c','station_max_temp_c','station_min_temp_c','station_precip_mm','ndvi_ne','ndvi_nw','ndvi_se','ndvi_sw']]\n",
    "y_test_model_3 = df_test_model_3['total_cases']\n",
    "\n",
    "y_pred_model_3 = regr_model_3.predict(x_test_model_3)\n",
    "y_test_array_model_3 = y_test_model_3.to_numpy()\n",
    "\n",
    "print(\"Coefficients: \\n\", regr_model_3.coef_)\n",
    "# The mean squared error\n",
    "print(\"Mean squared error: %.2f\" % mean_squared_error(y_test_array_model_3, y_pred_model_3))\n",
    "# The coefficient of determination: 1 is perfect prediction\n",
    "print(\"Coefficient of determination: %.2f\" % r2_score(y_test_array_model_3, y_pred_model_3))\n",
    "\n"
   ]
  },
  {
   "cell_type": "code",
   "execution_count": 141,
   "id": "383aa975",
   "metadata": {},
   "outputs": [
    {
     "name": "stdout",
     "output_type": "stream",
     "text": [
      "Coefficients: \n",
      " [ 0.00000000e+00  5.61913140e-01  2.40597589e-02  8.34800125e-04\n",
      "  4.57838837e-01  3.98210177e-02  6.82786440e-02  1.36638153e+00\n",
      " -1.04083115e-03  1.62784555e+01 -1.64311839e+01 -1.70338874e+01\n",
      "  1.17776025e+01]\n",
      "Mean squared error: 97.34\n",
      "Coefficient of determination: 0.07\n"
     ]
    }
   ],
   "source": [
    "#create train set for model 3\n",
    "\n",
    "\n",
    "regr_model_3 = linear_model.LinearRegression()\n",
    "df_train_model_3 = df_normal_data_exclude_forcast_value_final_1.iloc[:416,:]\n",
    "df_test_model_3 = df_normal_data_exclude_forcast_value_final_1.iloc[416:,:]\n",
    "x_train_model_3 = df_train_model_3[['city','year','weekofyear','precipitation_amt_mm','station_avg_temp_c','station_diur_temp_rng_c','station_max_temp_c','station_min_temp_c','station_precip_mm','ndvi_ne','ndvi_nw','ndvi_se','ndvi_sw']]\n",
    "y_train_model_3 = df_train_model_3['total_cases']\n",
    "regr_model_3.fit(x_train_model_3, y_train_model_3)\n",
    "#create test set for model 3\n",
    "\n",
    "x_test_model_3 = df_test_model_3[['city','year','weekofyear','precipitation_amt_mm','station_avg_temp_c','station_diur_temp_rng_c','station_max_temp_c','station_min_temp_c','station_precip_mm','ndvi_ne','ndvi_nw','ndvi_se','ndvi_sw']]\n",
    "y_test_model_3 = df_test_model_3['total_cases']\n",
    "\n",
    "y_pred_model_3 = regr_model_3.predict(x_test_model_3)\n",
    "y_test_array_model_3 = y_test_model_3.to_numpy()\n",
    "\n",
    "print(\"Coefficients: \\n\", regr_model_3.coef_)\n",
    "# The mean squared error\n",
    "print(\"Mean squared error: %.2f\" % mean_squared_error(y_test_array_model_3, y_pred_model_3))\n",
    "# The coefficient of determination: 1 is perfect prediction\n",
    "print(\"Coefficient of determination: %.2f\" % r2_score(y_test_array_model_3, y_pred_model_3))\n",
    "\n"
   ]
  },
  {
   "cell_type": "code",
   "execution_count": 142,
   "id": "3b153ad3",
   "metadata": {},
   "outputs": [
    {
     "name": "stdout",
     "output_type": "stream",
     "text": [
      "Coefficients: \n",
      " [ 0.00000000e+00 -2.72802087e+00  6.06153137e-01 -4.18698493e-02\n",
      " -1.32463696e+01 -1.68641189e+00  4.05616209e+00  1.37567921e+00\n",
      " -1.08328498e-02  3.92657100e+01 -5.84901961e+01 -1.90430819e+02\n",
      "  1.76873186e+02 -8.76719999e+01 -5.87599397e+01  1.10421494e+02\n",
      "  1.70786795e+01  3.28737739e+00 -4.18698493e-02  3.74485512e-02\n",
      " -3.09498737e+01  3.47746084e+01 -4.24562613e+00]\n",
      "Mean squared error: 2633.03\n",
      "Coefficient of determination: 0.13\n"
     ]
    }
   ],
   "source": [
    "#create train set for model 4\n",
    "\n",
    "\n",
    "regr_model_4 = linear_model.LinearRegression()\n",
    "df_train_model_4 = df_normal_data_include_forcast_value_final_0.iloc[:748,:]\n",
    "df_test_model_4 = df_normal_data_include_forcast_value_final_0.iloc[748:,:]\n",
    "x_train_model_4 = df_train_model_4[['city','year','weekofyear','precipitation_amt_mm','station_avg_temp_c','station_diur_temp_rng_c','station_max_temp_c','station_min_temp_c','station_precip_mm','ndvi_ne','ndvi_nw','ndvi_se','ndvi_sw',\"reanalysis_air_temp_k\",\"reanalysis_avg_temp_k\",\"reanalysis_dew_point_temp_k\",\"reanalysis_max_air_temp_k\", \"reanalysis_min_air_temp_k\",\"reanalysis_sat_precip_amt_mm\",\"reanalysis_precip_amt_kg_per_m2\",\"reanalysis_relative_humidity_percent\", \"reanalysis_specific_humidity_g_per_kg\", \"reanalysis_tdtr_k\"]]\n",
    "y_train_model_4 = df_train_model_4['total_cases']\n",
    "regr_model_4.fit(x_train_model_4, y_train_model_4)\n",
    "#create test set for model 4\n",
    "\n",
    "x_test_model_4 = df_test_model_4[['city','year','weekofyear','precipitation_amt_mm','station_avg_temp_c','station_diur_temp_rng_c','station_max_temp_c','station_min_temp_c','station_precip_mm','ndvi_ne','ndvi_nw','ndvi_se','ndvi_sw',\"reanalysis_air_temp_k\",\"reanalysis_avg_temp_k\",\"reanalysis_dew_point_temp_k\",\"reanalysis_max_air_temp_k\", \"reanalysis_min_air_temp_k\",\"reanalysis_sat_precip_amt_mm\",\"reanalysis_precip_amt_kg_per_m2\",\"reanalysis_relative_humidity_percent\", \"reanalysis_specific_humidity_g_per_kg\", \"reanalysis_tdtr_k\"]]\n",
    "y_test_model_4 = df_test_model_4['total_cases']\n",
    "\n",
    "y_pred_model_4 = regr_model_4.predict(x_test_model_4)\n",
    "y_test_array_model_4 = y_test_model_4.to_numpy()\n",
    "\n",
    "print(\"Coefficients: \\n\", regr_model_4.coef_)\n",
    "# The mean squared error\n",
    "print(\"Mean squared error: %.2f\" % mean_squared_error(y_test_array_model_4, y_pred_model_4))\n",
    "# The coefficient of determination: 1 is perfect prediction\n",
    "print(\"Coefficient of determination: %.2f\" % r2_score(y_test_array_model_4, y_pred_model_4))"
   ]
  },
  {
   "cell_type": "code",
   "execution_count": 143,
   "id": "d2ad1a7d",
   "metadata": {},
   "outputs": [
    {
     "name": "stdout",
     "output_type": "stream",
     "text": [
      "Coefficients: \n",
      " [ 0.00000000e+00  4.65035142e-01  1.80962037e-02 -5.18690570e-03\n",
      " -2.73304459e-01  1.70329088e-01  2.78897970e-01  1.02322090e+00\n",
      "  5.73461974e-03  1.71060803e+01 -1.32965751e+01 -2.28291603e+01\n",
      "  1.49165608e+01  7.88927190e-02 -8.78113460e-01 -6.34226482e+00\n",
      " -3.75543836e-01  2.93174363e-01 -5.18690570e-03 -7.93206653e-03\n",
      " -2.87687892e-01  8.21873507e+00 -3.95861123e-02]\n",
      "Mean squared error: 49.81\n",
      "Coefficient of determination: 0.05\n"
     ]
    }
   ],
   "source": [
    "#create train set for model 4\n",
    "\n",
    "\n",
    "regr_model_4 = linear_model.LinearRegression()\n",
    "df_train_model_4 = df_normal_data_include_forcast_value_final_1.iloc[:416,:]\n",
    "df_test_model_4 = df_normal_data_include_forcast_value_final_1.iloc[416:,:]\n",
    "x_train_model_4 = df_train_model_4[['city','year','weekofyear','precipitation_amt_mm','station_avg_temp_c','station_diur_temp_rng_c','station_max_temp_c','station_min_temp_c','station_precip_mm','ndvi_ne','ndvi_nw','ndvi_se','ndvi_sw',\"reanalysis_air_temp_k\",\"reanalysis_avg_temp_k\",\"reanalysis_dew_point_temp_k\",\"reanalysis_max_air_temp_k\", \"reanalysis_min_air_temp_k\",\"reanalysis_sat_precip_amt_mm\",\"reanalysis_precip_amt_kg_per_m2\",\"reanalysis_relative_humidity_percent\", \"reanalysis_specific_humidity_g_per_kg\", \"reanalysis_tdtr_k\"]]\n",
    "y_train_model_4 = df_train_model_4['total_cases']\n",
    "regr_model_4.fit(x_train_model_4, y_train_model_4)\n",
    "#create test set for model 4\n",
    "\n",
    "x_test_model_4 = df_test_model_4[['city','year','weekofyear','precipitation_amt_mm','station_avg_temp_c','station_diur_temp_rng_c','station_max_temp_c','station_min_temp_c','station_precip_mm','ndvi_ne','ndvi_nw','ndvi_se','ndvi_sw',\"reanalysis_air_temp_k\",\"reanalysis_avg_temp_k\",\"reanalysis_dew_point_temp_k\",\"reanalysis_max_air_temp_k\", \"reanalysis_min_air_temp_k\",\"reanalysis_sat_precip_amt_mm\",\"reanalysis_precip_amt_kg_per_m2\",\"reanalysis_relative_humidity_percent\", \"reanalysis_specific_humidity_g_per_kg\", \"reanalysis_tdtr_k\"]]\n",
    "y_test_model_4 = df_test_model_4['total_cases']\n",
    "\n",
    "y_pred_model_4 = regr_model_4.predict(x_test_model_4)\n",
    "y_test_array_model_4 = y_test_model_4.to_numpy()\n",
    "\n",
    "print(\"Coefficients: \\n\", regr_model_4.coef_)\n",
    "# The mean squared error\n",
    "print(\"Mean squared error: %.2f\" % mean_squared_error(y_test_array_model_4, y_pred_model_4))\n",
    "# The coefficient of determination: 1 is perfect prediction\n",
    "print(\"Coefficient of determination: %.2f\" % r2_score(y_test_array_model_4, y_pred_model_4))"
   ]
  },
  {
   "cell_type": "code",
   "execution_count": 149,
   "id": "1787d3c1",
   "metadata": {},
   "outputs": [],
   "source": [
    "from sklearn.metrics import mean_squared_error\n",
    "from sklearn.metrics import mean_absolute_error"
   ]
  },
  {
   "cell_type": "code",
   "execution_count": null,
   "id": "cb498930",
   "metadata": {},
   "outputs": [],
   "source": [
    "#df_train_model_3 = df_normal_data_exclude_forcast_value_final_0.iloc[:748,:]\n",
    "#df_test_model_3 = df_normal_data_exclude_forcast_value_final_0.iloc[748:,:]"
   ]
  },
  {
   "cell_type": "code",
   "execution_count": 175,
   "id": "b400376c",
   "metadata": {},
   "outputs": [],
   "source": [
    "# load the dataset\n",
    "dataset_train_1_0  = x_train_model_PCA_1_0\n",
    "#dataset_train_1_0  = dataset.astype('float32')\n",
    "dataset_train_y_1_0  = y_train_model_PCA_1_0\n",
    "\n",
    "\n",
    "dataset_test_1_0  = x_test_model_PCA_1_0\n",
    "#dataset_test_1_0  = dataset.astype('float32')\n",
    "dataset_test_y_1_0  =y_test_model_PCA_1_0"
   ]
  },
  {
   "cell_type": "code",
   "execution_count": 167,
   "id": "7bbbfb7f",
   "metadata": {},
   "outputs": [
    {
     "data": {
      "text/plain": [
       "(188, 6)"
      ]
     },
     "execution_count": 167,
     "metadata": {},
     "output_type": "execute_result"
    }
   ],
   "source": [
    "dataset_test_1_0.shape"
   ]
  },
  {
   "cell_type": "code",
   "execution_count": 176,
   "id": "8f5c31d7",
   "metadata": {},
   "outputs": [],
   "source": [
    "# normalize the dataset\n",
    "scaler = MinMaxScaler(feature_range=(0, 1))\n",
    "dataset_train_1_0 = scaler.fit_transform(dataset_train_1_0 )\n",
    "dataset_train_y_1_0 = scaler.fit_transform(dataset_train_y_1_0 )\n",
    "\n",
    "dataset_test_1_0 = scaler.fit_transform(dataset_test_1_0 )\n",
    "dataset_test_y_1_0 = scaler.fit_transform(dataset_test_y_1_0 )"
   ]
  },
  {
   "cell_type": "code",
   "execution_count": 177,
   "id": "c3aac4b9",
   "metadata": {},
   "outputs": [
    {
     "name": "stdout",
     "output_type": "stream",
     "text": [
      "748 188\n"
     ]
    }
   ],
   "source": [
    "# split into train and test sets\n",
    "train_size_1_0 = len(dataset_train_1_0)\n",
    "test_size_1_0 = len(dataset_test_1_0)\n",
    "\n",
    "\n",
    "train_1_0 = dataset_train_1_0\n",
    "train_y_1_0 = dataset_train_y_1_0\n",
    "test_1_0 = dataset_test_1_0\n",
    "test_y_1_0 = dataset_test_y_1_0\n",
    "print(len(train_1_0), len(test_1_0))"
   ]
  },
  {
   "cell_type": "code",
   "execution_count": 186,
   "id": "b1ebc2a0",
   "metadata": {},
   "outputs": [],
   "source": [
    "def create_dataset(dataset1,dataset2, look_back=1):\n",
    "    dataX, dataY = [], []\n",
    "    for i in range(len(dataset1)-look_back-1):\n",
    "        a = dataset1[i:(i+look_back), 0]\n",
    "        dataX.append(a)\n",
    "    for i in range(len(dataset2)-look_back-1):\n",
    "        #a = dataset[i:(i+look_back), 0]\n",
    "        #dataX.append(a)\n",
    "        dataY.append(dataset2[i + look_back, 0])\n",
    "    return numpy.array(dataX), numpy.array(dataY)"
   ]
  },
  {
   "cell_type": "code",
   "execution_count": 195,
   "id": "110c5c45",
   "metadata": {},
   "outputs": [],
   "source": [
    "# reshape into X=t and Y=t+1\n",
    "look_back = 1\n",
    "trainX, trainY = create_dataset(train_1_0,train_y_1_0, look_back)\n",
    "testX, testY = create_dataset(test_1_0,test_y_1_0, look_back)"
   ]
  },
  {
   "cell_type": "code",
   "execution_count": 196,
   "id": "36ef3792",
   "metadata": {},
   "outputs": [
    {
     "data": {
      "text/plain": [
       "(186,)"
      ]
     },
     "execution_count": 196,
     "metadata": {},
     "output_type": "execute_result"
    }
   ],
   "source": [
    "testY.shape"
   ]
  },
  {
   "cell_type": "code",
   "execution_count": 197,
   "id": "f31fbbbc",
   "metadata": {},
   "outputs": [
    {
     "name": "stdout",
     "output_type": "stream",
     "text": [
      "Epoch 1/10\n",
      "746/746 - 6s - loss: 0.0126 - accuracy: 0.0054 - 6s/epoch - 8ms/step\n",
      "Epoch 2/10\n",
      "746/746 - 2s - loss: 0.0123 - accuracy: 0.0054 - 2s/epoch - 3ms/step\n",
      "Epoch 3/10\n",
      "746/746 - 2s - loss: 0.0123 - accuracy: 0.0054 - 2s/epoch - 3ms/step\n",
      "Epoch 4/10\n",
      "746/746 - 2s - loss: 0.0122 - accuracy: 0.0054 - 2s/epoch - 3ms/step\n",
      "Epoch 5/10\n",
      "746/746 - 2s - loss: 0.0123 - accuracy: 0.0054 - 2s/epoch - 3ms/step\n",
      "Epoch 6/10\n",
      "746/746 - 2s - loss: 0.0122 - accuracy: 0.0054 - 2s/epoch - 3ms/step\n",
      "Epoch 7/10\n",
      "746/746 - 2s - loss: 0.0123 - accuracy: 0.0054 - 2s/epoch - 3ms/step\n",
      "Epoch 8/10\n",
      "746/746 - 2s - loss: 0.0123 - accuracy: 0.0054 - 2s/epoch - 3ms/step\n",
      "Epoch 9/10\n",
      "746/746 - 2s - loss: 0.0123 - accuracy: 0.0054 - 2s/epoch - 3ms/step\n",
      "Epoch 10/10\n",
      "746/746 - 2s - loss: 0.0122 - accuracy: 0.0054 - 2s/epoch - 3ms/step\n"
     ]
    },
    {
     "data": {
      "text/plain": [
       "<keras.callbacks.History at 0x18389be2f10>"
      ]
     },
     "execution_count": 197,
     "metadata": {},
     "output_type": "execute_result"
    }
   ],
   "source": [
    "# create and fit the LSTM network\n",
    "model = Sequential()\n",
    "model.add(LSTM(4, input_shape=(1, look_back)))\n",
    "model.add(Dense(1))\n",
    "model.compile(loss='mean_squared_error', optimizer='adam', metrics=['accuracy'])\n",
    "model.fit(trainX, trainY, epochs=10, batch_size=1, verbose=2)"
   ]
  },
  {
   "cell_type": "code",
   "execution_count": 198,
   "id": "e0ddb527",
   "metadata": {},
   "outputs": [
    {
     "name": "stdout",
     "output_type": "stream",
     "text": [
      "24/24 [==============================] - 1s 4ms/step\n",
      "6/6 [==============================] - 0s 5ms/step\n",
      "Test Score: 55.26 RMSE\n",
      "Test Score: 5.18 RMSE\n"
     ]
    }
   ],
   "source": [
    "# make predictions\n",
    "trainPredict = model.predict(trainX)\n",
    "testPredict = model.predict(testX)\n",
    "# invert predictions\n",
    "trainPredict = scaler.inverse_transform(trainPredict)\n",
    "trainY = scaler.inverse_transform([trainY])\n",
    "testPredict = scaler.inverse_transform(testPredict)\n",
    "testY = scaler.inverse_transform([testY])\n",
    "# calculate root mean squared error\n",
    "\n",
    "testScore = math.sqrt(mean_squared_error(testY[0], testPredict[:,0]))\n",
    "print('Test Score: %.2f RMSE' % (testScore))\n",
    "testScore = math.sqrt(mean_absolute_error(testY[0], testPredict[:,0]))\n",
    "print('Test Score: %.2f RMSE' % (testScore))"
   ]
  },
  {
   "cell_type": "code",
   "execution_count": 200,
   "id": "bb37e0ba",
   "metadata": {},
   "outputs": [
    {
     "name": "stdout",
     "output_type": "stream",
     "text": [
      "748 104\n",
      "Epoch 1/10\n",
      "414/414 - 4s - loss: 0.0097 - accuracy: 0.1787 - 4s/epoch - 9ms/step\n",
      "Epoch 2/10\n",
      "414/414 - 1s - loss: 0.0097 - accuracy: 0.1787 - 1s/epoch - 3ms/step\n",
      "Epoch 3/10\n",
      "414/414 - 1s - loss: 0.0096 - accuracy: 0.1787 - 1s/epoch - 3ms/step\n",
      "Epoch 4/10\n",
      "414/414 - 1s - loss: 0.0095 - accuracy: 0.1787 - 1s/epoch - 3ms/step\n",
      "Epoch 5/10\n",
      "414/414 - 1s - loss: 0.0095 - accuracy: 0.1787 - 1s/epoch - 3ms/step\n",
      "Epoch 6/10\n",
      "414/414 - 2s - loss: 0.0096 - accuracy: 0.1787 - 2s/epoch - 4ms/step\n",
      "Epoch 7/10\n",
      "414/414 - 2s - loss: 0.0096 - accuracy: 0.1787 - 2s/epoch - 4ms/step\n",
      "Epoch 8/10\n",
      "414/414 - 1s - loss: 0.0096 - accuracy: 0.1787 - 1s/epoch - 3ms/step\n",
      "Epoch 9/10\n",
      "414/414 - 1s - loss: 0.0095 - accuracy: 0.1787 - 1s/epoch - 3ms/step\n",
      "Epoch 10/10\n",
      "414/414 - 2s - loss: 0.0096 - accuracy: 0.1787 - 2s/epoch - 5ms/step\n",
      "13/13 [==============================] - 1s 4ms/step\n",
      "4/4 [==============================] - 0s 6ms/step\n",
      "Test Score: 9.32 RMSE\n",
      "Test Score: 2.39 RMSE\n"
     ]
    }
   ],
   "source": [
    "# load the dataset\n",
    "dataset_train_1_1  = x_train_model_PCA_1_1\n",
    "dataset_train_y_1_1  = y_train_model_PCA_1_1\n",
    "\n",
    "\n",
    "dataset_test_1_1  = x_test_model_PCA_1_1\n",
    "dataset_test_y_1_1  =y_test_model_PCA_1_1\n",
    "\n",
    "# normalize the dataset\n",
    "scaler = MinMaxScaler(feature_range=(0, 1))\n",
    "dataset_train_1_1 = scaler.fit_transform(dataset_train_1_1 )\n",
    "dataset_train_y_1_1 = scaler.fit_transform(dataset_train_y_1_1)\n",
    "\n",
    "dataset_test_1_1 = scaler.fit_transform(dataset_test_1_1 )\n",
    "dataset_test_y_1_1 = scaler.fit_transform(dataset_test_y_1_1 )\n",
    "\n",
    "# split into train and test sets\n",
    "train_size_1_1 = len(dataset_train_1_1)\n",
    "test_size_1_1 = len(dataset_test_1_1)\n",
    "\n",
    "\n",
    "train_1_1 = dataset_train_1_1\n",
    "train_y_1_1 = dataset_train_y_1_1\n",
    "test_1_1 = dataset_test_1_1\n",
    "test_y_1_1 = dataset_test_y_1_1\n",
    "print(len(train_1_0), len(test_1_1))\n",
    "\n",
    "# reshape into X=t and Y=t+1\n",
    "look_back = 1\n",
    "trainX, trainY = create_dataset(train_1_1,train_y_1_1, look_back)\n",
    "testX, testY = create_dataset(test_1_1,test_y_1_1, look_back)\n",
    "\n",
    "# create and fit the LSTM network\n",
    "model_1_1 = Sequential()\n",
    "model_1_1.add(LSTM(4, input_shape=(1, look_back)))\n",
    "model_1_1.add(Dense(1))\n",
    "model_1_1.compile(loss='mean_squared_error', optimizer='adam', metrics=['accuracy'])\n",
    "model_1_1.fit(trainX, trainY, epochs=10, batch_size=1, verbose=2)\n",
    "\n",
    "# make predictions\n",
    "trainPredict = model_1_1.predict(trainX)\n",
    "testPredict = model_1_1.predict(testX)\n",
    "# invert predictions\n",
    "trainPredict = scaler.inverse_transform(trainPredict)\n",
    "trainY = scaler.inverse_transform([trainY])\n",
    "testPredict = scaler.inverse_transform(testPredict)\n",
    "testY = scaler.inverse_transform([testY])\n",
    "# calculate root mean squared error\n",
    "\n",
    "testScore = math.sqrt(mean_squared_error(testY[0], testPredict[:,0]))\n",
    "print('Test Score: %.2f RMSE' % (testScore))\n",
    "testScore = math.sqrt(mean_absolute_error(testY[0], testPredict[:,0]))\n",
    "print('Test Score: %.2f RMSE' % (testScore))"
   ]
  },
  {
   "cell_type": "code",
   "execution_count": 201,
   "id": "d5ef99c0",
   "metadata": {},
   "outputs": [
    {
     "name": "stdout",
     "output_type": "stream",
     "text": [
      "748 188\n",
      "Epoch 1/10\n",
      "746/746 - 5s - loss: 0.0135 - accuracy: 0.0027 - 5s/epoch - 7ms/step\n",
      "Epoch 2/10\n",
      "746/746 - 2s - loss: 0.0134 - accuracy: 0.0027 - 2s/epoch - 3ms/step\n",
      "Epoch 3/10\n",
      "746/746 - 2s - loss: 0.0134 - accuracy: 0.0027 - 2s/epoch - 3ms/step\n",
      "Epoch 4/10\n",
      "746/746 - 3s - loss: 0.0134 - accuracy: 0.0027 - 3s/epoch - 4ms/step\n",
      "Epoch 5/10\n",
      "746/746 - 3s - loss: 0.0133 - accuracy: 0.0027 - 3s/epoch - 4ms/step\n",
      "Epoch 6/10\n",
      "746/746 - 2s - loss: 0.0133 - accuracy: 0.0027 - 2s/epoch - 3ms/step\n",
      "Epoch 7/10\n",
      "746/746 - 3s - loss: 0.0134 - accuracy: 0.0027 - 3s/epoch - 4ms/step\n",
      "Epoch 8/10\n",
      "746/746 - 3s - loss: 0.0134 - accuracy: 0.0027 - 3s/epoch - 3ms/step\n",
      "Epoch 9/10\n",
      "746/746 - 2s - loss: 0.0134 - accuracy: 0.0027 - 2s/epoch - 3ms/step\n",
      "Epoch 10/10\n",
      "746/746 - 3s - loss: 0.0134 - accuracy: 0.0027 - 3s/epoch - 3ms/step\n",
      "24/24 [==============================] - 1s 4ms/step\n",
      "6/6 [==============================] - 0s 4ms/step\n",
      "Test Score: 44.68 RMSE\n",
      "Test Score: 4.60 RMSE\n"
     ]
    }
   ],
   "source": [
    "# load the dataset\n",
    "dataset_train_2_0  = x_train_model_PCA_2_0\n",
    "dataset_train_y_2_0  = y_train_model_PCA_2_0\n",
    "\n",
    "\n",
    "dataset_test_2_0  = x_test_model_PCA_2_0\n",
    "dataset_test_y_2_0  =y_test_model_PCA_2_0\n",
    "\n",
    "# normalize the dataset\n",
    "scaler = MinMaxScaler(feature_range=(0, 1))\n",
    "dataset_train_2_0 = scaler.fit_transform(dataset_train_2_0 )\n",
    "dataset_train_y_2_0 = scaler.fit_transform(dataset_train_y_2_0)\n",
    "\n",
    "dataset_test_2_0 = scaler.fit_transform(dataset_test_2_0 )\n",
    "dataset_test_y_2_0 = scaler.fit_transform(dataset_test_y_2_0 )\n",
    "\n",
    "# split into train and test sets\n",
    "train_size_2_0 = len(dataset_train_2_0)\n",
    "test_size_2_0 = len(dataset_test_2_0)\n",
    "\n",
    "\n",
    "train_2_0 = dataset_train_2_0\n",
    "train_y_2_0 = dataset_train_y_2_0\n",
    "test_2_0 = dataset_test_2_0\n",
    "test_y_2_0 = dataset_test_y_2_0\n",
    "print(len(train_2_0), len(test_2_0))\n",
    "\n",
    "# reshape into X=t and Y=t+1\n",
    "look_back = 1\n",
    "trainX, trainY = create_dataset(train_2_0,train_y_2_0, look_back)\n",
    "testX, testY = create_dataset(test_2_0,test_y_2_0, look_back)\n",
    "\n",
    "# create and fit the LSTM network\n",
    "model_2_0 = Sequential()\n",
    "model_2_0.add(LSTM(4, input_shape=(1, look_back)))\n",
    "model_2_0.add(Dense(1))\n",
    "model_2_0.compile(loss='mean_squared_error', optimizer='adam', metrics=['accuracy'])\n",
    "model_2_0.fit(trainX, trainY, epochs=10, batch_size=1, verbose=2)\n",
    "\n",
    "# make predictions\n",
    "trainPredict = model_2_0.predict(trainX)\n",
    "testPredict = model_2_0.predict(testX)\n",
    "# invert predictions\n",
    "trainPredict = scaler.inverse_transform(trainPredict)\n",
    "trainY = scaler.inverse_transform([trainY])\n",
    "testPredict = scaler.inverse_transform(testPredict)\n",
    "testY = scaler.inverse_transform([testY])\n",
    "# calculate root mean squared error\n",
    "\n",
    "testScore = math.sqrt(mean_squared_error(testY[0], testPredict[:,0]))\n",
    "print('Test Score: %.2f RMSE' % (testScore))\n",
    "testScore = math.sqrt(mean_absolute_error(testY[0], testPredict[:,0]))\n",
    "print('Test Score: %.2f RMSE' % (testScore))"
   ]
  },
  {
   "cell_type": "code",
   "execution_count": 202,
   "id": "aafc5c33",
   "metadata": {},
   "outputs": [
    {
     "name": "stdout",
     "output_type": "stream",
     "text": [
      "416 104\n",
      "Epoch 1/10\n",
      "414/414 - 4s - loss: 0.0082 - accuracy: 0.1763 - 4s/epoch - 9ms/step\n",
      "Epoch 2/10\n",
      "414/414 - 1s - loss: 0.0075 - accuracy: 0.1763 - 1s/epoch - 3ms/step\n",
      "Epoch 3/10\n",
      "414/414 - 1s - loss: 0.0075 - accuracy: 0.1763 - 1s/epoch - 3ms/step\n",
      "Epoch 4/10\n",
      "414/414 - 1s - loss: 0.0075 - accuracy: 0.1763 - 1s/epoch - 3ms/step\n",
      "Epoch 5/10\n",
      "414/414 - 1s - loss: 0.0075 - accuracy: 0.1763 - 1s/epoch - 3ms/step\n",
      "Epoch 6/10\n",
      "414/414 - 2s - loss: 0.0075 - accuracy: 0.1763 - 2s/epoch - 4ms/step\n",
      "Epoch 7/10\n",
      "414/414 - 2s - loss: 0.0075 - accuracy: 0.1763 - 2s/epoch - 4ms/step\n",
      "Epoch 8/10\n",
      "414/414 - 1s - loss: 0.0076 - accuracy: 0.1763 - 1s/epoch - 3ms/step\n",
      "Epoch 9/10\n",
      "414/414 - 1s - loss: 0.0076 - accuracy: 0.1763 - 1s/epoch - 3ms/step\n",
      "Epoch 10/10\n",
      "414/414 - 1s - loss: 0.0075 - accuracy: 0.1763 - 1s/epoch - 4ms/step\n",
      "13/13 [==============================] - 1s 4ms/step\n",
      "4/4 [==============================] - 0s 5ms/step\n",
      "Test Score: 13.41 RMSE\n",
      "Test Score: 2.74 RMSE\n"
     ]
    }
   ],
   "source": [
    "# load the dataset\n",
    "dataset_train_2_1  = x_train_model_PCA_2_1\n",
    "dataset_train_y_2_1  = y_train_model_PCA_2_1\n",
    "\n",
    "\n",
    "dataset_test_2_1  = x_test_model_PCA_2_1\n",
    "dataset_test_y_2_1  =y_test_model_PCA_2_1\n",
    "\n",
    "# normalize the dataset\n",
    "scaler = MinMaxScaler(feature_range=(0, 1))\n",
    "dataset_train_2_1 = scaler.fit_transform(dataset_train_2_1 )\n",
    "dataset_train_y_2_1 = scaler.fit_transform(dataset_train_y_2_1)\n",
    "\n",
    "dataset_test_2_1 = scaler.fit_transform(dataset_test_2_1 )\n",
    "dataset_test_y_2_1 = scaler.fit_transform(dataset_test_y_2_1 )\n",
    "\n",
    "# split into train and test sets\n",
    "train_size_2_1 = len(dataset_train_2_1)\n",
    "test_size_2_1 = len(dataset_test_2_1)\n",
    "\n",
    "\n",
    "train_2_1 = dataset_train_2_1\n",
    "train_y_2_1 = dataset_train_y_2_1\n",
    "test_2_1 = dataset_test_2_1\n",
    "test_y_2_1 = dataset_test_y_2_1\n",
    "print(len(train_2_1), len(test_2_1))\n",
    "\n",
    "# reshape into X=t and Y=t+1\n",
    "look_back = 1\n",
    "trainX, trainY = create_dataset(train_2_1,train_y_2_1, look_back)\n",
    "testX, testY = create_dataset(test_2_1,test_y_2_1, look_back)\n",
    "\n",
    "# create and fit the LSTM network\n",
    "model_2_1 = Sequential()\n",
    "model_2_1.add(LSTM(4, input_shape=(1, look_back)))\n",
    "model_2_1.add(Dense(1))\n",
    "model_2_1.compile(loss='mean_squared_error', optimizer='adam', metrics=['accuracy'])\n",
    "model_2_1.fit(trainX, trainY, epochs=10, batch_size=1, verbose=2)\n",
    "\n",
    "# make predictions\n",
    "trainPredict = model_2_1.predict(trainX)\n",
    "testPredict = model_2_1.predict(testX)\n",
    "# invert predictions\n",
    "trainPredict = scaler.inverse_transform(trainPredict)\n",
    "trainY = scaler.inverse_transform([trainY])\n",
    "testPredict = scaler.inverse_transform(testPredict)\n",
    "testY = scaler.inverse_transform([testY])\n",
    "# calculate root mean squared error\n",
    "\n",
    "testScore = math.sqrt(mean_squared_error(testY[0], testPredict[:,0]))\n",
    "print('Test Score: %.2f RMSE' % (testScore))\n",
    "testScore = math.sqrt(mean_absolute_error(testY[0], testPredict[:,0]))\n",
    "print('Test Score: %.2f RMSE' % (testScore))"
   ]
  },
  {
   "cell_type": "code",
   "execution_count": 204,
   "id": "c0954895",
   "metadata": {},
   "outputs": [
    {
     "name": "stdout",
     "output_type": "stream",
     "text": [
      "748 188\n",
      "Epoch 1/10\n",
      "746/746 - 6s - loss: 0.0116 - accuracy: 0.0054 - 6s/epoch - 8ms/step\n",
      "Epoch 2/10\n",
      "746/746 - 2s - loss: 0.0114 - accuracy: 0.0054 - 2s/epoch - 3ms/step\n",
      "Epoch 3/10\n",
      "746/746 - 2s - loss: 0.0113 - accuracy: 0.0054 - 2s/epoch - 3ms/step\n",
      "Epoch 4/10\n",
      "746/746 - 2s - loss: 0.0113 - accuracy: 0.0054 - 2s/epoch - 3ms/step\n",
      "Epoch 5/10\n",
      "746/746 - 2s - loss: 0.0113 - accuracy: 0.0054 - 2s/epoch - 3ms/step\n",
      "Epoch 6/10\n",
      "746/746 - 2s - loss: 0.0112 - accuracy: 0.0054 - 2s/epoch - 3ms/step\n",
      "Epoch 7/10\n",
      "746/746 - 3s - loss: 0.0112 - accuracy: 0.0054 - 3s/epoch - 4ms/step\n",
      "Epoch 8/10\n",
      "746/746 - 2s - loss: 0.0113 - accuracy: 0.0054 - 2s/epoch - 3ms/step\n",
      "Epoch 9/10\n",
      "746/746 - 2s - loss: 0.0113 - accuracy: 0.0054 - 2s/epoch - 3ms/step\n",
      "Epoch 10/10\n",
      "746/746 - 3s - loss: 0.0113 - accuracy: 0.0054 - 3s/epoch - 3ms/step\n",
      "24/24 [==============================] - 1s 3ms/step\n",
      "6/6 [==============================] - 0s 4ms/step\n",
      "Test Score: 61.95 RMSE\n",
      "Test Score: 5.27 RMSE\n"
     ]
    }
   ],
   "source": [
    "# load the dataset\n",
    "dataset_train_3_0  = x_train_model_PCA_3_0\n",
    "dataset_train_y_3_0  = y_train_model_PCA_3_0\n",
    "\n",
    "\n",
    "dataset_test_3_0  = x_test_model_PCA_3_0\n",
    "dataset_test_y_3_0  =y_test_model_PCA_3_0\n",
    "\n",
    "# normalize the dataset\n",
    "scaler = MinMaxScaler(feature_range=(0, 1))\n",
    "dataset_train_3_0 = scaler.fit_transform(dataset_train_3_0 )\n",
    "dataset_train_y_3_0 = scaler.fit_transform(dataset_train_y_3_0)\n",
    "\n",
    "dataset_test_3_0 = scaler.fit_transform(dataset_test_3_0 )\n",
    "dataset_test_y_3_0 = scaler.fit_transform(dataset_test_y_3_0 )\n",
    "\n",
    "# split into train and test sets\n",
    "train_size_3_0 = len(dataset_train_3_0)\n",
    "test_size_3_0 = len(dataset_test_3_0)\n",
    "\n",
    "\n",
    "train_3_0 = dataset_train_3_0\n",
    "train_y_3_0 = dataset_train_y_3_0\n",
    "test_3_0 = dataset_test_3_0\n",
    "test_y_3_0 = dataset_test_y_3_0\n",
    "print(len(train_3_0), len(test_3_0))\n",
    "\n",
    "# reshape into X=t and Y=t+1\n",
    "look_back = 1\n",
    "trainX, trainY = create_dataset(train_3_0,train_y_3_0, look_back)\n",
    "testX, testY = create_dataset(test_3_0,test_y_3_0, look_back)\n",
    "\n",
    "# create and fit the LSTM network\n",
    "model_3_0 = Sequential()\n",
    "model_3_0.add(LSTM(4, input_shape=(1, look_back)))\n",
    "model_3_0.add(Dense(1))\n",
    "model_3_0.compile(loss='mean_squared_error', optimizer='adam', metrics=['accuracy'])\n",
    "model_3_0.fit(trainX, trainY, epochs=10, batch_size=1, verbose=2)\n",
    "\n",
    "# make predictions\n",
    "trainPredict = model_3_0.predict(trainX)\n",
    "testPredict = model_3_0.predict(testX)\n",
    "# invert predictions\n",
    "trainPredict = scaler.inverse_transform(trainPredict)\n",
    "trainY = scaler.inverse_transform([trainY])\n",
    "testPredict = scaler.inverse_transform(testPredict)\n",
    "testY = scaler.inverse_transform([testY])\n",
    "# calculate root mean squared error\n",
    "\n",
    "testScore = math.sqrt(mean_squared_error(testY[0], testPredict[:,0]))\n",
    "print('Test Score: %.2f RMSE' % (testScore))\n",
    "testScore = math.sqrt(mean_absolute_error(testY[0], testPredict[:,0]))\n",
    "print('Test Score: %.2f RMSE' % (testScore))"
   ]
  },
  {
   "cell_type": "code",
   "execution_count": 203,
   "id": "7f323068",
   "metadata": {},
   "outputs": [
    {
     "name": "stdout",
     "output_type": "stream",
     "text": [
      "416 104\n",
      "Epoch 1/10\n",
      "414/414 - 4s - loss: 0.0093 - accuracy: 0.1884 - 4s/epoch - 11ms/step\n",
      "Epoch 2/10\n",
      "414/414 - 1s - loss: 0.0089 - accuracy: 0.1884 - 1s/epoch - 3ms/step\n",
      "Epoch 3/10\n",
      "414/414 - 1s - loss: 0.0089 - accuracy: 0.1884 - 1s/epoch - 3ms/step\n",
      "Epoch 4/10\n",
      "414/414 - 1s - loss: 0.0089 - accuracy: 0.1884 - 1s/epoch - 3ms/step\n",
      "Epoch 5/10\n",
      "414/414 - 1s - loss: 0.0090 - accuracy: 0.1884 - 1s/epoch - 3ms/step\n",
      "Epoch 6/10\n",
      "414/414 - 2s - loss: 0.0090 - accuracy: 0.1884 - 2s/epoch - 4ms/step\n",
      "Epoch 7/10\n",
      "414/414 - 1s - loss: 0.0089 - accuracy: 0.1884 - 1s/epoch - 3ms/step\n",
      "Epoch 8/10\n",
      "414/414 - 1s - loss: 0.0090 - accuracy: 0.1884 - 1s/epoch - 3ms/step\n",
      "Epoch 9/10\n",
      "414/414 - 1s - loss: 0.0090 - accuracy: 0.1884 - 1s/epoch - 3ms/step\n",
      "Epoch 10/10\n",
      "414/414 - 1s - loss: 0.0090 - accuracy: 0.1884 - 1s/epoch - 3ms/step\n",
      "13/13 [==============================] - 1s 3ms/step\n",
      "4/4 [==============================] - 0s 4ms/step\n",
      "Test Score: 11.04 RMSE\n",
      "Test Score: 2.51 RMSE\n"
     ]
    }
   ],
   "source": [
    "# load the dataset\n",
    "dataset_train_3_1  = x_train_model_PCA_3_1\n",
    "dataset_train_y_3_1  = y_train_model_PCA_3_1\n",
    "\n",
    "\n",
    "dataset_test_3_1  = x_test_model_PCA_3_1\n",
    "dataset_test_y_3_1  =y_test_model_PCA_3_1\n",
    "\n",
    "# normalize the dataset\n",
    "scaler = MinMaxScaler(feature_range=(0, 1))\n",
    "dataset_train_3_1 = scaler.fit_transform(dataset_train_3_1 )\n",
    "dataset_train_y_3_1 = scaler.fit_transform(dataset_train_y_3_1)\n",
    "\n",
    "dataset_test_3_1 = scaler.fit_transform(dataset_test_3_1 )\n",
    "dataset_test_y_3_1 = scaler.fit_transform(dataset_test_y_3_1 )\n",
    "\n",
    "# split into train and test sets\n",
    "train_size_3_1 = len(dataset_train_3_1)\n",
    "test_size_3_1 = len(dataset_test_3_1)\n",
    "\n",
    "\n",
    "train_3_1 = dataset_train_3_1\n",
    "train_y_3_1 = dataset_train_y_3_1\n",
    "test_3_1 = dataset_test_3_1\n",
    "test_y_3_1 = dataset_test_y_3_1\n",
    "print(len(train_3_1), len(test_3_1))\n",
    "\n",
    "# reshape into X=t and Y=t+1\n",
    "look_back = 1\n",
    "trainX, trainY = create_dataset(train_3_1,train_y_3_1, look_back)\n",
    "testX, testY = create_dataset(test_3_1,test_y_3_1, look_back)\n",
    "\n",
    "# create and fit the LSTM network\n",
    "model_3_1 = Sequential()\n",
    "model_3_1.add(LSTM(4, input_shape=(1, look_back)))\n",
    "model_3_1.add(Dense(1))\n",
    "model_3_1.compile(loss='mean_squared_error', optimizer='adam', metrics=['accuracy'])\n",
    "model_3_1.fit(trainX, trainY, epochs=10, batch_size=1, verbose=2)\n",
    "\n",
    "# make predictions\n",
    "trainPredict = model_3_1.predict(trainX)\n",
    "testPredict = model_3_1.predict(testX)\n",
    "# invert predictions\n",
    "trainPredict = scaler.inverse_transform(trainPredict)\n",
    "trainY = scaler.inverse_transform([trainY])\n",
    "testPredict = scaler.inverse_transform(testPredict)\n",
    "testY = scaler.inverse_transform([testY])\n",
    "# calculate root mean squared error\n",
    "\n",
    "testScore = math.sqrt(mean_squared_error(testY[0], testPredict[:,0]))\n",
    "print('Test Score: %.2f RMSE' % (testScore))\n",
    "testScore = math.sqrt(mean_absolute_error(testY[0], testPredict[:,0]))\n",
    "print('Test Score: %.2f RMSE' % (testScore))"
   ]
  },
  {
   "cell_type": "code",
   "execution_count": 205,
   "id": "04f1e9ae",
   "metadata": {},
   "outputs": [
    {
     "name": "stdout",
     "output_type": "stream",
     "text": [
      "748 188\n",
      "Epoch 1/10\n",
      "746/746 - 5s - loss: 0.0138 - accuracy: 0.0054 - 5s/epoch - 7ms/step\n",
      "Epoch 2/10\n",
      "746/746 - 2s - loss: 0.0127 - accuracy: 0.0054 - 2s/epoch - 3ms/step\n",
      "Epoch 3/10\n",
      "746/746 - 3s - loss: 0.0124 - accuracy: 0.0054 - 3s/epoch - 3ms/step\n",
      "Epoch 4/10\n",
      "746/746 - 3s - loss: 0.0123 - accuracy: 0.0054 - 3s/epoch - 4ms/step\n",
      "Epoch 5/10\n",
      "746/746 - 3s - loss: 0.0121 - accuracy: 0.0054 - 3s/epoch - 4ms/step\n",
      "Epoch 6/10\n",
      "746/746 - 3s - loss: 0.0121 - accuracy: 0.0054 - 3s/epoch - 4ms/step\n",
      "Epoch 7/10\n",
      "746/746 - 2s - loss: 0.0121 - accuracy: 0.0054 - 2s/epoch - 3ms/step\n",
      "Epoch 8/10\n",
      "746/746 - 2s - loss: 0.0121 - accuracy: 0.0054 - 2s/epoch - 3ms/step\n",
      "Epoch 9/10\n",
      "746/746 - 2s - loss: 0.0121 - accuracy: 0.0054 - 2s/epoch - 3ms/step\n",
      "Epoch 10/10\n",
      "746/746 - 2s - loss: 0.0121 - accuracy: 0.0054 - 2s/epoch - 3ms/step\n",
      "24/24 [==============================] - 1s 3ms/step\n",
      "6/6 [==============================] - 0s 3ms/step\n",
      "Test Score: 54.51 RMSE\n",
      "Test Score: 5.37 RMSE\n"
     ]
    }
   ],
   "source": [
    "# load the dataset\n",
    "dataset_train_4_0  = x_train_model_PCA_4_0\n",
    "dataset_train_y_4_0  = y_train_model_PCA_4_0\n",
    "\n",
    "\n",
    "dataset_test_4_0  = x_test_model_PCA_4_0\n",
    "dataset_test_y_4_0  =y_test_model_PCA_4_0\n",
    "\n",
    "# normalize the dataset\n",
    "scaler = MinMaxScaler(feature_range=(0, 1))\n",
    "dataset_train_4_0 = scaler.fit_transform(dataset_train_4_0 )\n",
    "dataset_train_y_4_0 = scaler.fit_transform(dataset_train_y_4_0)\n",
    "\n",
    "dataset_test_4_0 = scaler.fit_transform(dataset_test_4_0 )\n",
    "dataset_test_y_4_0 = scaler.fit_transform(dataset_test_y_4_0 )\n",
    "\n",
    "# split into train and test sets\n",
    "train_size_4_0 = len(dataset_train_4_0)\n",
    "test_size_4_0 = len(dataset_test_4_0)\n",
    "\n",
    "\n",
    "train_4_0 = dataset_train_4_0\n",
    "train_y_4_0 = dataset_train_y_4_0\n",
    "test_4_0 = dataset_test_4_0\n",
    "test_y_4_0 = dataset_test_y_4_0\n",
    "print(len(train_4_0), len(test_4_0))\n",
    "\n",
    "# reshape into X=t and Y=t+1\n",
    "look_back = 1\n",
    "trainX, trainY = create_dataset(train_4_0,train_y_4_0, look_back)\n",
    "testX, testY = create_dataset(test_4_0,test_y_4_0, look_back)\n",
    "\n",
    "# create and fit the LSTM network\n",
    "model_4_0 = Sequential()\n",
    "model_4_0.add(LSTM(4, input_shape=(1, look_back)))\n",
    "model_4_0.add(Dense(1))\n",
    "model_4_0.compile(loss='mean_squared_error', optimizer='adam', metrics=['accuracy'])\n",
    "model_4_0.fit(trainX, trainY, epochs=10, batch_size=1, verbose=2)\n",
    "\n",
    "# make predictions\n",
    "trainPredict = model_4_0.predict(trainX)\n",
    "testPredict = model_4_0.predict(testX)\n",
    "# invert predictions\n",
    "trainPredict = scaler.inverse_transform(trainPredict)\n",
    "trainY = scaler.inverse_transform([trainY])\n",
    "testPredict = scaler.inverse_transform(testPredict)\n",
    "testY = scaler.inverse_transform([testY])\n",
    "# calculate root mean squared error\n",
    "\n",
    "testScore = math.sqrt(mean_squared_error(testY[0], testPredict[:,0]))\n",
    "print('Test Score: %.2f RMSE' % (testScore))\n",
    "testScore = math.sqrt(mean_absolute_error(testY[0], testPredict[:,0]))\n",
    "print('Test Score: %.2f RMSE' % (testScore))"
   ]
  },
  {
   "cell_type": "code",
   "execution_count": 206,
   "id": "e9d696b8",
   "metadata": {},
   "outputs": [
    {
     "name": "stdout",
     "output_type": "stream",
     "text": [
      "416 104\n",
      "Epoch 1/10\n",
      "414/414 - 6s - loss: 0.0105 - accuracy: 0.1812 - 6s/epoch - 14ms/step\n",
      "Epoch 2/10\n",
      "414/414 - 1s - loss: 0.0098 - accuracy: 0.1812 - 1s/epoch - 3ms/step\n",
      "Epoch 3/10\n",
      "414/414 - 2s - loss: 0.0098 - accuracy: 0.1812 - 2s/epoch - 4ms/step\n",
      "Epoch 4/10\n",
      "414/414 - 1s - loss: 0.0099 - accuracy: 0.1812 - 1s/epoch - 3ms/step\n",
      "Epoch 5/10\n",
      "414/414 - 1s - loss: 0.0098 - accuracy: 0.1812 - 1s/epoch - 3ms/step\n",
      "Epoch 6/10\n",
      "414/414 - 2s - loss: 0.0098 - accuracy: 0.1812 - 2s/epoch - 4ms/step\n",
      "Epoch 7/10\n",
      "414/414 - 1s - loss: 0.0098 - accuracy: 0.1812 - 1s/epoch - 3ms/step\n",
      "Epoch 8/10\n",
      "414/414 - 2s - loss: 0.0098 - accuracy: 0.1812 - 2s/epoch - 4ms/step\n",
      "Epoch 9/10\n",
      "414/414 - 1s - loss: 0.0098 - accuracy: 0.1812 - 1s/epoch - 3ms/step\n",
      "Epoch 10/10\n",
      "414/414 - 1s - loss: 0.0098 - accuracy: 0.1812 - 1s/epoch - 3ms/step\n",
      "13/13 [==============================] - 1s 3ms/step\n",
      "4/4 [==============================] - 0s 4ms/step\n",
      "Test Score: 8.09 RMSE\n",
      "Test Score: 2.22 RMSE\n"
     ]
    }
   ],
   "source": [
    "# load the dataset\n",
    "dataset_train_4_1  = x_train_model_PCA_4_1\n",
    "dataset_train_y_4_1  = y_train_model_PCA_4_1\n",
    "\n",
    "\n",
    "dataset_test_4_1  = x_test_model_PCA_4_1\n",
    "dataset_test_y_4_1  =y_test_model_PCA_4_1\n",
    "\n",
    "# normalize the dataset\n",
    "scaler = MinMaxScaler(feature_range=(0, 1))\n",
    "dataset_train_4_1 = scaler.fit_transform(dataset_train_4_1 )\n",
    "dataset_train_y_4_1 = scaler.fit_transform(dataset_train_y_4_1)\n",
    "\n",
    "dataset_test_4_1 = scaler.fit_transform(dataset_test_4_1 )\n",
    "dataset_test_y_4_1 = scaler.fit_transform(dataset_test_y_4_1 )\n",
    "\n",
    "# split into train and test sets\n",
    "train_size_4_1 = len(dataset_train_4_1)\n",
    "test_size_4_1 = len(dataset_test_4_1)\n",
    "\n",
    "\n",
    "train_4_1 = dataset_train_4_1\n",
    "train_y_4_1 = dataset_train_y_4_1\n",
    "test_4_1 = dataset_test_4_1\n",
    "test_y_4_1 = dataset_test_y_4_1\n",
    "print(len(train_4_1), len(test_4_1))\n",
    "\n",
    "# reshape into X=t and Y=t+1\n",
    "look_back = 1\n",
    "trainX, trainY = create_dataset(train_4_1,train_y_4_1, look_back)\n",
    "testX, testY = create_dataset(test_4_1,test_y_4_1, look_back)\n",
    "\n",
    "# create and fit the LSTM network\n",
    "model_4_1 = Sequential()\n",
    "model_4_1.add(LSTM(4, input_shape=(1, look_back)))\n",
    "model_4_1.add(Dense(1))\n",
    "model_4_1.compile(loss='mean_squared_error', optimizer='adam', metrics=['accuracy'])\n",
    "model_4_1.fit(trainX, trainY, epochs=10, batch_size=1, verbose=2)\n",
    "\n",
    "# make predictions\n",
    "trainPredict = model_4_1.predict(trainX)\n",
    "testPredict = model_4_1.predict(testX)\n",
    "# invert predictions\n",
    "trainPredict = scaler.inverse_transform(trainPredict)\n",
    "trainY = scaler.inverse_transform([trainY])\n",
    "testPredict = scaler.inverse_transform(testPredict)\n",
    "testY = scaler.inverse_transform([testY])\n",
    "# calculate root mean squared error\n",
    "\n",
    "testScore = math.sqrt(mean_squared_error(testY[0], testPredict[:,0]))\n",
    "print('Test Score: %.2f RMSE' % (testScore))\n",
    "testScore = math.sqrt(mean_absolute_error(testY[0], testPredict[:,0]))\n",
    "print('Test Score: %.2f RMSE' % (testScore))"
   ]
  },
  {
   "cell_type": "code",
   "execution_count": null,
   "id": "a18db271",
   "metadata": {},
   "outputs": [],
   "source": []
  }
 ],
 "metadata": {
  "kernelspec": {
   "display_name": "Python 3",
   "language": "python",
   "name": "python3"
  },
  "language_info": {
   "codemirror_mode": {
    "name": "ipython",
    "version": 3
   },
   "file_extension": ".py",
   "mimetype": "text/x-python",
   "name": "python",
   "nbconvert_exporter": "python",
   "pygments_lexer": "ipython3",
   "version": "3.8.8"
  }
 },
 "nbformat": 4,
 "nbformat_minor": 5
}
