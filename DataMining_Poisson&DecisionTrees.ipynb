{
 "cells": [
  {
   "cell_type": "code",
   "execution_count": 1,
   "id": "43e81533",
   "metadata": {},
   "outputs": [
    {
     "name": "stdout",
     "output_type": "stream",
     "text": [
      "Requirement already satisfied: imbalanced-learn in c:\\users\\pasit\\anaconda3\\lib\\site-packages (0.9.1)\n",
      "Requirement already satisfied: scikit-learn>=1.1.0 in c:\\users\\pasit\\anaconda3\\lib\\site-packages (from imbalanced-learn) (1.1.0)\n",
      "Requirement already satisfied: threadpoolctl>=2.0.0 in c:\\users\\pasit\\anaconda3\\lib\\site-packages (from imbalanced-learn) (2.1.0)\n",
      "Requirement already satisfied: joblib>=1.0.0 in c:\\users\\pasit\\anaconda3\\lib\\site-packages (from imbalanced-learn) (1.0.1)\n",
      "Requirement already satisfied: scipy>=1.3.2 in c:\\users\\pasit\\anaconda3\\lib\\site-packages (from imbalanced-learn) (1.6.2)\n",
      "Requirement already satisfied: numpy>=1.17.3 in c:\\users\\pasit\\anaconda3\\lib\\site-packages (from imbalanced-learn) (1.20.1)\n",
      "Note: you may need to restart the kernel to use updated packages.\n"
     ]
    }
   ],
   "source": [
    "pip install imbalanced-learn"
   ]
  },
  {
   "cell_type": "code",
   "execution_count": 2,
   "id": "1b2e3950",
   "metadata": {},
   "outputs": [],
   "source": [
    "import numpy as np\n",
    "import matplotlib.pyplot as plt\n",
    "import pandas as pd\n",
    "import scipy.io as scp\n",
    "import math\n",
    "import statistics\n",
    "import seaborn as sns\n",
    "import sklearn\n",
    "\n",
    "from matplotlib.patches import Polygon\n",
    "from scipy.stats import anderson\n",
    "from scipy.stats import shapiro\n",
    "from scipy import stats\n",
    "from statistics import stdev\n",
    "from numpy.random import randn\n",
    "from numpy.random import seed\n",
    "from scipy.stats import spearmanr\n",
    "from scipy.stats import pearsonr\n",
    "\n",
    "#from sklearn import linear_model\n",
    "from sklearn import linear_model\n",
    "from sklearn.tree import DecisionTreeRegressor\n",
    "from sklearn.metrics import mean_squared_error, r2_score\n",
    "\n",
    "\n",
    "import numpy as np\n",
    "from sklearn.decomposition import PCA\n",
    "from sklearn.preprocessing import StandardScaler\n",
    "from imblearn.over_sampling import SMOTE"
   ]
  },
  {
   "cell_type": "code",
   "execution_count": 5,
   "id": "1578d308",
   "metadata": {},
   "outputs": [],
   "source": [
    "#Train Sets\n",
    "datainput = pd.read_excel(\"dengue_features_train.xlsx\")\n",
    "dataoutput = pd.read_excel(\"dengue_labels_train.xlsx\")"
   ]
  },
  {
   "cell_type": "code",
   "execution_count": 6,
   "id": "934a0301",
   "metadata": {},
   "outputs": [
    {
     "data": {
      "text/html": [
       "<div>\n",
       "<style scoped>\n",
       "    .dataframe tbody tr th:only-of-type {\n",
       "        vertical-align: middle;\n",
       "    }\n",
       "\n",
       "    .dataframe tbody tr th {\n",
       "        vertical-align: top;\n",
       "    }\n",
       "\n",
       "    .dataframe thead th {\n",
       "        text-align: right;\n",
       "    }\n",
       "</style>\n",
       "<table border=\"1\" class=\"dataframe\">\n",
       "  <thead>\n",
       "    <tr style=\"text-align: right;\">\n",
       "      <th></th>\n",
       "      <th>city</th>\n",
       "      <th>year</th>\n",
       "      <th>weekofyear</th>\n",
       "      <th>week_start_date</th>\n",
       "      <th>ndvi_ne</th>\n",
       "      <th>ndvi_nw</th>\n",
       "      <th>ndvi_se</th>\n",
       "      <th>ndvi_sw</th>\n",
       "      <th>precipitation_amt_mm</th>\n",
       "      <th>reanalysis_air_temp_k</th>\n",
       "      <th>...</th>\n",
       "      <th>reanalysis_precip_amt_kg_per_m2</th>\n",
       "      <th>reanalysis_relative_humidity_percent</th>\n",
       "      <th>reanalysis_sat_precip_amt_mm</th>\n",
       "      <th>reanalysis_specific_humidity_g_per_kg</th>\n",
       "      <th>reanalysis_tdtr_k</th>\n",
       "      <th>station_avg_temp_c</th>\n",
       "      <th>station_diur_temp_rng_c</th>\n",
       "      <th>station_max_temp_c</th>\n",
       "      <th>station_min_temp_c</th>\n",
       "      <th>station_precip_mm</th>\n",
       "    </tr>\n",
       "  </thead>\n",
       "  <tbody>\n",
       "    <tr>\n",
       "      <th>0</th>\n",
       "      <td>sj</td>\n",
       "      <td>1990</td>\n",
       "      <td>18</td>\n",
       "      <td>1990-04-30</td>\n",
       "      <td>0.122600</td>\n",
       "      <td>0.103725</td>\n",
       "      <td>0.198483</td>\n",
       "      <td>0.177617</td>\n",
       "      <td>12.42</td>\n",
       "      <td>297.572857</td>\n",
       "      <td>...</td>\n",
       "      <td>32.00</td>\n",
       "      <td>73.365714</td>\n",
       "      <td>12.42</td>\n",
       "      <td>14.012857</td>\n",
       "      <td>2.628571</td>\n",
       "      <td>25.442857</td>\n",
       "      <td>6.900000</td>\n",
       "      <td>29.4</td>\n",
       "      <td>20.0</td>\n",
       "      <td>16.0</td>\n",
       "    </tr>\n",
       "    <tr>\n",
       "      <th>1</th>\n",
       "      <td>sj</td>\n",
       "      <td>1990</td>\n",
       "      <td>19</td>\n",
       "      <td>1990-05-07</td>\n",
       "      <td>0.169900</td>\n",
       "      <td>0.142175</td>\n",
       "      <td>0.162357</td>\n",
       "      <td>0.155486</td>\n",
       "      <td>22.82</td>\n",
       "      <td>298.211429</td>\n",
       "      <td>...</td>\n",
       "      <td>17.94</td>\n",
       "      <td>77.368571</td>\n",
       "      <td>22.82</td>\n",
       "      <td>15.372857</td>\n",
       "      <td>2.371429</td>\n",
       "      <td>26.714286</td>\n",
       "      <td>6.371429</td>\n",
       "      <td>31.7</td>\n",
       "      <td>22.2</td>\n",
       "      <td>8.6</td>\n",
       "    </tr>\n",
       "    <tr>\n",
       "      <th>2</th>\n",
       "      <td>sj</td>\n",
       "      <td>1990</td>\n",
       "      <td>20</td>\n",
       "      <td>1990-05-14</td>\n",
       "      <td>0.032250</td>\n",
       "      <td>0.172967</td>\n",
       "      <td>0.157200</td>\n",
       "      <td>0.170843</td>\n",
       "      <td>34.54</td>\n",
       "      <td>298.781429</td>\n",
       "      <td>...</td>\n",
       "      <td>26.10</td>\n",
       "      <td>82.052857</td>\n",
       "      <td>34.54</td>\n",
       "      <td>16.848571</td>\n",
       "      <td>2.300000</td>\n",
       "      <td>26.714286</td>\n",
       "      <td>6.485714</td>\n",
       "      <td>32.2</td>\n",
       "      <td>22.8</td>\n",
       "      <td>41.4</td>\n",
       "    </tr>\n",
       "    <tr>\n",
       "      <th>3</th>\n",
       "      <td>sj</td>\n",
       "      <td>1990</td>\n",
       "      <td>21</td>\n",
       "      <td>1990-05-21</td>\n",
       "      <td>0.128633</td>\n",
       "      <td>0.245067</td>\n",
       "      <td>0.227557</td>\n",
       "      <td>0.235886</td>\n",
       "      <td>15.36</td>\n",
       "      <td>298.987143</td>\n",
       "      <td>...</td>\n",
       "      <td>13.90</td>\n",
       "      <td>80.337143</td>\n",
       "      <td>15.36</td>\n",
       "      <td>16.672857</td>\n",
       "      <td>2.428571</td>\n",
       "      <td>27.471429</td>\n",
       "      <td>6.771429</td>\n",
       "      <td>33.3</td>\n",
       "      <td>23.3</td>\n",
       "      <td>4.0</td>\n",
       "    </tr>\n",
       "    <tr>\n",
       "      <th>4</th>\n",
       "      <td>sj</td>\n",
       "      <td>1990</td>\n",
       "      <td>22</td>\n",
       "      <td>1990-05-28</td>\n",
       "      <td>0.196200</td>\n",
       "      <td>0.262200</td>\n",
       "      <td>0.251200</td>\n",
       "      <td>0.247340</td>\n",
       "      <td>7.52</td>\n",
       "      <td>299.518571</td>\n",
       "      <td>...</td>\n",
       "      <td>12.20</td>\n",
       "      <td>80.460000</td>\n",
       "      <td>7.52</td>\n",
       "      <td>17.210000</td>\n",
       "      <td>3.014286</td>\n",
       "      <td>28.942857</td>\n",
       "      <td>9.371429</td>\n",
       "      <td>35.0</td>\n",
       "      <td>23.9</td>\n",
       "      <td>5.8</td>\n",
       "    </tr>\n",
       "    <tr>\n",
       "      <th>...</th>\n",
       "      <td>...</td>\n",
       "      <td>...</td>\n",
       "      <td>...</td>\n",
       "      <td>...</td>\n",
       "      <td>...</td>\n",
       "      <td>...</td>\n",
       "      <td>...</td>\n",
       "      <td>...</td>\n",
       "      <td>...</td>\n",
       "      <td>...</td>\n",
       "      <td>...</td>\n",
       "      <td>...</td>\n",
       "      <td>...</td>\n",
       "      <td>...</td>\n",
       "      <td>...</td>\n",
       "      <td>...</td>\n",
       "      <td>...</td>\n",
       "      <td>...</td>\n",
       "      <td>...</td>\n",
       "      <td>...</td>\n",
       "      <td>...</td>\n",
       "    </tr>\n",
       "    <tr>\n",
       "      <th>1451</th>\n",
       "      <td>iq</td>\n",
       "      <td>2010</td>\n",
       "      <td>21</td>\n",
       "      <td>2010-05-28</td>\n",
       "      <td>0.342750</td>\n",
       "      <td>0.318900</td>\n",
       "      <td>0.256343</td>\n",
       "      <td>0.292514</td>\n",
       "      <td>55.30</td>\n",
       "      <td>299.334286</td>\n",
       "      <td>...</td>\n",
       "      <td>45.00</td>\n",
       "      <td>88.765714</td>\n",
       "      <td>55.30</td>\n",
       "      <td>18.485714</td>\n",
       "      <td>9.800000</td>\n",
       "      <td>28.633333</td>\n",
       "      <td>11.933333</td>\n",
       "      <td>35.4</td>\n",
       "      <td>22.4</td>\n",
       "      <td>27.0</td>\n",
       "    </tr>\n",
       "    <tr>\n",
       "      <th>1452</th>\n",
       "      <td>iq</td>\n",
       "      <td>2010</td>\n",
       "      <td>22</td>\n",
       "      <td>2010-06-04</td>\n",
       "      <td>0.160157</td>\n",
       "      <td>0.160371</td>\n",
       "      <td>0.136043</td>\n",
       "      <td>0.225657</td>\n",
       "      <td>86.47</td>\n",
       "      <td>298.330000</td>\n",
       "      <td>...</td>\n",
       "      <td>207.10</td>\n",
       "      <td>91.600000</td>\n",
       "      <td>86.47</td>\n",
       "      <td>18.070000</td>\n",
       "      <td>7.471429</td>\n",
       "      <td>27.433333</td>\n",
       "      <td>10.500000</td>\n",
       "      <td>34.7</td>\n",
       "      <td>21.7</td>\n",
       "      <td>36.6</td>\n",
       "    </tr>\n",
       "    <tr>\n",
       "      <th>1453</th>\n",
       "      <td>iq</td>\n",
       "      <td>2010</td>\n",
       "      <td>23</td>\n",
       "      <td>2010-06-11</td>\n",
       "      <td>0.247057</td>\n",
       "      <td>0.146057</td>\n",
       "      <td>0.250357</td>\n",
       "      <td>0.233714</td>\n",
       "      <td>58.94</td>\n",
       "      <td>296.598571</td>\n",
       "      <td>...</td>\n",
       "      <td>50.60</td>\n",
       "      <td>94.280000</td>\n",
       "      <td>58.94</td>\n",
       "      <td>17.008571</td>\n",
       "      <td>7.500000</td>\n",
       "      <td>24.400000</td>\n",
       "      <td>6.900000</td>\n",
       "      <td>32.2</td>\n",
       "      <td>19.2</td>\n",
       "      <td>7.4</td>\n",
       "    </tr>\n",
       "    <tr>\n",
       "      <th>1454</th>\n",
       "      <td>iq</td>\n",
       "      <td>2010</td>\n",
       "      <td>24</td>\n",
       "      <td>2010-06-18</td>\n",
       "      <td>0.333914</td>\n",
       "      <td>0.245771</td>\n",
       "      <td>0.278886</td>\n",
       "      <td>0.325486</td>\n",
       "      <td>59.67</td>\n",
       "      <td>296.345714</td>\n",
       "      <td>...</td>\n",
       "      <td>62.33</td>\n",
       "      <td>94.660000</td>\n",
       "      <td>59.67</td>\n",
       "      <td>16.815714</td>\n",
       "      <td>7.871429</td>\n",
       "      <td>25.433333</td>\n",
       "      <td>8.733333</td>\n",
       "      <td>31.2</td>\n",
       "      <td>21.0</td>\n",
       "      <td>16.0</td>\n",
       "    </tr>\n",
       "    <tr>\n",
       "      <th>1455</th>\n",
       "      <td>iq</td>\n",
       "      <td>2010</td>\n",
       "      <td>25</td>\n",
       "      <td>2010-06-25</td>\n",
       "      <td>0.298186</td>\n",
       "      <td>0.232971</td>\n",
       "      <td>0.274214</td>\n",
       "      <td>0.315757</td>\n",
       "      <td>63.22</td>\n",
       "      <td>298.097143</td>\n",
       "      <td>...</td>\n",
       "      <td>36.90</td>\n",
       "      <td>89.082857</td>\n",
       "      <td>63.22</td>\n",
       "      <td>17.355714</td>\n",
       "      <td>11.014286</td>\n",
       "      <td>27.475000</td>\n",
       "      <td>9.900000</td>\n",
       "      <td>33.7</td>\n",
       "      <td>22.2</td>\n",
       "      <td>20.4</td>\n",
       "    </tr>\n",
       "  </tbody>\n",
       "</table>\n",
       "<p>1456 rows × 24 columns</p>\n",
       "</div>"
      ],
      "text/plain": [
       "     city  year  weekofyear week_start_date   ndvi_ne   ndvi_nw   ndvi_se  \\\n",
       "0      sj  1990          18      1990-04-30  0.122600  0.103725  0.198483   \n",
       "1      sj  1990          19      1990-05-07  0.169900  0.142175  0.162357   \n",
       "2      sj  1990          20      1990-05-14  0.032250  0.172967  0.157200   \n",
       "3      sj  1990          21      1990-05-21  0.128633  0.245067  0.227557   \n",
       "4      sj  1990          22      1990-05-28  0.196200  0.262200  0.251200   \n",
       "...   ...   ...         ...             ...       ...       ...       ...   \n",
       "1451   iq  2010          21      2010-05-28  0.342750  0.318900  0.256343   \n",
       "1452   iq  2010          22      2010-06-04  0.160157  0.160371  0.136043   \n",
       "1453   iq  2010          23      2010-06-11  0.247057  0.146057  0.250357   \n",
       "1454   iq  2010          24      2010-06-18  0.333914  0.245771  0.278886   \n",
       "1455   iq  2010          25      2010-06-25  0.298186  0.232971  0.274214   \n",
       "\n",
       "       ndvi_sw  precipitation_amt_mm  reanalysis_air_temp_k  ...  \\\n",
       "0     0.177617                 12.42             297.572857  ...   \n",
       "1     0.155486                 22.82             298.211429  ...   \n",
       "2     0.170843                 34.54             298.781429  ...   \n",
       "3     0.235886                 15.36             298.987143  ...   \n",
       "4     0.247340                  7.52             299.518571  ...   \n",
       "...        ...                   ...                    ...  ...   \n",
       "1451  0.292514                 55.30             299.334286  ...   \n",
       "1452  0.225657                 86.47             298.330000  ...   \n",
       "1453  0.233714                 58.94             296.598571  ...   \n",
       "1454  0.325486                 59.67             296.345714  ...   \n",
       "1455  0.315757                 63.22             298.097143  ...   \n",
       "\n",
       "      reanalysis_precip_amt_kg_per_m2  reanalysis_relative_humidity_percent  \\\n",
       "0                               32.00                             73.365714   \n",
       "1                               17.94                             77.368571   \n",
       "2                               26.10                             82.052857   \n",
       "3                               13.90                             80.337143   \n",
       "4                               12.20                             80.460000   \n",
       "...                               ...                                   ...   \n",
       "1451                            45.00                             88.765714   \n",
       "1452                           207.10                             91.600000   \n",
       "1453                            50.60                             94.280000   \n",
       "1454                            62.33                             94.660000   \n",
       "1455                            36.90                             89.082857   \n",
       "\n",
       "      reanalysis_sat_precip_amt_mm  reanalysis_specific_humidity_g_per_kg  \\\n",
       "0                            12.42                              14.012857   \n",
       "1                            22.82                              15.372857   \n",
       "2                            34.54                              16.848571   \n",
       "3                            15.36                              16.672857   \n",
       "4                             7.52                              17.210000   \n",
       "...                            ...                                    ...   \n",
       "1451                         55.30                              18.485714   \n",
       "1452                         86.47                              18.070000   \n",
       "1453                         58.94                              17.008571   \n",
       "1454                         59.67                              16.815714   \n",
       "1455                         63.22                              17.355714   \n",
       "\n",
       "      reanalysis_tdtr_k  station_avg_temp_c  station_diur_temp_rng_c  \\\n",
       "0              2.628571           25.442857                 6.900000   \n",
       "1              2.371429           26.714286                 6.371429   \n",
       "2              2.300000           26.714286                 6.485714   \n",
       "3              2.428571           27.471429                 6.771429   \n",
       "4              3.014286           28.942857                 9.371429   \n",
       "...                 ...                 ...                      ...   \n",
       "1451           9.800000           28.633333                11.933333   \n",
       "1452           7.471429           27.433333                10.500000   \n",
       "1453           7.500000           24.400000                 6.900000   \n",
       "1454           7.871429           25.433333                 8.733333   \n",
       "1455          11.014286           27.475000                 9.900000   \n",
       "\n",
       "      station_max_temp_c  station_min_temp_c  station_precip_mm  \n",
       "0                   29.4                20.0               16.0  \n",
       "1                   31.7                22.2                8.6  \n",
       "2                   32.2                22.8               41.4  \n",
       "3                   33.3                23.3                4.0  \n",
       "4                   35.0                23.9                5.8  \n",
       "...                  ...                 ...                ...  \n",
       "1451                35.4                22.4               27.0  \n",
       "1452                34.7                21.7               36.6  \n",
       "1453                32.2                19.2                7.4  \n",
       "1454                31.2                21.0               16.0  \n",
       "1455                33.7                22.2               20.4  \n",
       "\n",
       "[1456 rows x 24 columns]"
      ]
     },
     "execution_count": 6,
     "metadata": {},
     "output_type": "execute_result"
    }
   ],
   "source": [
    "datainput"
   ]
  },
  {
   "cell_type": "code",
   "execution_count": 7,
   "id": "a8c7e2b1",
   "metadata": {},
   "outputs": [
    {
     "data": {
      "text/html": [
       "<div>\n",
       "<style scoped>\n",
       "    .dataframe tbody tr th:only-of-type {\n",
       "        vertical-align: middle;\n",
       "    }\n",
       "\n",
       "    .dataframe tbody tr th {\n",
       "        vertical-align: top;\n",
       "    }\n",
       "\n",
       "    .dataframe thead th {\n",
       "        text-align: right;\n",
       "    }\n",
       "</style>\n",
       "<table border=\"1\" class=\"dataframe\">\n",
       "  <thead>\n",
       "    <tr style=\"text-align: right;\">\n",
       "      <th></th>\n",
       "      <th>city</th>\n",
       "      <th>year</th>\n",
       "      <th>weekofyear</th>\n",
       "      <th>total_cases</th>\n",
       "    </tr>\n",
       "  </thead>\n",
       "  <tbody>\n",
       "    <tr>\n",
       "      <th>0</th>\n",
       "      <td>sj</td>\n",
       "      <td>1990</td>\n",
       "      <td>18</td>\n",
       "      <td>4</td>\n",
       "    </tr>\n",
       "    <tr>\n",
       "      <th>1</th>\n",
       "      <td>sj</td>\n",
       "      <td>1990</td>\n",
       "      <td>19</td>\n",
       "      <td>5</td>\n",
       "    </tr>\n",
       "    <tr>\n",
       "      <th>2</th>\n",
       "      <td>sj</td>\n",
       "      <td>1990</td>\n",
       "      <td>20</td>\n",
       "      <td>4</td>\n",
       "    </tr>\n",
       "    <tr>\n",
       "      <th>3</th>\n",
       "      <td>sj</td>\n",
       "      <td>1990</td>\n",
       "      <td>21</td>\n",
       "      <td>3</td>\n",
       "    </tr>\n",
       "    <tr>\n",
       "      <th>4</th>\n",
       "      <td>sj</td>\n",
       "      <td>1990</td>\n",
       "      <td>22</td>\n",
       "      <td>6</td>\n",
       "    </tr>\n",
       "    <tr>\n",
       "      <th>...</th>\n",
       "      <td>...</td>\n",
       "      <td>...</td>\n",
       "      <td>...</td>\n",
       "      <td>...</td>\n",
       "    </tr>\n",
       "    <tr>\n",
       "      <th>1451</th>\n",
       "      <td>iq</td>\n",
       "      <td>2010</td>\n",
       "      <td>21</td>\n",
       "      <td>5</td>\n",
       "    </tr>\n",
       "    <tr>\n",
       "      <th>1452</th>\n",
       "      <td>iq</td>\n",
       "      <td>2010</td>\n",
       "      <td>22</td>\n",
       "      <td>8</td>\n",
       "    </tr>\n",
       "    <tr>\n",
       "      <th>1453</th>\n",
       "      <td>iq</td>\n",
       "      <td>2010</td>\n",
       "      <td>23</td>\n",
       "      <td>1</td>\n",
       "    </tr>\n",
       "    <tr>\n",
       "      <th>1454</th>\n",
       "      <td>iq</td>\n",
       "      <td>2010</td>\n",
       "      <td>24</td>\n",
       "      <td>1</td>\n",
       "    </tr>\n",
       "    <tr>\n",
       "      <th>1455</th>\n",
       "      <td>iq</td>\n",
       "      <td>2010</td>\n",
       "      <td>25</td>\n",
       "      <td>4</td>\n",
       "    </tr>\n",
       "  </tbody>\n",
       "</table>\n",
       "<p>1456 rows × 4 columns</p>\n",
       "</div>"
      ],
      "text/plain": [
       "     city  year  weekofyear  total_cases\n",
       "0      sj  1990          18            4\n",
       "1      sj  1990          19            5\n",
       "2      sj  1990          20            4\n",
       "3      sj  1990          21            3\n",
       "4      sj  1990          22            6\n",
       "...   ...   ...         ...          ...\n",
       "1451   iq  2010          21            5\n",
       "1452   iq  2010          22            8\n",
       "1453   iq  2010          23            1\n",
       "1454   iq  2010          24            1\n",
       "1455   iq  2010          25            4\n",
       "\n",
       "[1456 rows x 4 columns]"
      ]
     },
     "execution_count": 7,
     "metadata": {},
     "output_type": "execute_result"
    }
   ],
   "source": [
    "dataoutput"
   ]
  },
  {
   "cell_type": "code",
   "execution_count": 8,
   "id": "5f3c0af6",
   "metadata": {},
   "outputs": [],
   "source": [
    "df1 = datainput.interpolate(); #not mix nvdi"
   ]
  },
  {
   "cell_type": "code",
   "execution_count": 9,
   "id": "20b62799",
   "metadata": {},
   "outputs": [],
   "source": [
    "df2 = df1.assign(ndvi_north = (df1[\"ndvi_ne\"]+df1[\"ndvi_nw\"])/2)\n",
    "df_mix_ndvi = df2.assign(ndvi_south = (df1[\"ndvi_se\"]+df1[\"ndvi_sw\"])/2)  #mix ndvi\n",
    "df_mix_ndvi_1 = df_mix_ndvi.replace('sj', 0) \n",
    "df_mix_ndvi_2 = df_mix_ndvi_1.replace('iq', 1)\n",
    "df_mix_ndvi_3 = df_mix_ndvi_2.drop([\"ndvi_ne\", \"ndvi_nw\", \"ndvi_se\", \"ndvi_sw\",\"reanalysis_air_temp_k\",\"reanalysis_avg_temp_k\",\"reanalysis_dew_point_temp_k\",\"reanalysis_max_air_temp_k\", \"reanalysis_min_air_temp_k\",\"week_start_date\",\"reanalysis_sat_precip_amt_mm\",\"reanalysis_precip_amt_kg_per_m2\",\"reanalysis_relative_humidity_percent\", \"reanalysis_specific_humidity_g_per_kg\", \"reanalysis_tdtr_k\"], axis=1)\n",
    "df_mix_ndvi_4 = df_mix_ndvi_3\n",
    "df_mix_ndvi_4 = df_mix_ndvi_4.assign(total_cases = dataoutput[\"total_cases\"])\n",
    "df_mix_ndvi_exclude_forcast_value_final = df_mix_ndvi_4.sample(frac=1).reset_index(drop=True)"
   ]
  },
  {
   "cell_type": "code",
   "execution_count": 10,
   "id": "00813ac2",
   "metadata": {},
   "outputs": [],
   "source": [
    "df2 = df1.assign(ndvi_north = (df1[\"ndvi_ne\"]+df1[\"ndvi_nw\"])/2)\n",
    "df_mix_ndvi = df2.assign(ndvi_south = (df1[\"ndvi_se\"]+df1[\"ndvi_sw\"])/2)  #mix ndvi\n",
    "df_mix_ndvi_1 = df_mix_ndvi.replace('sj', 0) \n",
    "df_mix_ndvi_2 = df_mix_ndvi_1.replace('iq', 1)\n",
    "df_mix_ndvi_3 = df_mix_ndvi_2.drop([\"ndvi_ne\", \"ndvi_nw\", \"ndvi_se\", \"ndvi_sw\",\"week_start_date\"], axis=1)\n",
    "df_mix_ndvi_4_include_forcast_value = df_mix_ndvi_3\n",
    "df_mix_ndvi_4_include_forcast_value = df_mix_ndvi_4_include_forcast_value.assign(total_cases = dataoutput[\"total_cases\"])\n",
    "df_mix_ndvi_include_forcast_value_final = df_mix_ndvi_4_include_forcast_value.sample(frac=1).reset_index(drop=True)"
   ]
  },
  {
   "cell_type": "code",
   "execution_count": 11,
   "id": "5dd42943",
   "metadata": {},
   "outputs": [],
   "source": [
    "df_normal_data_include_forcast_value_1 = df1.replace('sj', 0) \n",
    "df_normal_data_include_forcast_value_2 = df_normal_data_include_forcast_value_1.replace('iq', 1)\n",
    "df_normal_data_include_forcast_value_2 = df_normal_data_include_forcast_value_2.drop([\"week_start_date\"], axis=1)\n",
    "df_normal_data_include_forcast_value_3 = df_normal_data_include_forcast_value_2\n",
    "df_normal_data_include_forcast_value_3 = df_normal_data_include_forcast_value_3.assign(total_cases = dataoutput[\"total_cases\"])\n",
    "df_normal_data_include_forcast_value_final = df_normal_data_include_forcast_value_3.sample(frac=1).reset_index(drop=True)"
   ]
  },
  {
   "cell_type": "code",
   "execution_count": 12,
   "id": "85f34033",
   "metadata": {},
   "outputs": [],
   "source": [
    "df_normal_data_1 = df1.replace('sj', 0) \n",
    "df_normal_data_2 = df_normal_data_1.replace('iq', 1)\n",
    "df_normal_data_3 = df_normal_data_2.drop([\"reanalysis_air_temp_k\",\"reanalysis_avg_temp_k\",\"reanalysis_dew_point_temp_k\",\"reanalysis_max_air_temp_k\", \"reanalysis_min_air_temp_k\",\"week_start_date\",\"reanalysis_sat_precip_amt_mm\",\"reanalysis_precip_amt_kg_per_m2\",\"reanalysis_relative_humidity_percent\", \"reanalysis_specific_humidity_g_per_kg\", \"reanalysis_tdtr_k\"], axis=1)\n",
    "df_normal_data_4 = df_normal_data_3\n",
    "df_normal_data_4 = df_normal_data_4.assign(total_cases = dataoutput[\"total_cases\"])\n",
    "df_normal_data_exclude_forcast_value_final = df_normal_data_4.sample(frac=1).reset_index(drop=True)"
   ]
  },
  {
   "cell_type": "code",
   "execution_count": null,
   "id": "b0da7a83",
   "metadata": {},
   "outputs": [],
   "source": []
  },
  {
   "cell_type": "code",
   "execution_count": 13,
   "id": "6cc28ed4",
   "metadata": {},
   "outputs": [],
   "source": [
    "features_1 = ['city','year','weekofyear','precipitation_amt_mm','station_avg_temp_c','station_diur_temp_rng_c','station_max_temp_c','station_min_temp_c','station_precip_mm','ndvi_north','ndvi_south']\n",
    "# Separating out the features\n",
    "x_1 = df_mix_ndvi_exclude_forcast_value_final.loc[:, features_1].values\n",
    "# Separating out the target\n",
    "y_1 = df_mix_ndvi_exclude_forcast_value_final.loc[:,['total_cases']].values\n",
    "# Standardizing the features\n",
    "x_1 = StandardScaler().fit_transform(x_1)\n",
    "\n",
    "\n",
    "#normallized data"
   ]
  },
  {
   "cell_type": "code",
   "execution_count": 14,
   "id": "c0612857",
   "metadata": {},
   "outputs": [],
   "source": [
    "features_2 = ['city','year','weekofyear','precipitation_amt_mm','station_avg_temp_c','station_diur_temp_rng_c','station_max_temp_c','station_min_temp_c','station_precip_mm','ndvi_north','ndvi_south',\"reanalysis_air_temp_k\",\"reanalysis_avg_temp_k\",\"reanalysis_dew_point_temp_k\",\"reanalysis_max_air_temp_k\", \"reanalysis_min_air_temp_k\",\"reanalysis_sat_precip_amt_mm\",\"reanalysis_precip_amt_kg_per_m2\",\"reanalysis_relative_humidity_percent\", \"reanalysis_specific_humidity_g_per_kg\", \"reanalysis_tdtr_k\"]\n",
    "# Separating out the features\n",
    "x_2 = df_mix_ndvi_include_forcast_value_final.loc[:, features_2].values\n",
    "# Separating out the target\n",
    "y_2 = df_mix_ndvi_include_forcast_value_final.loc[:,['total_cases']].values\n",
    "# Standardizing the features\n",
    "x_2 = StandardScaler().fit_transform(x_2)\n",
    "\n",
    "\n",
    "#normallized data"
   ]
  },
  {
   "cell_type": "code",
   "execution_count": 15,
   "id": "1dbf3f1e",
   "metadata": {},
   "outputs": [],
   "source": [
    "features_3 = ['city','year','weekofyear','precipitation_amt_mm','station_avg_temp_c','station_diur_temp_rng_c','station_max_temp_c','station_min_temp_c','station_precip_mm','ndvi_ne','ndvi_nw','ndvi_se','ndvi_sw']\n",
    "# Separating out the features\n",
    "x_3 = df_normal_data_exclude_forcast_value_final.loc[:, features_3].values\n",
    "# Separating out the target\n",
    "y_3 = df_normal_data_exclude_forcast_value_final.loc[:,['total_cases']].values\n",
    "# Standardizing the features\n",
    "x_3 = StandardScaler().fit_transform(x_3)\n",
    "\n",
    "\n",
    "#normallized data"
   ]
  },
  {
   "cell_type": "code",
   "execution_count": 16,
   "id": "7cf08369",
   "metadata": {},
   "outputs": [],
   "source": [
    "features_4 = ['city','year','weekofyear','precipitation_amt_mm','station_avg_temp_c','station_diur_temp_rng_c','station_max_temp_c','station_min_temp_c','station_precip_mm','ndvi_ne','ndvi_nw','ndvi_se','ndvi_sw',\"reanalysis_air_temp_k\",\"reanalysis_avg_temp_k\",\"reanalysis_dew_point_temp_k\",\"reanalysis_max_air_temp_k\", \"reanalysis_min_air_temp_k\",\"reanalysis_sat_precip_amt_mm\",\"reanalysis_precip_amt_kg_per_m2\",\"reanalysis_relative_humidity_percent\", \"reanalysis_specific_humidity_g_per_kg\", \"reanalysis_tdtr_k\"]\n",
    "# Separating out the features\n",
    "x_4 = df_normal_data_include_forcast_value_final.loc[:, features_4].values\n",
    "# Separating out the target\n",
    "y_4 = df_normal_data_include_forcast_value_final.loc[:,['total_cases']].values\n",
    "# Standardizing the features\n",
    "x_4 = StandardScaler().fit_transform(x_4)\n",
    "\n",
    "\n",
    "\n",
    "#normallized data"
   ]
  },
  {
   "cell_type": "code",
   "execution_count": 17,
   "id": "ebca978a",
   "metadata": {},
   "outputs": [
    {
     "data": {
      "text/plain": [
       "Text(0, 0.5, 'cumulative explained variance')"
      ]
     },
     "execution_count": 17,
     "metadata": {},
     "output_type": "execute_result"
    },
    {
     "data": {
      "image/png": "[encoded data removed]",
      "text/plain": [
       "<Figure size 432x288 with 1 Axes>"
      ]
     },
     "metadata": {
      "needs_background": "light"
     },
     "output_type": "display_data"
    }
   ],
   "source": [
    "pca_1 = PCA().fit(x_1)\n",
    "plt.plot(np.cumsum(pca_1.explained_variance_ratio_))\n",
    "plt.xlabel('number of components')\n",
    "plt.ylabel('cumulative explained variance')"
   ]
  },
  {
   "cell_type": "code",
   "execution_count": 18,
   "id": "f906167f",
   "metadata": {},
   "outputs": [],
   "source": [
    "pca_1 = PCA(n_components=6)\n",
    "principalComponents_1 = pca_1.fit_transform(x_1)\n",
    "principalDf_1 = pd.DataFrame(data = principalComponents_1, columns = ['principal component 1', 'principal component 2', 'principal component 3', 'principal component 4', 'principal component 5', 'principal component 6'])"
   ]
  },
  {
   "cell_type": "code",
   "execution_count": 19,
   "id": "b4f85629",
   "metadata": {},
   "outputs": [
    {
     "data": {
      "text/plain": [
       "Text(0, 0.5, 'cumulative explained variance')"
      ]
     },
     "execution_count": 19,
     "metadata": {},
     "output_type": "execute_result"
    },
    {
     "data": {
      "image/png": "[encoded data removed]",
      "text/plain": [
       "<Figure size 432x288 with 1 Axes>"
      ]
     },
     "metadata": {
      "needs_background": "light"
     },
     "output_type": "display_data"
    }
   ],
   "source": [
    "pca_2 = PCA().fit(x_2)\n",
    "plt.plot(np.cumsum(pca_2.explained_variance_ratio_))\n",
    "plt.xlabel('number of components')\n",
    "plt.ylabel('cumulative explained variance')"
   ]
  },
  {
   "cell_type": "code",
   "execution_count": 20,
   "id": "d3ea84ca",
   "metadata": {},
   "outputs": [],
   "source": [
    "pca_2 = PCA(n_components=7)\n",
    "principalComponents_2 = pca_2.fit_transform(x_2)\n",
    "principalDf_2 = pd.DataFrame(data = principalComponents_2, columns = ['principal component 1', 'principal component 2', 'principal component 3', 'principal component 4', 'principal component 5', 'principal component 6', 'principal component 7'])"
   ]
  },
  {
   "cell_type": "code",
   "execution_count": 21,
   "id": "d489b739",
   "metadata": {},
   "outputs": [
    {
     "data": {
      "text/plain": [
       "Text(0, 0.5, 'cumulative explained variance')"
      ]
     },
     "execution_count": 21,
     "metadata": {},
     "output_type": "execute_result"
    },
    {
     "data": {
      "image/png": "[encoded data removed]",
      "text/plain": [
       "<Figure size 432x288 with 1 Axes>"
      ]
     },
     "metadata": {
      "needs_background": "light"
     },
     "output_type": "display_data"
    }
   ],
   "source": [
    "pca_3 = PCA().fit(x_3)\n",
    "plt.plot(np.cumsum(pca_3.explained_variance_ratio_))\n",
    "plt.xlabel('number of components')\n",
    "plt.ylabel('cumulative explained variance')"
   ]
  },
  {
   "cell_type": "code",
   "execution_count": 22,
   "id": "805d7811",
   "metadata": {},
   "outputs": [],
   "source": [
    "pca_3 = PCA(n_components=8)\n",
    "principalComponents_3 = pca_3.fit_transform(x_3)\n",
    "principalDf_3 = pd.DataFrame(data = principalComponents_3, columns = ['principal component 1', 'principal component 2', 'principal component 3', 'principal component 4', 'principal component 5', 'principal component 6', 'principal component 7', 'principal component 8'])"
   ]
  },
  {
   "cell_type": "code",
   "execution_count": 23,
   "id": "2c217231",
   "metadata": {},
   "outputs": [
    {
     "data": {
      "text/plain": [
       "Text(0, 0.5, 'cumulative explained variance')"
      ]
     },
     "execution_count": 23,
     "metadata": {},
     "output_type": "execute_result"
    },
    {
     "data": {
      "image/png": "[encoded data removed]",
      "text/plain": [
       "<Figure size 432x288 with 1 Axes>"
      ]
     },
     "metadata": {
      "needs_background": "light"
     },
     "output_type": "display_data"
    }
   ],
   "source": [
    "pca_4 = PCA().fit(x_4)\n",
    "plt.plot(np.cumsum(pca_4.explained_variance_ratio_))\n",
    "plt.xlabel('number of components')\n",
    "plt.ylabel('cumulative explained variance')"
   ]
  },
  {
   "cell_type": "code",
   "execution_count": 24,
   "id": "92a6ba5a",
   "metadata": {},
   "outputs": [],
   "source": [
    "pca_4 = PCA(n_components=10)\n",
    "principalComponents_4 = pca_4.fit_transform(x_4)\n",
    "principalDf_4 = pd.DataFrame(data = principalComponents_4, columns = ['principal component 1', 'principal component 2', 'principal component 3', 'principal component 4', 'principal component 5', 'principal component 6', 'principal component 7', 'principal component 8', 'principal component 9', 'principal component 10'])"
   ]
  },
  {
   "cell_type": "code",
   "execution_count": null,
   "id": "f0a819f2",
   "metadata": {},
   "outputs": [],
   "source": []
  },
  {
   "cell_type": "code",
   "execution_count": 25,
   "id": "34b9cba5",
   "metadata": {},
   "outputs": [
    {
     "data": {
      "text/plain": [
       "[<matplotlib.lines.Line2D at 0x1ba69e19070>]"
      ]
     },
     "execution_count": 25,
     "metadata": {},
     "output_type": "execute_result"
    },
    {
     "data": {
      "image/png": "[encoded data removed]",
      "text/plain": [
       "<Figure size 432x288 with 1 Axes>"
      ]
     },
     "metadata": {
      "needs_background": "light"
     },
     "output_type": "display_data"
    }
   ],
   "source": [
    "features_smote_1 = ['year','weekofyear','precipitation_amt_mm','station_avg_temp_c','station_diur_temp_rng_c','station_max_temp_c','station_min_temp_c','station_precip_mm','ndvi_north','ndvi_south', 'total_cases']\n",
    "# Separating out the features\n",
    "x_smote_1 = df_mix_ndvi_exclude_forcast_value_final.loc[:1164, features_smote_1].values\n",
    "y_smote_1 = df_mix_ndvi_exclude_forcast_value_final.loc[:1164,['city']].values\n",
    "sm_1 = SMOTE(random_state=42)\n",
    "x_sm_1, y_sm_1 = sm_1.fit_resample(x_smote_1,y_smote_1)\n",
    "temp_x_smote_1 = pd.DataFrame(data = x_sm_1, columns = ['year','weekofyear','precipitation_amt_mm','station_avg_temp_c','station_diur_temp_rng_c','station_max_temp_c','station_min_temp_c','station_precip_mm','ndvi_north','ndvi_south', 'total_cases'])\n",
    "temp_y_smote_1 = pd.DataFrame(data = y_sm_1, columns = ['city'])\n",
    "y_smote_1 = temp_x_smote_1['total_cases']\n",
    "temp_x_smote_1 = temp_x_smote_1.drop(['total_cases'], axis=1)\n",
    "x_smote_1 = temp_x_smote_1.assign(city = temp_y_smote_1['city']) \n",
    "\n",
    "\n",
    "features_smote_1 = ['city','year','weekofyear','precipitation_amt_mm','station_avg_temp_c','station_diur_temp_rng_c','station_max_temp_c','station_min_temp_c','station_precip_mm','ndvi_north','ndvi_south']\n",
    "# Separating out the features\n",
    "x_PCA_smote_1 = x_smote_1.loc[:, features_smote_1].values\n",
    "# Separating out the target\n",
    "\n",
    "#y_4 = df_normal_data_include_forcast_value_final.loc[:,['total_cases']].values\n",
    "y_PCA_smote_1 = y_smote_1.values\n",
    "# Standardizing the features\n",
    "x_PCA_smote_1 = StandardScaler().fit_transform(x_smote_1)\n",
    "\n",
    "pca_smote_1 = PCA().fit(x_PCA_smote_1)\n",
    "plt.plot(np.cumsum(pca_smote_1.explained_variance_ratio_))"
   ]
  },
  {
   "cell_type": "code",
   "execution_count": 26,
   "id": "1d2ddd1d",
   "metadata": {},
   "outputs": [],
   "source": [
    "pca_smote_final_1 = PCA(n_components=8)\n",
    "principalComponents_smote_1 = pca_smote_final_1.fit_transform(x_PCA_smote_1)\n",
    "principalDf_smote_1 = pd.DataFrame(data = principalComponents_smote_1, columns = ['principal component 1', 'principal component 2', 'principal component 3', 'principal component 4', 'principal component 5', 'principal component 6', 'principal component 7', 'principal component 8'])\n",
    "pca_smote_1 = PCA(n_components=8)\n",
    "principalComponents_smote_1 = pca_smote_1.fit_transform(x_PCA_smote_1)\n",
    "principalDf_smote_1 = pd.DataFrame(data = principalComponents_smote_1, columns = ['principal component 1', 'principal component 2', 'principal component 3', 'principal component 4', 'principal component 5', 'principal component 6', 'principal component 7', 'principal component 8'])"
   ]
  },
  {
   "cell_type": "code",
   "execution_count": null,
   "id": "ea42ef87",
   "metadata": {},
   "outputs": [],
   "source": []
  },
  {
   "cell_type": "code",
   "execution_count": 28,
   "id": "ac9c5a71",
   "metadata": {},
   "outputs": [
    {
     "data": {
      "text/plain": [
       "[<matplotlib.lines.Line2D at 0x1ba69fada00>]"
      ]
     },
     "execution_count": 28,
     "metadata": {},
     "output_type": "execute_result"
    },
    {
     "data": {
      "image/png": "[encoded data removed]",
      "text/plain": [
       "<Figure size 432x288 with 1 Axes>"
      ]
     },
     "metadata": {
      "needs_background": "light"
     },
     "output_type": "display_data"
    }
   ],
   "source": [
    "features_smote_2 = ['city','year','weekofyear','precipitation_amt_mm','station_avg_temp_c','station_diur_temp_rng_c','station_max_temp_c','station_min_temp_c','station_precip_mm','ndvi_north','ndvi_south',\"reanalysis_air_temp_k\",\"reanalysis_avg_temp_k\",\"reanalysis_dew_point_temp_k\",\"reanalysis_max_air_temp_k\", \"reanalysis_min_air_temp_k\",\"reanalysis_sat_precip_amt_mm\",\"reanalysis_precip_amt_kg_per_m2\",\"reanalysis_relative_humidity_percent\", \"reanalysis_specific_humidity_g_per_kg\", \"reanalysis_tdtr_k\", 'total_cases']\n",
    "# Separating out the features\n",
    "x_smote_2 = df_mix_ndvi_include_forcast_value_final.loc[:1164, features_smote_2].values\n",
    "y_smote_2 = df_mix_ndvi_include_forcast_value_final.loc[:1164,['city']].values\n",
    "sm_2 = SMOTE(random_state=42)\n",
    "x_sm_2, y_sm_2 = sm_2.fit_resample(x_smote_2,y_smote_2)\n",
    "temp_x_smote_2 = pd.DataFrame(data = x_sm_2, columns = ['city','year','weekofyear','precipitation_amt_mm','station_avg_temp_c','station_diur_temp_rng_c','station_max_temp_c','station_min_temp_c','station_precip_mm','ndvi_north','ndvi_south',\"reanalysis_air_temp_k\",\"reanalysis_avg_temp_k\",\"reanalysis_dew_point_temp_k\",\"reanalysis_max_air_temp_k\", \"reanalysis_min_air_temp_k\",\"reanalysis_sat_precip_amt_mm\",\"reanalysis_precip_amt_kg_per_m2\",\"reanalysis_relative_humidity_percent\", \"reanalysis_specific_humidity_g_per_kg\", \"reanalysis_tdtr_k\", 'total_cases'])\n",
    "temp_y_smote_2 = pd.DataFrame(data = y_sm_2, columns = ['city'])\n",
    "y_smote_2 = temp_x_smote_2['total_cases']\n",
    "temp_x_smote_2 = temp_x_smote_2.drop(['total_cases'], axis=1)\n",
    "x_smote_2 = temp_x_smote_2.assign(city = temp_y_smote_2['city']) \n",
    "\n",
    "\n",
    "features_smote_2 = ['city','year','weekofyear','precipitation_amt_mm','station_avg_temp_c','station_diur_temp_rng_c','station_max_temp_c','station_min_temp_c','station_precip_mm','ndvi_north','ndvi_south',\"reanalysis_air_temp_k\",\"reanalysis_avg_temp_k\",\"reanalysis_dew_point_temp_k\",\"reanalysis_max_air_temp_k\", \"reanalysis_min_air_temp_k\",\"reanalysis_sat_precip_amt_mm\",\"reanalysis_precip_amt_kg_per_m2\",\"reanalysis_relative_humidity_percent\", \"reanalysis_specific_humidity_g_per_kg\", \"reanalysis_tdtr_k\"]\n",
    "# Separating out the features\n",
    "x_PCA_smote_2 = x_smote_2.loc[:, features_smote_2].values\n",
    "# Separating out the target\n",
    "\n",
    "#y_4 = df_normal_data_include_forcast_value_final.loc[:,['total_cases']].values\n",
    "y_PCA_smote_2 = y_smote_2.values\n",
    "# Standardizing the features\n",
    "x_PCA_smote_2 = StandardScaler().fit_transform(x_smote_2)\n",
    "\n",
    "pca_smote_2 = PCA().fit(x_PCA_smote_2)\n",
    "plt.plot(np.cumsum(pca_smote_2.explained_variance_ratio_))"
   ]
  },
  {
   "cell_type": "code",
   "execution_count": 29,
   "id": "b591a94c",
   "metadata": {},
   "outputs": [],
   "source": [
    "pca_smote_final_2 = PCA(n_components=8)\n",
    "principalComponents_smote_2 = pca_smote_final_2.fit_transform(x_PCA_smote_2)\n",
    "principalDf_smote_2 = pd.DataFrame(data = principalComponents_smote_2, columns = ['principal component 1', 'principal component 2', 'principal component 3', 'principal component 4', 'principal component 5', 'principal component 6', 'principal component 7', 'principal component 8'])\n",
    "pca_smote_2 = PCA(n_components=8)\n",
    "principalComponents_smote_2 = pca_smote_2.fit_transform(x_PCA_smote_2)\n",
    "principalDf_smote_2 = pd.DataFrame(data = principalComponents_smote_2, columns = ['principal component 1', 'principal component 2', 'principal component 3', 'principal component 4', 'principal component 5', 'principal component 6', 'principal component 7', 'principal component 8'])"
   ]
  },
  {
   "cell_type": "code",
   "execution_count": null,
   "id": "9cdd607b",
   "metadata": {},
   "outputs": [],
   "source": []
  },
  {
   "cell_type": "code",
   "execution_count": 30,
   "id": "ff7f1d1a",
   "metadata": {},
   "outputs": [
    {
     "data": {
      "text/plain": [
       "[<matplotlib.lines.Line2D at 0x1ba6a00eb50>]"
      ]
     },
     "execution_count": 30,
     "metadata": {},
     "output_type": "execute_result"
    },
    {
     "data": {
      "image/png": "[encoded data removed]",
      "text/plain": [
       "<Figure size 432x288 with 1 Axes>"
      ]
     },
     "metadata": {
      "needs_background": "light"
     },
     "output_type": "display_data"
    }
   ],
   "source": [
    "features_smote_3 = ['city','year','weekofyear','precipitation_amt_mm','station_avg_temp_c','station_diur_temp_rng_c','station_max_temp_c','station_min_temp_c','station_precip_mm','ndvi_ne','ndvi_nw','ndvi_se','ndvi_sw', 'total_cases']\n",
    "# Separating out the features\n",
    "x_smote_3 = df_normal_data_exclude_forcast_value_final.loc[:1164, features_smote_3].values\n",
    "y_smote_3 = df_normal_data_exclude_forcast_value_final.loc[:1164,['city']].values\n",
    "sm_3 = SMOTE(random_state=42)\n",
    "x_sm_3, y_sm_3 = sm_3.fit_resample(x_smote_3,y_smote_3)\n",
    "temp_x_smote_3 = pd.DataFrame(data = x_sm_3, columns = ['city','year','weekofyear','precipitation_amt_mm','station_avg_temp_c','station_diur_temp_rng_c','station_max_temp_c','station_min_temp_c','station_precip_mm','ndvi_ne','ndvi_nw','ndvi_se','ndvi_sw', 'total_cases'])\n",
    "temp_y_smote_3 = pd.DataFrame(data = y_sm_3, columns = ['city'])\n",
    "y_smote_3 = temp_x_smote_3['total_cases']\n",
    "temp_x_smote_3 = temp_x_smote_3.drop(['total_cases'], axis=1)\n",
    "x_smote_3 = temp_x_smote_3.assign(city = temp_y_smote_3['city']) \n",
    "\n",
    "\n",
    "features_smote_3 = ['city','year','weekofyear','precipitation_amt_mm','station_avg_temp_c','station_diur_temp_rng_c','station_max_temp_c','station_min_temp_c','station_precip_mm','ndvi_ne','ndvi_nw','ndvi_se','ndvi_sw']\n",
    "# Separating out the features\n",
    "x_PCA_smote_3 = x_smote_3.loc[:, features_smote_3].values\n",
    "# Separating out the target\n",
    "\n",
    "#y_4 = df_normal_data_include_forcast_value_final.loc[:,['total_cases']].values\n",
    "y_PCA_smote_3 = y_smote_3.values\n",
    "# Standardizing the features\n",
    "x_PCA_smote_3 = StandardScaler().fit_transform(x_smote_3)\n",
    "\n",
    "pca_smote_3 = PCA().fit(x_PCA_smote_3)\n",
    "plt.plot(np.cumsum(pca_smote_3.explained_variance_ratio_))"
   ]
  },
  {
   "cell_type": "code",
   "execution_count": 31,
   "id": "6c1b52bf",
   "metadata": {},
   "outputs": [],
   "source": [
    "pca_smote_final_3 = PCA(n_components=8)\n",
    "principalComponents_smote_3 = pca_smote_final_3.fit_transform(x_PCA_smote_3)\n",
    "principalDf_smote_3 = pd.DataFrame(data = principalComponents_smote_3, columns = ['principal component 1', 'principal component 2', 'principal component 3', 'principal component 4', 'principal component 5', 'principal component 6', 'principal component 7', 'principal component 8'])\n",
    "pca_smote_3 = PCA(n_components=8)\n",
    "principalComponents_smote_3 = pca_smote_3.fit_transform(x_PCA_smote_3)\n",
    "principalDf_smote_3 = pd.DataFrame(data = principalComponents_smote_3, columns = ['principal component 1', 'principal component 2', 'principal component 3', 'principal component 4', 'principal component 5', 'principal component 6', 'principal component 7', 'principal component 8'])"
   ]
  },
  {
   "cell_type": "code",
   "execution_count": null,
   "id": "947a01f2",
   "metadata": {},
   "outputs": [],
   "source": []
  },
  {
   "cell_type": "code",
   "execution_count": 33,
   "id": "714dd387",
   "metadata": {},
   "outputs": [
    {
     "data": {
      "text/plain": [
       "[<matplotlib.lines.Line2D at 0x1ba6a0796a0>]"
      ]
     },
     "execution_count": 33,
     "metadata": {},
     "output_type": "execute_result"
    },
    {
     "data": {
      "image/png": "[encoded data removed]",
      "text/plain": [
       "<Figure size 432x288 with 1 Axes>"
      ]
     },
     "metadata": {
      "needs_background": "light"
     },
     "output_type": "display_data"
    }
   ],
   "source": [
    "features_smote_4 = ['city','year','weekofyear','precipitation_amt_mm','station_avg_temp_c','station_diur_temp_rng_c','station_max_temp_c','station_min_temp_c','station_precip_mm','ndvi_ne','ndvi_nw','ndvi_se','ndvi_sw',\"reanalysis_air_temp_k\",\"reanalysis_avg_temp_k\",\"reanalysis_dew_point_temp_k\",\"reanalysis_max_air_temp_k\", \"reanalysis_min_air_temp_k\",\"reanalysis_sat_precip_amt_mm\",\"reanalysis_precip_amt_kg_per_m2\",\"reanalysis_relative_humidity_percent\", \"reanalysis_specific_humidity_g_per_kg\", \"reanalysis_tdtr_k\", 'total_cases']\n",
    "# Separating out the features\n",
    "x_smote_4 = df_normal_data_include_forcast_value_final.loc[:1164, features_smote_4].values\n",
    "y_smote_4 = df_normal_data_include_forcast_value_final.loc[:1164,['city']].values\n",
    "sm_4 = SMOTE(random_state=42)\n",
    "x_sm_4, y_sm_4 = sm_4.fit_resample(x_smote_4,y_smote_4)\n",
    "temp_x_smote_4 = pd.DataFrame(data = x_sm_4, columns = ['city','year','weekofyear','precipitation_amt_mm','station_avg_temp_c','station_diur_temp_rng_c','station_max_temp_c','station_min_temp_c','station_precip_mm','ndvi_ne','ndvi_nw','ndvi_se','ndvi_sw',\"reanalysis_air_temp_k\",\"reanalysis_avg_temp_k\",\"reanalysis_dew_point_temp_k\",\"reanalysis_max_air_temp_k\", \"reanalysis_min_air_temp_k\",\"reanalysis_sat_precip_amt_mm\",\"reanalysis_precip_amt_kg_per_m2\",\"reanalysis_relative_humidity_percent\", \"reanalysis_specific_humidity_g_per_kg\", \"reanalysis_tdtr_k\", 'total_cases'])\n",
    "temp_y_smote_4 = pd.DataFrame(data = y_sm_4, columns = ['city'])\n",
    "y_smote_4 = temp_x_smote_4['total_cases']\n",
    "temp_x_smote_4 = temp_x_smote_4.drop(['total_cases'], axis=1)\n",
    "x_smote_4 = temp_x_smote_4.assign(city = temp_y_smote_4['city']) \n",
    "\n",
    "\n",
    "features_smote_4 = ['city','year','weekofyear','precipitation_amt_mm','station_avg_temp_c','station_diur_temp_rng_c','station_max_temp_c','station_min_temp_c','station_precip_mm','ndvi_ne','ndvi_nw','ndvi_se','ndvi_sw',\"reanalysis_air_temp_k\",\"reanalysis_avg_temp_k\",\"reanalysis_dew_point_temp_k\",\"reanalysis_max_air_temp_k\", \"reanalysis_min_air_temp_k\",\"reanalysis_sat_precip_amt_mm\",\"reanalysis_precip_amt_kg_per_m2\",\"reanalysis_relative_humidity_percent\", \"reanalysis_specific_humidity_g_per_kg\", \"reanalysis_tdtr_k\"]\n",
    "# Separating out the features\n",
    "x_PCA_smote_4 = x_smote_4.loc[:, features_smote_4].values\n",
    "# Separating out the target\n",
    "\n",
    "#y_4 = df_normal_data_include_forcast_value_final.loc[:,['total_cases']].values\n",
    "y_PCA_smote_4 = y_smote_4.values\n",
    "# Standardizing the features\n",
    "x_PCA_smote_4 = StandardScaler().fit_transform(x_smote_4)\n",
    "\n",
    "pca_smote_4 = PCA().fit(x_PCA_smote_4)\n",
    "plt.plot(np.cumsum(pca_smote_4.explained_variance_ratio_))"
   ]
  },
  {
   "cell_type": "code",
   "execution_count": 34,
   "id": "1b303750",
   "metadata": {},
   "outputs": [],
   "source": [
    "pca_smote_final_4 = PCA(n_components=8)\n",
    "principalComponents_smote_4 = pca_smote_final_4.fit_transform(x_PCA_smote_4)\n",
    "principalDf_smote_4 = pd.DataFrame(data = principalComponents_smote_4, columns = ['principal component 1', 'principal component 2', 'principal component 3', 'principal component 4', 'principal component 5', 'principal component 6', 'principal component 7', 'principal component 8'])\n",
    "pca_smote_4 = PCA(n_components=8)\n",
    "principalComponents_smote_4 = pca_smote_4.fit_transform(x_PCA_smote_4)\n",
    "principalDf_smote_4 = pd.DataFrame(data = principalComponents_smote_4, columns = ['principal component 1', 'principal component 2', 'principal component 3', 'principal component 4', 'principal component 5', 'principal component 6', 'principal component 7', 'principal component 8'])"
   ]
  },
  {
   "cell_type": "code",
   "execution_count": null,
   "id": "6ceb6e56",
   "metadata": {},
   "outputs": [],
   "source": []
  },
  {
   "cell_type": "code",
   "execution_count": 35,
   "id": "81a26b12",
   "metadata": {},
   "outputs": [],
   "source": [
    "grouped_1 = df_mix_ndvi_exclude_forcast_value_final.groupby(df_mix_ndvi_exclude_forcast_value_final[\"city\"])\n",
    "grouped_2 = df_mix_ndvi_include_forcast_value_final.groupby(df_mix_ndvi_include_forcast_value_final[\"city\"])\n",
    "grouped_3 = df_normal_data_exclude_forcast_value_final.groupby(df_normal_data_exclude_forcast_value_final[\"city\"])\n",
    "grouped_4 = df_normal_data_include_forcast_value_final.groupby(df_normal_data_include_forcast_value_final[\"city\"])\n",
    "\n",
    "df_mix_ndvi_exclude_forcast_value_final_0 = grouped_1.get_group(0)\n",
    "df_mix_ndvi_exclude_forcast_value_final_1 = grouped_1.get_group(1)\n",
    "\n",
    "df_mix_ndvi_include_forcast_value_final_0 = grouped_2.get_group(0)\n",
    "df_mix_ndvi_include_forcast_value_final_1 = grouped_2.get_group(1)\n",
    "\n",
    "df_normal_data_exclude_forcast_value_final_0 = grouped_3.get_group(0)\n",
    "df_normal_data_exclude_forcast_value_final_1 = grouped_3.get_group(1)\n",
    "\n",
    "df_normal_data_include_forcast_value_final_0 = grouped_4.get_group(0)\n",
    "df_normal_data_include_forcast_value_final_1 = grouped_4.get_group(1)"
   ]
  },
  {
   "cell_type": "code",
   "execution_count": 36,
   "id": "ac9afce9",
   "metadata": {},
   "outputs": [],
   "source": [
    "features_1 = ['city','year','weekofyear','precipitation_amt_mm','station_avg_temp_c','station_diur_temp_rng_c','station_max_temp_c','station_min_temp_c','station_precip_mm','ndvi_north','ndvi_south']\n",
    "# Separating out the features\n",
    "x_1_0 = df_mix_ndvi_exclude_forcast_value_final_0.loc[:, features_1].values\n",
    "# Separating out the target\n",
    "y_1_0 = df_mix_ndvi_exclude_forcast_value_final_0.loc[:,['total_cases']].values\n",
    "# Standardizing the features\n",
    "x_1_0 = StandardScaler().fit_transform(x_1_0)\n",
    "\n",
    "#normallized data"
   ]
  },
  {
   "cell_type": "code",
   "execution_count": 37,
   "id": "ea3c6749",
   "metadata": {},
   "outputs": [
    {
     "data": {
      "text/plain": [
       "Text(0, 0.5, 'cumulative explained variance')"
      ]
     },
     "execution_count": 37,
     "metadata": {},
     "output_type": "execute_result"
    },
    {
     "data": {
      "image/png": "[encoded data removed]",
      "text/plain": [
       "<Figure size 432x288 with 1 Axes>"
      ]
     },
     "metadata": {
      "needs_background": "light"
     },
     "output_type": "display_data"
    }
   ],
   "source": [
    "pca_1_0 = PCA().fit(x_1_0)\n",
    "plt.plot(np.cumsum(pca_1_0.explained_variance_ratio_))\n",
    "plt.xlabel('number of components')\n",
    "plt.ylabel('cumulative explained variance')"
   ]
  },
  {
   "cell_type": "code",
   "execution_count": 38,
   "id": "00e55960",
   "metadata": {},
   "outputs": [],
   "source": [
    "#create train set for model 1\n",
    "pca_1_0 = PCA(n_components=6)\n",
    "principalComponents_1_0 = pca_1_0.fit_transform(x_1_0)\n",
    "principalDf_1_0 = pd.DataFrame(data = principalComponents_1_0, columns = ['principal component 1', 'principal component 2', 'principal component 3', 'principal component 4', 'principal component 5', 'principal component 6'])\n",
    "\n",
    "df_train_model_PCA_1_0 = principalDf_1_0.iloc[:748,:]\n",
    "df_test_model_PCA_1_0 = principalDf_1_0.iloc[748:,:]\n",
    "x_train_model_PCA_1_0 = df_train_model_PCA_1_0[['principal component 1', 'principal component 2', 'principal component 3', 'principal component 4', 'principal component 5', 'principal component 6']]\n",
    "y_train_model_PCA_1_0 = y_1_0[:748,:]\n",
    "\n",
    "#create test set for model 1\n",
    "\n",
    "x_test_model_PCA_1_0 = df_test_model_PCA_1_0[['principal component 1', 'principal component 2', 'principal component 3', 'principal component 4', 'principal component 5', 'principal component 6']]\n",
    "y_test_model_PCA_1_0 = y_1_0[748:,:]\n"
   ]
  },
  {
   "cell_type": "code",
   "execution_count": 39,
   "id": "98017cd5",
   "metadata": {},
   "outputs": [],
   "source": [
    "features_1 = ['city','year','weekofyear','precipitation_amt_mm','station_avg_temp_c','station_diur_temp_rng_c','station_max_temp_c','station_min_temp_c','station_precip_mm','ndvi_north','ndvi_south']\n",
    "# Separating out the features\n",
    "x_1_1 = df_mix_ndvi_exclude_forcast_value_final_1.loc[:, features_1].values\n",
    "# Separating out the target\n",
    "y_1_1 = df_mix_ndvi_exclude_forcast_value_final_1.loc[:,['total_cases']].values\n",
    "# Standardizing the features\n",
    "x_1_1 = StandardScaler().fit_transform(x_1_1)\n",
    "\n",
    "#normallized data\n"
   ]
  },
  {
   "cell_type": "code",
   "execution_count": 40,
   "id": "fc5c4a6a",
   "metadata": {},
   "outputs": [
    {
     "data": {
      "text/plain": [
       "Text(0, 0.5, 'cumulative explained variance')"
      ]
     },
     "execution_count": 40,
     "metadata": {},
     "output_type": "execute_result"
    },
    {
     "data": {
      "image/png": "[encoded data removed]",
      "text/plain": [
       "<Figure size 432x288 with 1 Axes>"
      ]
     },
     "metadata": {
      "needs_background": "light"
     },
     "output_type": "display_data"
    }
   ],
   "source": [
    "pca_1_1 = PCA().fit(x_1_1)\n",
    "plt.plot(np.cumsum(pca_1_1.explained_variance_ratio_))\n",
    "plt.xlabel('number of components')\n",
    "plt.ylabel('cumulative explained variance')"
   ]
  },
  {
   "cell_type": "code",
   "execution_count": null,
   "id": "baff3609",
   "metadata": {},
   "outputs": [],
   "source": []
  },
  {
   "cell_type": "code",
   "execution_count": 41,
   "id": "988978a7",
   "metadata": {},
   "outputs": [],
   "source": [
    "#create train set for model 1\n",
    "pca_1_1 = PCA(n_components=6)\n",
    "principalComponents_1_1 = pca_1_1.fit_transform(x_1_1)\n",
    "principalDf_1_1 = pd.DataFrame(data = principalComponents_1_1, columns = ['principal component 1', 'principal component 2', 'principal component 3', 'principal component 4', 'principal component 5', 'principal component 6'])\n",
    "\n",
    "df_train_model_PCA_1_1 = principalDf_1_1.iloc[:416,:]\n",
    "df_test_model_PCA_1_1 = principalDf_1_1.iloc[416:,:]\n",
    "x_train_model_PCA_1_1 = df_train_model_PCA_1_1[['principal component 1', 'principal component 2', 'principal component 3', 'principal component 4', 'principal component 5', 'principal component 6']]\n",
    "y_train_model_PCA_1_1 = y_1_1[:416,:]\n",
    "\n",
    "\n",
    "#create test set for model 1\n",
    "\n",
    "x_test_model_PCA_1_1 = df_test_model_PCA_1_1[['principal component 1', 'principal component 2', 'principal component 3', 'principal component 4', 'principal component 5', 'principal component 6']]\n",
    "y_test_model_PCA_1_1 = y_1_1[416:,:]\n"
   ]
  },
  {
   "cell_type": "code",
   "execution_count": 42,
   "id": "90ea6721",
   "metadata": {},
   "outputs": [],
   "source": [
    "features_2 = ['city','year','weekofyear','precipitation_amt_mm','station_avg_temp_c','station_diur_temp_rng_c','station_max_temp_c','station_min_temp_c','station_precip_mm','ndvi_north','ndvi_south',\"reanalysis_air_temp_k\",\"reanalysis_avg_temp_k\",\"reanalysis_dew_point_temp_k\",\"reanalysis_max_air_temp_k\", \"reanalysis_min_air_temp_k\",\"reanalysis_sat_precip_amt_mm\",\"reanalysis_precip_amt_kg_per_m2\",\"reanalysis_relative_humidity_percent\", \"reanalysis_specific_humidity_g_per_kg\", \"reanalysis_tdtr_k\"]\n",
    "# Separating out the features\n",
    "x_2_0 = df_mix_ndvi_include_forcast_value_final_0.loc[:, features_2].values\n",
    "# Separating out the target\n",
    "y_2_0 = df_mix_ndvi_include_forcast_value_final_0.loc[:,['total_cases']].values\n",
    "# Standardizing the features\n",
    "x_2_0 = StandardScaler().fit_transform(x_2_0)\n"
   ]
  },
  {
   "cell_type": "code",
   "execution_count": 43,
   "id": "3ca37192",
   "metadata": {},
   "outputs": [
    {
     "data": {
      "text/plain": [
       "Text(0, 0.5, 'cumulative explained variance')"
      ]
     },
     "execution_count": 43,
     "metadata": {},
     "output_type": "execute_result"
    },
    {
     "data": {
      "image/png": "[encoded data removed]",
      "text/plain": [
       "<Figure size 432x288 with 1 Axes>"
      ]
     },
     "metadata": {
      "needs_background": "light"
     },
     "output_type": "display_data"
    }
   ],
   "source": [
    "pca_2_0 = PCA().fit(x_2_0)\n",
    "plt.plot(np.cumsum(pca_2_0.explained_variance_ratio_))\n",
    "plt.xlabel('number of components')\n",
    "plt.ylabel('cumulative explained variance')"
   ]
  },
  {
   "cell_type": "code",
   "execution_count": 44,
   "id": "f3ffe2bf",
   "metadata": {},
   "outputs": [],
   "source": [
    "#create train set for model 2\n",
    "pca_2_0 = PCA(n_components=6)\n",
    "principalComponents_2_0 = pca_2_0.fit_transform(x_2_0)\n",
    "principalDf_2_0 = pd.DataFrame(data = principalComponents_2_0, columns = ['principal component 1', 'principal component 2', 'principal component 3', 'principal component 4', 'principal component 5', 'principal component 6'])\n",
    "\n",
    "df_train_model_PCA_2_0 = principalDf_2_0.iloc[:748,:]\n",
    "df_test_model_PCA_2_0 = principalDf_2_0.iloc[748:,:]\n",
    "x_train_model_PCA_2_0 = df_train_model_PCA_2_0[['principal component 1', 'principal component 2', 'principal component 3', 'principal component 4', 'principal component 5', 'principal component 6']]\n",
    "y_train_model_PCA_2_0 = y_2_0[:748,:]\n",
    "\n",
    "\n",
    "#create test set for model 1\n",
    "\n",
    "x_test_model_PCA_2_0 = df_test_model_PCA_2_0[['principal component 1', 'principal component 2', 'principal component 3', 'principal component 4', 'principal component 5', 'principal component 6']]\n",
    "y_test_model_PCA_2_0 = y_2_0[748:,:]\n"
   ]
  },
  {
   "cell_type": "code",
   "execution_count": 45,
   "id": "70615d52",
   "metadata": {},
   "outputs": [],
   "source": [
    "features_2 = ['city','year','weekofyear','precipitation_amt_mm','station_avg_temp_c','station_diur_temp_rng_c','station_max_temp_c','station_min_temp_c','station_precip_mm','ndvi_north','ndvi_south',\"reanalysis_air_temp_k\",\"reanalysis_avg_temp_k\",\"reanalysis_dew_point_temp_k\",\"reanalysis_max_air_temp_k\", \"reanalysis_min_air_temp_k\",\"reanalysis_sat_precip_amt_mm\",\"reanalysis_precip_amt_kg_per_m2\",\"reanalysis_relative_humidity_percent\", \"reanalysis_specific_humidity_g_per_kg\", \"reanalysis_tdtr_k\"]\n",
    "# Separating out the features\n",
    "x_2_1 = df_mix_ndvi_include_forcast_value_final_1.loc[:, features_2].values\n",
    "# Separating out the target\n",
    "y_2_1 = df_mix_ndvi_include_forcast_value_final_1.loc[:,['total_cases']].values\n",
    "# Standardizing the features\n",
    "x_2_1 = StandardScaler().fit_transform(x_2_1)\n",
    "\n",
    "#normallized data"
   ]
  },
  {
   "cell_type": "code",
   "execution_count": 46,
   "id": "e759f464",
   "metadata": {},
   "outputs": [
    {
     "data": {
      "text/plain": [
       "Text(0, 0.5, 'cumulative explained variance')"
      ]
     },
     "execution_count": 46,
     "metadata": {},
     "output_type": "execute_result"
    },
    {
     "data": {
      "image/png": "[encoded data removed]",
      "text/plain": [
       "<Figure size 432x288 with 1 Axes>"
      ]
     },
     "metadata": {
      "needs_background": "light"
     },
     "output_type": "display_data"
    }
   ],
   "source": [
    "pca_2_1 = PCA().fit(x_2_1)\n",
    "plt.plot(np.cumsum(pca_2_1.explained_variance_ratio_))\n",
    "plt.xlabel('number of components')\n",
    "plt.ylabel('cumulative explained variance')"
   ]
  },
  {
   "cell_type": "code",
   "execution_count": 47,
   "id": "01a3ce9a",
   "metadata": {},
   "outputs": [],
   "source": [
    "#create train set for model 1\n",
    "pca_2_1 = PCA(n_components=8)\n",
    "principalComponents_2_1 = pca_2_1.fit_transform(x_2_1)\n",
    "principalDf_2_1 = pd.DataFrame(data = principalComponents_2_1, columns = ['principal component 1', 'principal component 2', 'principal component 3', 'principal component 4', 'principal component 5', 'principal component 6', 'principal component 7', 'principal component 8'])\n",
    "\n",
    "df_train_model_PCA_2_1 = principalDf_2_1.iloc[:416,:]\n",
    "df_test_model_PCA_2_1 = principalDf_2_1.iloc[416:,:]\n",
    "x_train_model_PCA_2_1 = df_train_model_PCA_2_1[['principal component 1', 'principal component 2', 'principal component 3', 'principal component 4', 'principal component 5', 'principal component 6', 'principal component 7', 'principal component 8']]\n",
    "y_train_model_PCA_2_1 = y_2_1[:416,:]\n",
    "\n",
    "\n",
    "#create test set for model 1\n",
    "\n",
    "x_test_model_PCA_2_1 = df_test_model_PCA_2_1[['principal component 1', 'principal component 2', 'principal component 3', 'principal component 4', 'principal component 5', 'principal component 6', 'principal component 7', 'principal component 8']]\n",
    "y_test_model_PCA_2_1 = y_2_1[416:,:]\n"
   ]
  },
  {
   "cell_type": "code",
   "execution_count": 48,
   "id": "0ec1878b",
   "metadata": {},
   "outputs": [],
   "source": [
    "features_3 = ['city','year','weekofyear','precipitation_amt_mm','station_avg_temp_c','station_diur_temp_rng_c','station_max_temp_c','station_min_temp_c','station_precip_mm','ndvi_ne','ndvi_nw','ndvi_se','ndvi_sw']\n",
    "# Separating out the features\n",
    "x_3_0 = df_normal_data_exclude_forcast_value_final_0.loc[:, features_3].values\n",
    "# Separating out the target\n",
    "y_3_0 = df_normal_data_exclude_forcast_value_final_0.loc[:,['total_cases']].values\n",
    "# Standardizing the features\n",
    "x_3_0 = StandardScaler().fit_transform(x_3_0)\n"
   ]
  },
  {
   "cell_type": "code",
   "execution_count": 49,
   "id": "acd3f563",
   "metadata": {},
   "outputs": [
    {
     "data": {
      "text/plain": [
       "Text(0, 0.5, 'cumulative explained variance')"
      ]
     },
     "execution_count": 49,
     "metadata": {},
     "output_type": "execute_result"
    },
    {
     "data": {
      "image/png": "[encoded data removed]",
      "text/plain": [
       "<Figure size 432x288 with 1 Axes>"
      ]
     },
     "metadata": {
      "needs_background": "light"
     },
     "output_type": "display_data"
    }
   ],
   "source": [
    "pca_3_0 = PCA().fit(x_3_0)\n",
    "plt.plot(np.cumsum(pca_3_0.explained_variance_ratio_))\n",
    "plt.xlabel('number of components')\n",
    "plt.ylabel('cumulative explained variance')"
   ]
  },
  {
   "cell_type": "code",
   "execution_count": 50,
   "id": "db19c19e",
   "metadata": {},
   "outputs": [],
   "source": [
    "#create train set for model 2\n",
    "pca_3_0 = PCA(n_components=8)\n",
    "principalComponents_3_0 = pca_3_0.fit_transform(x_3_0)\n",
    "principalDf_3_0 = pd.DataFrame(data = principalComponents_3_0, columns = ['principal component 1', 'principal component 2', 'principal component 3', 'principal component 4', 'principal component 5', 'principal component 6', 'principal component 7', 'principal component 8'])\n",
    "\n",
    "df_train_model_PCA_3_0 = principalDf_3_0.iloc[:748,:]\n",
    "df_test_model_PCA_3_0 = principalDf_3_0.iloc[748:,:]\n",
    "x_train_model_PCA_3_0 = df_train_model_PCA_3_0[['principal component 1', 'principal component 2', 'principal component 3', 'principal component 4', 'principal component 5', 'principal component 6', 'principal component 7', 'principal component 8']]\n",
    "y_train_model_PCA_3_0 = y_3_0[:748,:]\n",
    "\n",
    "\n",
    "#create test set for model 1\n",
    "\n",
    "x_test_model_PCA_3_0 = df_test_model_PCA_3_0[['principal component 1', 'principal component 2', 'principal component 3', 'principal component 4', 'principal component 5', 'principal component 6', 'principal component 7', 'principal component 8']]\n",
    "y_test_model_PCA_3_0 = y_3_0[748:,:]\n"
   ]
  },
  {
   "cell_type": "code",
   "execution_count": 51,
   "id": "c2d0be0a",
   "metadata": {},
   "outputs": [],
   "source": [
    "features_3 = ['city','year','weekofyear','precipitation_amt_mm','station_avg_temp_c','station_diur_temp_rng_c','station_max_temp_c','station_min_temp_c','station_precip_mm','ndvi_ne','ndvi_nw','ndvi_se','ndvi_sw']\n",
    "# Separating out the features\n",
    "x_3_1 = df_normal_data_exclude_forcast_value_final_1.loc[:, features_3].values\n",
    "# Separating out the target\n",
    "y_3_1 = df_normal_data_exclude_forcast_value_final_1.loc[:,['total_cases']].values\n",
    "# Standardizing the features\n",
    "x_3_1 = StandardScaler().fit_transform(x_3_1)\n",
    "\n",
    "#normallized data"
   ]
  },
  {
   "cell_type": "code",
   "execution_count": 52,
   "id": "1105705d",
   "metadata": {},
   "outputs": [
    {
     "data": {
      "text/plain": [
       "Text(0, 0.5, 'cumulative explained variance')"
      ]
     },
     "execution_count": 52,
     "metadata": {},
     "output_type": "execute_result"
    },
    {
     "data": {
      "image/png": "[encoded data removed]",
      "text/plain": [
       "<Figure size 432x288 with 1 Axes>"
      ]
     },
     "metadata": {
      "needs_background": "light"
     },
     "output_type": "display_data"
    }
   ],
   "source": [
    "pca_3_1 = PCA().fit(x_3_1)\n",
    "plt.plot(np.cumsum(pca_3_1.explained_variance_ratio_))\n",
    "plt.xlabel('number of components')\n",
    "plt.ylabel('cumulative explained variance')"
   ]
  },
  {
   "cell_type": "code",
   "execution_count": 53,
   "id": "4072b723",
   "metadata": {},
   "outputs": [],
   "source": [
    "#create train set for model 1\n",
    "pca_3_1 = PCA(n_components=8)\n",
    "principalComponents_3_1 = pca_3_1.fit_transform(x_3_1)\n",
    "principalDf_3_1 = pd.DataFrame(data = principalComponents_3_1, columns = ['principal component 1', 'principal component 2', 'principal component 3', 'principal component 4', 'principal component 5', 'principal component 6', 'principal component 7', 'principal component 8'])\n",
    "\n",
    "df_train_model_PCA_3_1 = principalDf_3_1.iloc[:416,:]\n",
    "df_test_model_PCA_3_1 = principalDf_3_1.iloc[416:,:]\n",
    "x_train_model_PCA_3_1 = df_train_model_PCA_3_1[['principal component 1', 'principal component 2', 'principal component 3', 'principal component 4', 'principal component 5', 'principal component 6', 'principal component 7', 'principal component 8']]\n",
    "y_train_model_PCA_3_1 = y_3_1[:416,:]\n",
    "\n",
    "\n",
    "#create test set for model 1\n",
    "\n",
    "x_test_model_PCA_3_1 = df_test_model_PCA_3_1[['principal component 1', 'principal component 2', 'principal component 3', 'principal component 4', 'principal component 5', 'principal component 6', 'principal component 7', 'principal component 8']]\n",
    "y_test_model_PCA_3_1 = y_3_1[416:,:]\n"
   ]
  },
  {
   "cell_type": "code",
   "execution_count": 54,
   "id": "48ab4d64",
   "metadata": {},
   "outputs": [],
   "source": [
    "features_4 = ['city','year','weekofyear','precipitation_amt_mm','station_avg_temp_c','station_diur_temp_rng_c','station_max_temp_c','station_min_temp_c','station_precip_mm','ndvi_ne','ndvi_nw','ndvi_se','ndvi_sw',\"reanalysis_air_temp_k\",\"reanalysis_avg_temp_k\",\"reanalysis_dew_point_temp_k\",\"reanalysis_max_air_temp_k\", \"reanalysis_min_air_temp_k\",\"reanalysis_sat_precip_amt_mm\",\"reanalysis_precip_amt_kg_per_m2\",\"reanalysis_relative_humidity_percent\", \"reanalysis_specific_humidity_g_per_kg\", \"reanalysis_tdtr_k\"]\n",
    "# Separating out the features\n",
    "x_4_0 = df_normal_data_include_forcast_value_final_0.loc[:, features_4].values\n",
    "# Separating out the target\n",
    "y_4_0 = df_normal_data_include_forcast_value_final_0.loc[:,['total_cases']].values\n",
    "# Standardizing the features\n",
    "x_4_0 = StandardScaler().fit_transform(x_4_0)"
   ]
  },
  {
   "cell_type": "code",
   "execution_count": 55,
   "id": "32cda620",
   "metadata": {},
   "outputs": [
    {
     "data": {
      "text/plain": [
       "Text(0, 0.5, 'cumulative explained variance')"
      ]
     },
     "execution_count": 55,
     "metadata": {},
     "output_type": "execute_result"
    },
    {
     "data": {
      "image/png": "[encoded data removed]",
      "text/plain": [
       "<Figure size 432x288 with 1 Axes>"
      ]
     },
     "metadata": {
      "needs_background": "light"
     },
     "output_type": "display_data"
    }
   ],
   "source": [
    "pca_4_0 = PCA().fit(x_4_0)\n",
    "plt.plot(np.cumsum(pca_4_0.explained_variance_ratio_))\n",
    "plt.xlabel('number of components')\n",
    "plt.ylabel('cumulative explained variance')"
   ]
  },
  {
   "cell_type": "code",
   "execution_count": 56,
   "id": "391e309c",
   "metadata": {},
   "outputs": [],
   "source": [
    "#create train set for model 2\n",
    "pca_4_0 = PCA(n_components=8)\n",
    "principalComponents_4_0 = pca_4_0.fit_transform(x_4_0)\n",
    "principalDf_4_0 = pd.DataFrame(data = principalComponents_4_0, columns = ['principal component 1', 'principal component 2', 'principal component 3', 'principal component 4', 'principal component 5', 'principal component 6', 'principal component 7', 'principal component 8'])\n",
    "\n",
    "df_train_model_PCA_4_0 = principalDf_4_0.iloc[:748,:]\n",
    "df_test_model_PCA_4_0 = principalDf_4_0.iloc[748:,:]\n",
    "x_train_model_PCA_4_0 = df_train_model_PCA_4_0[['principal component 1', 'principal component 2', 'principal component 3', 'principal component 4', 'principal component 5', 'principal component 6', 'principal component 7', 'principal component 8']]\n",
    "y_train_model_PCA_4_0 = y_4_0[:748,:]\n",
    "\n",
    "\n",
    "#create test set for model 1\n",
    "\n",
    "x_test_model_PCA_4_0 = df_test_model_PCA_4_0[['principal component 1', 'principal component 2', 'principal component 3', 'principal component 4', 'principal component 5', 'principal component 6', 'principal component 7', 'principal component 8']]\n",
    "y_test_model_PCA_4_0 = y_4_0[748:,:]\n"
   ]
  },
  {
   "cell_type": "code",
   "execution_count": 57,
   "id": "f82baeaa",
   "metadata": {},
   "outputs": [],
   "source": [
    "features_4 = ['city','year','weekofyear','precipitation_amt_mm','station_avg_temp_c','station_diur_temp_rng_c','station_max_temp_c','station_min_temp_c','station_precip_mm','ndvi_ne','ndvi_nw','ndvi_se','ndvi_sw',\"reanalysis_air_temp_k\",\"reanalysis_avg_temp_k\",\"reanalysis_dew_point_temp_k\",\"reanalysis_max_air_temp_k\", \"reanalysis_min_air_temp_k\",\"reanalysis_sat_precip_amt_mm\",\"reanalysis_precip_amt_kg_per_m2\",\"reanalysis_relative_humidity_percent\", \"reanalysis_specific_humidity_g_per_kg\", \"reanalysis_tdtr_k\"]\n",
    "# Separating out the features\n",
    "x_4_1 = df_normal_data_include_forcast_value_final_1.loc[:, features_4].values\n",
    "# Separating out the target\n",
    "y_4_1 = df_normal_data_include_forcast_value_final_1.loc[:,['total_cases']].values\n",
    "# Standardizing the features\n",
    "x_4_1 = StandardScaler().fit_transform(x_4_1)\n",
    "\n",
    "#normallized data"
   ]
  },
  {
   "cell_type": "code",
   "execution_count": 58,
   "id": "5add5944",
   "metadata": {},
   "outputs": [
    {
     "data": {
      "text/plain": [
       "Text(0, 0.5, 'cumulative explained variance')"
      ]
     },
     "execution_count": 58,
     "metadata": {},
     "output_type": "execute_result"
    },
    {
     "data": {
      "image/png": "[encoded data removed]",
      "text/plain": [
       "<Figure size 432x288 with 1 Axes>"
      ]
     },
     "metadata": {
      "needs_background": "light"
     },
     "output_type": "display_data"
    }
   ],
   "source": [
    "pca_4_1 = PCA().fit(x_4_1)\n",
    "plt.plot(np.cumsum(pca_4_1.explained_variance_ratio_))\n",
    "plt.xlabel('number of components')\n",
    "plt.ylabel('cumulative explained variance')"
   ]
  },
  {
   "cell_type": "code",
   "execution_count": 59,
   "id": "61dc1523",
   "metadata": {},
   "outputs": [],
   "source": [
    "#create train set for model 1\n",
    "pca_4_1 = PCA(n_components=8)\n",
    "principalComponents_4_1 = pca_4_1.fit_transform(x_4_1)\n",
    "principalDf_4_1 = pd.DataFrame(data = principalComponents_4_1, columns = ['principal component 1', 'principal component 2', 'principal component 3', 'principal component 4', 'principal component 5', 'principal component 6', 'principal component 7', 'principal component 8'])\n",
    "\n",
    "df_train_model_PCA_4_1 = principalDf_4_1.iloc[:416,:]\n",
    "df_test_model_PCA_4_1 = principalDf_4_1.iloc[416:,:]\n",
    "x_train_model_PCA_4_1 = df_train_model_PCA_4_1[['principal component 1', 'principal component 2', 'principal component 3', 'principal component 4', 'principal component 5', 'principal component 6', 'principal component 7', 'principal component 8']]\n",
    "y_train_model_PCA_4_1 = y_4_1[:416,:]\n",
    "\n",
    "\n",
    "#create test set for model 1\n",
    "\n",
    "x_test_model_PCA_4_1 = df_test_model_PCA_4_1[['principal component 1', 'principal component 2', 'principal component 3', 'principal component 4', 'principal component 5', 'principal component 6', 'principal component 7', 'principal component 8']]\n",
    "y_test_model_PCA_4_1 = y_4_1[416:,:]\n"
   ]
  },
  {
   "cell_type": "code",
   "execution_count": null,
   "id": "969c9077",
   "metadata": {},
   "outputs": [],
   "source": []
  },
  {
   "cell_type": "code",
   "execution_count": 62,
   "id": "c81022b1",
   "metadata": {},
   "outputs": [],
   "source": [
    "from sklearn.metrics import mean_absolute_error\n"
   ]
  },
  {
   "cell_type": "code",
   "execution_count": 63,
   "id": "ae502bc9",
   "metadata": {},
   "outputs": [
    {
     "name": "stdout",
     "output_type": "stream",
     "text": [
      "Coefficients: \n",
      " PoissonRegressor()\n",
      "Mean squared error: 1611.02\n",
      "Mean absoulte error: 25.42\n",
      "Coefficient of determination: 0.16\n"
     ]
    },
    {
     "name": "stderr",
     "output_type": "stream",
     "text": [
      "C:\\Users\\pasit\\anaconda3\\lib\\site-packages\\sklearn\\utils\\validation.py:1107: DataConversionWarning: A column-vector y was passed when a 1d array was expected. Please change the shape of y to (n_samples, ), for example using ravel().\n",
      "  y = column_or_1d(y, warn=True)\n"
     ]
    }
   ],
   "source": [
    "#Poission Distribution Model\n",
    "poisson_PCA_1_0 = linear_model.PoissonRegressor()\n",
    "poisson_PCA_1_0.fit(x_train_model_PCA_1_0, y_train_model_PCA_1_0)\n",
    "\n",
    "y_pred_model_PCA_1_0 = poisson_PCA_1_0.predict(x_test_model_PCA_1_0)\n",
    "y_test_array_model_PCA_1_0 = y_test_model_PCA_1_0\n",
    "\n",
    "\n",
    "print(\"Coefficients: \\n\", poisson_PCA_1_0)\n",
    "# The mean squared error\n",
    "print(\"Mean squared error: %.2f\" % mean_squared_error(y_test_array_model_PCA_1_0, y_pred_model_PCA_1_0))\n",
    "print(\"Mean absoulte error: %.2f\" % mean_absolute_error(y_test_array_model_PCA_1_0, y_pred_model_PCA_1_0))\n",
    "# The coefficient of determination: 1 is perfect prediction\n",
    "print(\"Coefficient of determination: %.2f\" % r2_score(y_test_array_model_PCA_1_0, y_pred_model_PCA_1_0))"
   ]
  },
  {
   "cell_type": "code",
   "execution_count": 64,
   "id": "e45f74f9",
   "metadata": {},
   "outputs": [
    {
     "name": "stdout",
     "output_type": "stream",
     "text": [
      "Coefficients: \n",
      " PoissonRegressor()\n",
      "Mean squared error: 89.76\n",
      "Mean absoulte error: 6.72\n",
      "Coefficient of determination: 0.02\n"
     ]
    },
    {
     "name": "stderr",
     "output_type": "stream",
     "text": [
      "C:\\Users\\pasit\\anaconda3\\lib\\site-packages\\sklearn\\utils\\validation.py:1107: DataConversionWarning: A column-vector y was passed when a 1d array was expected. Please change the shape of y to (n_samples, ), for example using ravel().\n",
      "  y = column_or_1d(y, warn=True)\n"
     ]
    }
   ],
   "source": [
    "#Poission Distribution Model\n",
    "poisson_PCA_1_1 = linear_model.PoissonRegressor()\n",
    "poisson_PCA_1_1.fit(x_train_model_PCA_1_1, y_train_model_PCA_1_1)\n",
    "\n",
    "y_pred_model_PCA_1_1 = poisson_PCA_1_1.predict(x_test_model_PCA_1_1)\n",
    "y_test_array_model_PCA_1_1 = y_test_model_PCA_1_1\n",
    "\n",
    "\n",
    "print(\"Coefficients: \\n\", poisson_PCA_1_1)\n",
    "# The mean squared error\n",
    "print(\"Mean squared error: %.2f\" % mean_squared_error(y_test_array_model_PCA_1_1, y_pred_model_PCA_1_1))\n",
    "print(\"Mean absoulte error: %.2f\" % mean_absolute_error(y_test_array_model_PCA_1_1, y_pred_model_PCA_1_1))\n",
    "# The coefficient of determination: 1 is perfect prediction\n",
    "print(\"Coefficient of determination: %.2f\" % r2_score(y_test_array_model_PCA_1_1, y_pred_model_PCA_1_1))"
   ]
  },
  {
   "cell_type": "code",
   "execution_count": 65,
   "id": "e084cefa",
   "metadata": {},
   "outputs": [
    {
     "name": "stdout",
     "output_type": "stream",
     "text": [
      "Coefficients: \n",
      " PoissonRegressor()\n",
      "Mean squared error: 2953.09\n",
      "Mean absoulte error: 28.47\n",
      "Coefficient of determination: 0.15\n"
     ]
    },
    {
     "name": "stderr",
     "output_type": "stream",
     "text": [
      "C:\\Users\\pasit\\anaconda3\\lib\\site-packages\\sklearn\\utils\\validation.py:1107: DataConversionWarning: A column-vector y was passed when a 1d array was expected. Please change the shape of y to (n_samples, ), for example using ravel().\n",
      "  y = column_or_1d(y, warn=True)\n"
     ]
    }
   ],
   "source": [
    "#Poission Distribution Model\n",
    "poisson_PCA_2_0 = linear_model.PoissonRegressor()\n",
    "poisson_PCA_2_0.fit(x_train_model_PCA_2_0, y_train_model_PCA_2_0)\n",
    "\n",
    "y_pred_model_PCA_2_0 = poisson_PCA_2_0.predict(x_test_model_PCA_2_0)\n",
    "y_test_array_model_PCA_2_0 = y_test_model_PCA_2_0\n",
    "\n",
    "\n",
    "print(\"Coefficients: \\n\", poisson_PCA_2_0)\n",
    "# The mean squared error\n",
    "print(\"Mean squared error: %.2f\" % mean_squared_error(y_test_array_model_PCA_2_0, y_pred_model_PCA_2_0))\n",
    "print(\"Mean absoulte error: %.2f\" % mean_absolute_error(y_test_array_model_PCA_1_0, y_pred_model_PCA_2_0))\n",
    "# The coefficient of determination: 1 is perfect prediction\n",
    "print(\"Coefficient of determination: %.2f\" % r2_score(y_test_array_model_PCA_2_0, y_pred_model_PCA_2_0))"
   ]
  },
  {
   "cell_type": "code",
   "execution_count": 66,
   "id": "c22a89e6",
   "metadata": {},
   "outputs": [
    {
     "name": "stdout",
     "output_type": "stream",
     "text": [
      "Coefficients: \n",
      " PoissonRegressor()\n",
      "Mean squared error: 67.50\n",
      "Mean absoulte error: 5.94\n",
      "Coefficient of determination: 0.11\n"
     ]
    },
    {
     "name": "stderr",
     "output_type": "stream",
     "text": [
      "C:\\Users\\pasit\\anaconda3\\lib\\site-packages\\sklearn\\utils\\validation.py:1107: DataConversionWarning: A column-vector y was passed when a 1d array was expected. Please change the shape of y to (n_samples, ), for example using ravel().\n",
      "  y = column_or_1d(y, warn=True)\n"
     ]
    }
   ],
   "source": [
    "#Poission Distribution Model\n",
    "poisson_PCA_2_1 = linear_model.PoissonRegressor()\n",
    "poisson_PCA_2_1.fit(x_train_model_PCA_2_1, y_train_model_PCA_2_1)\n",
    "\n",
    "y_pred_model_PCA_2_1 = poisson_PCA_2_1.predict(x_test_model_PCA_2_1)\n",
    "y_test_array_model_PCA_2_1 = y_test_model_PCA_2_1\n",
    "\n",
    "\n",
    "print(\"Coefficients: \\n\", poisson_PCA_2_1)\n",
    "# The mean squared error\n",
    "print(\"Mean squared error: %.2f\" % mean_squared_error(y_test_array_model_PCA_2_1, y_pred_model_PCA_2_1))\n",
    "print(\"Mean absoulte error: %.2f\" % mean_absolute_error(y_test_array_model_PCA_2_1, y_pred_model_PCA_2_1))\n",
    "# The coefficient of determination: 1 is perfect prediction\n",
    "print(\"Coefficient of determination: %.2f\" % r2_score(y_test_array_model_PCA_2_1, y_pred_model_PCA_2_1))"
   ]
  },
  {
   "cell_type": "code",
   "execution_count": 67,
   "id": "767d8c42",
   "metadata": {},
   "outputs": [
    {
     "name": "stdout",
     "output_type": "stream",
     "text": [
      "Coefficients: \n",
      " PoissonRegressor()\n",
      "Mean squared error: 3593.53\n",
      "Mean absoulte error: 29.37\n",
      "Coefficient of determination: 0.16\n"
     ]
    },
    {
     "name": "stderr",
     "output_type": "stream",
     "text": [
      "C:\\Users\\pasit\\anaconda3\\lib\\site-packages\\sklearn\\utils\\validation.py:1107: DataConversionWarning: A column-vector y was passed when a 1d array was expected. Please change the shape of y to (n_samples, ), for example using ravel().\n",
      "  y = column_or_1d(y, warn=True)\n"
     ]
    }
   ],
   "source": [
    "#Poission Distribution Model\n",
    "poisson_PCA_3_0 = linear_model.PoissonRegressor()\n",
    "poisson_PCA_3_0.fit(x_train_model_PCA_3_0, y_train_model_PCA_3_0)\n",
    "\n",
    "y_pred_model_PCA_3_0 = poisson_PCA_3_0.predict(x_test_model_PCA_3_0)\n",
    "y_test_array_model_PCA_3_0 = y_test_model_PCA_3_0\n",
    "\n",
    "\n",
    "print(\"Coefficients: \\n\", poisson_PCA_3_0)\n",
    "# The mean squared error\n",
    "print(\"Mean squared error: %.2f\" % mean_squared_error(y_test_array_model_PCA_3_0, y_pred_model_PCA_3_0))\n",
    "print(\"Mean absoulte error: %.2f\" % mean_absolute_error(y_test_array_model_PCA_3_0, y_pred_model_PCA_3_0))\n",
    "# The coefficient of determination: 1 is perfect prediction\n",
    "print(\"Coefficient of determination: %.2f\" % r2_score(y_test_array_model_PCA_3_0, y_pred_model_PCA_3_0))"
   ]
  },
  {
   "cell_type": "code",
   "execution_count": 68,
   "id": "5e984d31",
   "metadata": {},
   "outputs": [
    {
     "name": "stdout",
     "output_type": "stream",
     "text": [
      "Coefficients: \n",
      " PoissonRegressor()\n",
      "Mean squared error: 148.75\n",
      "Mean absoulte error: 6.03\n",
      "Coefficient of determination: 0.03\n"
     ]
    },
    {
     "name": "stderr",
     "output_type": "stream",
     "text": [
      "C:\\Users\\pasit\\anaconda3\\lib\\site-packages\\sklearn\\utils\\validation.py:1107: DataConversionWarning: A column-vector y was passed when a 1d array was expected. Please change the shape of y to (n_samples, ), for example using ravel().\n",
      "  y = column_or_1d(y, warn=True)\n"
     ]
    }
   ],
   "source": [
    "#Poission Distribution Model\n",
    "poisson_PCA_3_1 = linear_model.PoissonRegressor()\n",
    "poisson_PCA_3_1.fit(x_train_model_PCA_3_1, y_train_model_PCA_3_1)\n",
    "\n",
    "y_pred_model_PCA_3_1 = poisson_PCA_3_1.predict(x_test_model_PCA_3_1)\n",
    "y_test_array_model_PCA_3_1 = y_test_model_PCA_3_1\n",
    "\n",
    "\n",
    "print(\"Coefficients: \\n\", poisson_PCA_3_1)\n",
    "# The mean squared error\n",
    "print(\"Mean squared error: %.2f\" % mean_squared_error(y_test_array_model_PCA_3_1, y_pred_model_PCA_3_1))\n",
    "print(\"Mean absoulte error: %.2f\" % mean_absolute_error(y_test_array_model_PCA_3_1, y_pred_model_PCA_3_1))\n",
    "# The coefficient of determination: 1 is perfect prediction\n",
    "print(\"Coefficient of determination: %.2f\" % r2_score(y_test_array_model_PCA_3_1, y_pred_model_PCA_3_1))"
   ]
  },
  {
   "cell_type": "code",
   "execution_count": 70,
   "id": "16ee6002",
   "metadata": {},
   "outputs": [
    {
     "name": "stdout",
     "output_type": "stream",
     "text": [
      "Coefficients: \n",
      " PoissonRegressor()\n",
      "Mean squared error: 2439.99\n",
      "Mean absoulte error: 32.26\n",
      "Coefficient of determination: -0.27\n"
     ]
    },
    {
     "name": "stderr",
     "output_type": "stream",
     "text": [
      "C:\\Users\\pasit\\anaconda3\\lib\\site-packages\\sklearn\\utils\\validation.py:1107: DataConversionWarning: A column-vector y was passed when a 1d array was expected. Please change the shape of y to (n_samples, ), for example using ravel().\n",
      "  y = column_or_1d(y, warn=True)\n"
     ]
    }
   ],
   "source": [
    "#Poission Distribution Model\n",
    "poisson_PCA_4_0 = linear_model.PoissonRegressor()\n",
    "poisson_PCA_4_0.fit(x_train_model_PCA_4_0, y_train_model_PCA_4_0)\n",
    "\n",
    "y_pred_model_PCA_4_0 = poisson_PCA_4_0.predict(x_test_model_PCA_4_0)\n",
    "y_test_array_model_PCA_4_0 = y_test_model_PCA_1_0\n",
    "\n",
    "\n",
    "print(\"Coefficients: \\n\", poisson_PCA_4_0)\n",
    "# The mean squared error\n",
    "print(\"Mean squared error: %.2f\" % mean_squared_error(y_test_array_model_PCA_4_0, y_pred_model_PCA_4_0))\n",
    "print(\"Mean absoulte error: %.2f\" % mean_absolute_error(y_test_array_model_PCA_4_0, y_pred_model_PCA_4_0))\n",
    "# The coefficient of determination: 1 is perfect prediction\n",
    "print(\"Coefficient of determination: %.2f\" % r2_score(y_test_array_model_PCA_4_0, y_pred_model_PCA_4_0))"
   ]
  },
  {
   "cell_type": "code",
   "execution_count": 71,
   "id": "3a7a6ec6",
   "metadata": {},
   "outputs": [
    {
     "name": "stdout",
     "output_type": "stream",
     "text": [
      "Coefficients: \n",
      " PoissonRegressor()\n",
      "Mean squared error: 209.15\n",
      "Mean absoulte error: 6.75\n",
      "Coefficient of determination: 0.04\n"
     ]
    },
    {
     "name": "stderr",
     "output_type": "stream",
     "text": [
      "C:\\Users\\pasit\\anaconda3\\lib\\site-packages\\sklearn\\utils\\validation.py:1107: DataConversionWarning: A column-vector y was passed when a 1d array was expected. Please change the shape of y to (n_samples, ), for example using ravel().\n",
      "  y = column_or_1d(y, warn=True)\n"
     ]
    }
   ],
   "source": [
    "#Poission Distribution Model\n",
    "poisson_PCA_4_1 = linear_model.PoissonRegressor()\n",
    "poisson_PCA_4_1.fit(x_train_model_PCA_4_1, y_train_model_PCA_4_1)\n",
    "\n",
    "y_pred_model_PCA_4_1 = poisson_PCA_4_1.predict(x_test_model_PCA_4_1)\n",
    "y_test_array_model_PCA_4_1 = y_test_model_PCA_4_1\n",
    "\n",
    "\n",
    "print(\"Coefficients: \\n\", poisson_PCA_4_1)\n",
    "# The mean squared error\n",
    "print(\"Mean squared error: %.2f\" % mean_squared_error(y_test_array_model_PCA_4_1, y_pred_model_PCA_4_1))\n",
    "print(\"Mean absoulte error: %.2f\" % mean_absolute_error(y_test_array_model_PCA_4_1, y_pred_model_PCA_4_1))\n",
    "# The coefficient of determination: 1 is perfect prediction\n",
    "print(\"Coefficient of determination: %.2f\" % r2_score(y_test_array_model_PCA_4_1, y_pred_model_PCA_4_1))"
   ]
  },
  {
   "cell_type": "code",
   "execution_count": null,
   "id": "e17e1626",
   "metadata": {},
   "outputs": [],
   "source": []
  },
  {
   "cell_type": "code",
   "execution_count": 72,
   "id": "ec41d6bb",
   "metadata": {},
   "outputs": [
    {
     "name": "stdout",
     "output_type": "stream",
     "text": [
      "Coefficients: \n",
      " DecisionTreeRegressor()\n",
      "Mean squared error: 2640.82\n",
      "Mean absoulte error: 29.12\n",
      "Coefficient of determination: -0.38\n"
     ]
    }
   ],
   "source": [
    "#Decision Trees Model\n",
    "dt_PCA_1_0 = DecisionTreeRegressor()\n",
    "dt_PCA_1_0.fit(x_train_model_PCA_1_0, y_train_model_PCA_1_0)\n",
    "\n",
    "y_pred_model_PCA_1_0 = dt_PCA_1_0.predict(x_test_model_PCA_1_0)\n",
    "y_test_array_model_PCA_1_0 = y_test_model_PCA_1_0\n",
    "\n",
    "\n",
    "print(\"Coefficients: \\n\", dt_PCA_1_0)\n",
    "# The mean squared error\n",
    "print(\"Mean squared error: %.2f\" % mean_squared_error(y_test_array_model_PCA_1_0, y_pred_model_PCA_1_0))\n",
    "print(\"Mean absoulte error: %.2f\" % mean_absolute_error(y_test_array_model_PCA_1_0, y_pred_model_PCA_1_0))\n",
    "# The coefficient of determination: 1 is perfect prediction\n",
    "print(\"Coefficient of determination: %.2f\" % r2_score(y_test_array_model_PCA_1_0, y_pred_model_PCA_1_0))"
   ]
  },
  {
   "cell_type": "code",
   "execution_count": 73,
   "id": "9c88c0fa",
   "metadata": {},
   "outputs": [
    {
     "name": "stdout",
     "output_type": "stream",
     "text": [
      "Coefficients: \n",
      " DecisionTreeRegressor()\n",
      "Mean squared error: 618.43\n",
      "Mean absoulte error: 12.78\n",
      "Coefficient of determination: -5.74\n"
     ]
    }
   ],
   "source": [
    "#Decision Trees Model\n",
    "dt_PCA_1_1 = DecisionTreeRegressor()\n",
    "dt_PCA_1_1.fit(x_train_model_PCA_1_1, y_train_model_PCA_1_1)\n",
    "\n",
    "y_pred_model_PCA_1_1 = dt_PCA_1_1.predict(x_test_model_PCA_1_1)\n",
    "y_test_array_model_PCA_1_1 = y_test_model_PCA_1_1\n",
    "\n",
    "\n",
    "print(\"Coefficients: \\n\", dt_PCA_1_1)\n",
    "# The mean squared error\n",
    "print(\"Mean squared error: %.2f\" % mean_squared_error(y_test_array_model_PCA_1_1, y_pred_model_PCA_1_1))\n",
    "print(\"Mean absoulte error: %.2f\" % mean_absolute_error(y_test_array_model_PCA_1_1, y_pred_model_PCA_1_1))\n",
    "# The coefficient of determination: 1 is perfect prediction\n",
    "print(\"Coefficient of determination: %.2f\" % r2_score(y_test_array_model_PCA_1_1, y_pred_model_PCA_1_1))"
   ]
  },
  {
   "cell_type": "code",
   "execution_count": 74,
   "id": "f2f42fe1",
   "metadata": {},
   "outputs": [
    {
     "name": "stdout",
     "output_type": "stream",
     "text": [
      "Coefficients: \n",
      " DecisionTreeRegressor()\n",
      "Mean squared error: 6107.03\n",
      "Mean absoulte error: 41.70\n",
      "Coefficient of determination: -0.77\n"
     ]
    }
   ],
   "source": [
    "#Decision Trees Model\n",
    "dt_PCA_2_0 = DecisionTreeRegressor()\n",
    "dt_PCA_2_0.fit(x_train_model_PCA_2_0, y_train_model_PCA_2_0)\n",
    "\n",
    "y_pred_model_PCA_2_0 = dt_PCA_2_0.predict(x_test_model_PCA_2_0)\n",
    "y_test_array_model_PCA_2_0 = y_test_model_PCA_2_0\n",
    "\n",
    "\n",
    "print(\"Coefficients: \\n\", dt_PCA_2_0)\n",
    "# The mean squared error\n",
    "print(\"Mean squared error: %.2f\" % mean_squared_error(y_test_array_model_PCA_2_0, y_pred_model_PCA_2_0))\n",
    "print(\"Mean absoulte error: %.2f\" % mean_absolute_error(y_test_array_model_PCA_1_0, y_pred_model_PCA_2_0))\n",
    "# The coefficient of determination: 1 is perfect prediction\n",
    "print(\"Coefficient of determination: %.2f\" % r2_score(y_test_array_model_PCA_2_0, y_pred_model_PCA_2_0))"
   ]
  },
  {
   "cell_type": "code",
   "execution_count": 75,
   "id": "a1ca51f7",
   "metadata": {},
   "outputs": [
    {
     "name": "stdout",
     "output_type": "stream",
     "text": [
      "Coefficients: \n",
      " DecisionTreeRegressor()\n",
      "Mean squared error: 347.41\n",
      "Mean absoulte error: 9.66\n",
      "Coefficient of determination: -3.58\n"
     ]
    }
   ],
   "source": [
    "#Decision Trees Model\n",
    "dt_PCA_2_1 = DecisionTreeRegressor()\n",
    "dt_PCA_2_1.fit(x_train_model_PCA_2_1, y_train_model_PCA_2_1)\n",
    "\n",
    "y_pred_model_PCA_2_1 = dt_PCA_2_1.predict(x_test_model_PCA_2_1)\n",
    "y_test_array_model_PCA_2_1 = y_test_model_PCA_2_1\n",
    "\n",
    "\n",
    "print(\"Coefficients: \\n\", dt_PCA_2_1)\n",
    "# The mean squared error\n",
    "print(\"Mean squared error: %.2f\" % mean_squared_error(y_test_array_model_PCA_2_1, y_pred_model_PCA_2_1))\n",
    "print(\"Mean absoulte error: %.2f\" % mean_absolute_error(y_test_array_model_PCA_2_1, y_pred_model_PCA_2_1))\n",
    "# The coefficient of determination: 1 is perfect prediction\n",
    "print(\"Coefficient of determination: %.2f\" % r2_score(y_test_array_model_PCA_2_1, y_pred_model_PCA_2_1))"
   ]
  },
  {
   "cell_type": "code",
   "execution_count": 76,
   "id": "02493ad7",
   "metadata": {},
   "outputs": [
    {
     "name": "stdout",
     "output_type": "stream",
     "text": [
      "Coefficients: \n",
      " DecisionTreeRegressor()\n",
      "Mean squared error: 5782.84\n",
      "Mean absoulte error: 41.18\n",
      "Coefficient of determination: -0.35\n"
     ]
    }
   ],
   "source": [
    "#Decision Trees Model\n",
    "dt_PCA_3_0 = DecisionTreeRegressor()\n",
    "dt_PCA_3_0.fit(x_train_model_PCA_3_0, y_train_model_PCA_3_0)\n",
    "\n",
    "y_pred_model_PCA_3_0 = dt_PCA_3_0.predict(x_test_model_PCA_3_0)\n",
    "y_test_array_model_PCA_3_0 = y_test_model_PCA_3_0\n",
    "\n",
    "\n",
    "print(\"Coefficients: \\n\", dt_PCA_3_0)\n",
    "# The mean squared error\n",
    "print(\"Mean squared error: %.2f\" % mean_squared_error(y_test_array_model_PCA_3_0, y_pred_model_PCA_3_0))\n",
    "print(\"Mean absoulte error: %.2f\" % mean_absolute_error(y_test_array_model_PCA_3_0, y_pred_model_PCA_3_0))\n",
    "# The coefficient of determination: 1 is perfect prediction\n",
    "print(\"Coefficient of determination: %.2f\" % r2_score(y_test_array_model_PCA_3_0, y_pred_model_PCA_3_0))"
   ]
  },
  {
   "cell_type": "code",
   "execution_count": 77,
   "id": "28b0be65",
   "metadata": {},
   "outputs": [
    {
     "name": "stdout",
     "output_type": "stream",
     "text": [
      "Coefficients: \n",
      " DecisionTreeRegressor()\n",
      "Mean squared error: 230.84\n",
      "Mean absoulte error: 7.49\n",
      "Coefficient of determination: -0.51\n"
     ]
    }
   ],
   "source": [
    "#Decision Trees Model\n",
    "dt_PCA_3_1 = DecisionTreeRegressor()\n",
    "dt_PCA_3_1.fit(x_train_model_PCA_3_1, y_train_model_PCA_3_1)\n",
    "\n",
    "y_pred_model_PCA_3_1 = dt_PCA_3_1.predict(x_test_model_PCA_3_1)\n",
    "y_test_array_model_PCA_3_1 = y_test_model_PCA_3_1\n",
    "\n",
    "\n",
    "print(\"Coefficients: \\n\", dt_PCA_3_1)\n",
    "# The mean squared error\n",
    "print(\"Mean squared error: %.2f\" % mean_squared_error(y_test_array_model_PCA_3_1, y_pred_model_PCA_3_1))\n",
    "print(\"Mean absoulte error: %.2f\" % mean_absolute_error(y_test_array_model_PCA_3_1, y_pred_model_PCA_3_1))\n",
    "# The coefficient of determination: 1 is perfect prediction\n",
    "print(\"Coefficient of determination: %.2f\" % r2_score(y_test_array_model_PCA_3_1, y_pred_model_PCA_3_1))"
   ]
  },
  {
   "cell_type": "code",
   "execution_count": 78,
   "id": "c9f3d8e6",
   "metadata": {},
   "outputs": [
    {
     "name": "stdout",
     "output_type": "stream",
     "text": [
      "Coefficients: \n",
      " DecisionTreeRegressor()\n",
      "Mean squared error: 2439.99\n",
      "Mean absoulte error: 32.26\n",
      "Coefficient of determination: -0.27\n"
     ]
    }
   ],
   "source": [
    "#Decision Trees Model\n",
    "dt_PCA_4_0 = DecisionTreeRegressor()\n",
    "dt_PCA_4_0.fit(x_train_model_PCA_4_0, y_train_model_PCA_4_0)\n",
    "\n",
    "y_pred_model_PCA_1_0 = dt_PCA_4_0.predict(x_test_model_PCA_4_0)\n",
    "y_test_array_model_PCA_4_0 = y_test_model_PCA_1_0\n",
    "\n",
    "\n",
    "print(\"Coefficients: \\n\", dt_PCA_4_0)\n",
    "# The mean squared error\n",
    "print(\"Mean squared error: %.2f\" % mean_squared_error(y_test_array_model_PCA_4_0, y_pred_model_PCA_4_0))\n",
    "print(\"Mean absoulte error: %.2f\" % mean_absolute_error(y_test_array_model_PCA_4_0, y_pred_model_PCA_4_0))\n",
    "# The coefficient of determination: 1 is perfect prediction\n",
    "print(\"Coefficient of determination: %.2f\" % r2_score(y_test_array_model_PCA_4_0, y_pred_model_PCA_4_0))"
   ]
  },
  {
   "cell_type": "code",
   "execution_count": 79,
   "id": "f0cbe4ad",
   "metadata": {},
   "outputs": [
    {
     "name": "stdout",
     "output_type": "stream",
     "text": [
      "Coefficients: \n",
      " DecisionTreeRegressor()\n",
      "Mean squared error: 257.86\n",
      "Mean absoulte error: 8.07\n",
      "Coefficient of determination: -0.18\n"
     ]
    }
   ],
   "source": [
    "#Decision Trees Model\n",
    "dt_PCA_4_1 = DecisionTreeRegressor()\n",
    "dt_PCA_4_1.fit(x_train_model_PCA_4_1, y_train_model_PCA_4_1)\n",
    "\n",
    "y_pred_model_PCA_4_1 = dt_PCA_4_1.predict(x_test_model_PCA_4_1)\n",
    "y_test_array_model_PCA_4_1 = y_test_model_PCA_4_1\n",
    "\n",
    "\n",
    "print(\"Coefficients: \\n\", dt_PCA_4_1)\n",
    "# The mean squared error\n",
    "print(\"Mean squared error: %.2f\" % mean_squared_error(y_test_array_model_PCA_4_1, y_pred_model_PCA_4_1))\n",
    "print(\"Mean absoulte error: %.2f\" % mean_absolute_error(y_test_array_model_PCA_4_1, y_pred_model_PCA_4_1))\n",
    "# The coefficient of determination: 1 is perfect prediction\n",
    "print(\"Coefficient of determination: %.2f\" % r2_score(y_test_array_model_PCA_4_1, y_pred_model_PCA_4_1))"
   ]
  },
  {
   "cell_type": "code",
   "execution_count": null,
   "id": "88e0a4fd",
   "metadata": {},
   "outputs": [],
   "source": []
  },
  {
   "cell_type": "code",
   "execution_count": null,
   "id": "87612d66",
   "metadata": {},
   "outputs": [],
   "source": []
  },
  {
   "cell_type": "code",
   "execution_count": null,
   "id": "9be9c473",
   "metadata": {},
   "outputs": [],
   "source": []
  },
  {
   "cell_type": "code",
   "execution_count": null,
   "id": "2d36c869",
   "metadata": {},
   "outputs": [],
   "source": []
  },
  {
   "cell_type": "code",
   "execution_count": null,
   "id": "5fd93823",
   "metadata": {},
   "outputs": [],
   "source": []
  },
  {
   "cell_type": "code",
   "execution_count": null,
   "id": "c461adb3",
   "metadata": {},
   "outputs": [],
   "source": []
  },
  {
   "cell_type": "code",
   "execution_count": null,
   "id": "679238ff",
   "metadata": {},
   "outputs": [],
   "source": []
  },
  {
   "cell_type": "code",
   "execution_count": null,
   "id": "18a3e87a",
   "metadata": {},
   "outputs": [],
   "source": []
  },
  {
   "cell_type": "code",
   "execution_count": null,
   "id": "806c8159",
   "metadata": {},
   "outputs": [],
   "source": []
  },
  {
   "cell_type": "code",
   "execution_count": null,
   "id": "49fe5c2b",
   "metadata": {},
   "outputs": [],
   "source": []
  }
 ],
 "metadata": {
  "kernelspec": {
   "display_name": "Python 3",
   "language": "python",
   "name": "python3"
  },
  "language_info": {
   "codemirror_mode": {
    "name": "ipython",
    "version": 3
   },
   "file_extension": ".py",
   "mimetype": "text/x-python",
   "name": "python",
   "nbconvert_exporter": "python",
   "pygments_lexer": "ipython3",
   "version": "3.8.8"
  }
 },
 "nbformat": 4,
 "nbformat_minor": 5
}
